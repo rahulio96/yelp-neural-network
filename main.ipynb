{
 "cells": [
  {
   "cell_type": "markdown",
   "id": "1948d138",
   "metadata": {},
   "source": [
    "# Yelp Rating Prediction FCNN\n",
    "\n",
    "Author: Rahul Gupta\n",
    "\n",
    "Goal of the project is to develop an FCNN (Fully Connected Neural Network) to predict Yelp rating scores based on the text data from user-written reviews."
   ]
  },
  {
   "cell_type": "markdown",
   "id": "7c6ac496",
   "metadata": {},
   "source": [
    "## Data Loading\n",
    "Need to first load, understand, and preprocess data for the neural network."
   ]
  },
  {
   "cell_type": "code",
   "execution_count": 2,
   "id": "96d89bb3",
   "metadata": {},
   "outputs": [],
   "source": [
    "import numpy as np\n",
    "import pandas as pd\n",
    "\n",
    "# Starter code\n",
    "business = pd.read_json('./data/yelp_academic_dataset_business.json', lines=True, nrows= 1000000)"
   ]
  },
  {
   "cell_type": "code",
   "execution_count": 3,
   "id": "2c31b205",
   "metadata": {},
   "outputs": [
    {
     "name": "stdout",
     "output_type": "stream",
     "text": [
      "(55815, 14)\n"
     ]
    },
    {
     "data": {
      "text/html": [
       "<div>\n",
       "<style scoped>\n",
       "    .dataframe tbody tr th:only-of-type {\n",
       "        vertical-align: middle;\n",
       "    }\n",
       "\n",
       "    .dataframe tbody tr th {\n",
       "        vertical-align: top;\n",
       "    }\n",
       "\n",
       "    .dataframe thead th {\n",
       "        text-align: right;\n",
       "    }\n",
       "</style>\n",
       "<table border=\"1\" class=\"dataframe\">\n",
       "  <thead>\n",
       "    <tr style=\"text-align: right;\">\n",
       "      <th></th>\n",
       "      <th>business_id</th>\n",
       "      <th>name</th>\n",
       "      <th>address</th>\n",
       "      <th>city</th>\n",
       "      <th>state</th>\n",
       "      <th>postal_code</th>\n",
       "      <th>latitude</th>\n",
       "      <th>longitude</th>\n",
       "      <th>stars</th>\n",
       "      <th>review_count</th>\n",
       "      <th>is_open</th>\n",
       "      <th>attributes</th>\n",
       "      <th>categories</th>\n",
       "      <th>hours</th>\n",
       "    </tr>\n",
       "  </thead>\n",
       "  <tbody>\n",
       "    <tr>\n",
       "      <th>2</th>\n",
       "      <td>tUFrWirKiKi_TAnsVWINQQ</td>\n",
       "      <td>Target</td>\n",
       "      <td>5255 E Broadway Blvd</td>\n",
       "      <td>Tucson</td>\n",
       "      <td>AZ</td>\n",
       "      <td>85711</td>\n",
       "      <td>32.223236</td>\n",
       "      <td>-110.880452</td>\n",
       "      <td>3.5</td>\n",
       "      <td>22</td>\n",
       "      <td>0</td>\n",
       "      <td>{'BikeParking': 'True', 'BusinessAcceptsCredit...</td>\n",
       "      <td>Department Stores, Shopping, Fashion, Home &amp; G...</td>\n",
       "      <td>{'Monday': '8:0-22:0', 'Tuesday': '8:0-22:0', ...</td>\n",
       "    </tr>\n",
       "    <tr>\n",
       "      <th>3</th>\n",
       "      <td>MTSW4McQd7CbVtyjqoe9mw</td>\n",
       "      <td>St Honore Pastries</td>\n",
       "      <td>935 Race St</td>\n",
       "      <td>Philadelphia</td>\n",
       "      <td>PA</td>\n",
       "      <td>19107</td>\n",
       "      <td>39.955505</td>\n",
       "      <td>-75.155564</td>\n",
       "      <td>4.0</td>\n",
       "      <td>80</td>\n",
       "      <td>1</td>\n",
       "      <td>{'RestaurantsDelivery': 'False', 'OutdoorSeati...</td>\n",
       "      <td>Restaurants, Food, Bubble Tea, Coffee &amp; Tea, B...</td>\n",
       "      <td>{'Monday': '7:0-20:0', 'Tuesday': '7:0-20:0', ...</td>\n",
       "    </tr>\n",
       "    <tr>\n",
       "      <th>12</th>\n",
       "      <td>il_Ro8jwPlHresjw9EGmBg</td>\n",
       "      <td>Denny's</td>\n",
       "      <td>8901 US 31 S</td>\n",
       "      <td>Indianapolis</td>\n",
       "      <td>IN</td>\n",
       "      <td>46227</td>\n",
       "      <td>39.637133</td>\n",
       "      <td>-86.127217</td>\n",
       "      <td>2.5</td>\n",
       "      <td>28</td>\n",
       "      <td>1</td>\n",
       "      <td>{'RestaurantsReservations': 'False', 'Restaura...</td>\n",
       "      <td>American (Traditional), Restaurants, Diners, B...</td>\n",
       "      <td>{'Monday': '6:0-22:0', 'Tuesday': '6:0-22:0', ...</td>\n",
       "    </tr>\n",
       "    <tr>\n",
       "      <th>14</th>\n",
       "      <td>0bPLkL0QhhPO5kt1_EXmNQ</td>\n",
       "      <td>Zio's Italian Market</td>\n",
       "      <td>2575 E Bay Dr</td>\n",
       "      <td>Largo</td>\n",
       "      <td>FL</td>\n",
       "      <td>33771</td>\n",
       "      <td>27.916116</td>\n",
       "      <td>-82.760461</td>\n",
       "      <td>4.5</td>\n",
       "      <td>100</td>\n",
       "      <td>0</td>\n",
       "      <td>{'OutdoorSeating': 'False', 'RestaurantsGoodFo...</td>\n",
       "      <td>Food, Delis, Italian, Bakeries, Restaurants</td>\n",
       "      <td>{'Monday': '10:0-18:0', 'Tuesday': '10:0-20:0'...</td>\n",
       "    </tr>\n",
       "    <tr>\n",
       "      <th>15</th>\n",
       "      <td>MUTTqe8uqyMdBl186RmNeA</td>\n",
       "      <td>Tuna Bar</td>\n",
       "      <td>205 Race St</td>\n",
       "      <td>Philadelphia</td>\n",
       "      <td>PA</td>\n",
       "      <td>19106</td>\n",
       "      <td>39.953949</td>\n",
       "      <td>-75.143226</td>\n",
       "      <td>4.0</td>\n",
       "      <td>245</td>\n",
       "      <td>1</td>\n",
       "      <td>{'RestaurantsReservations': 'True', 'Restauran...</td>\n",
       "      <td>Sushi Bars, Restaurants, Japanese</td>\n",
       "      <td>{'Tuesday': '13:30-22:0', 'Wednesday': '13:30-...</td>\n",
       "    </tr>\n",
       "  </tbody>\n",
       "</table>\n",
       "</div>"
      ],
      "text/plain": [
       "               business_id                  name               address  \\\n",
       "2   tUFrWirKiKi_TAnsVWINQQ                Target  5255 E Broadway Blvd   \n",
       "3   MTSW4McQd7CbVtyjqoe9mw    St Honore Pastries           935 Race St   \n",
       "12  il_Ro8jwPlHresjw9EGmBg               Denny's          8901 US 31 S   \n",
       "14  0bPLkL0QhhPO5kt1_EXmNQ  Zio's Italian Market         2575 E Bay Dr   \n",
       "15  MUTTqe8uqyMdBl186RmNeA              Tuna Bar           205 Race St   \n",
       "\n",
       "            city state postal_code   latitude   longitude  stars  \\\n",
       "2         Tucson    AZ       85711  32.223236 -110.880452    3.5   \n",
       "3   Philadelphia    PA       19107  39.955505  -75.155564    4.0   \n",
       "12  Indianapolis    IN       46227  39.637133  -86.127217    2.5   \n",
       "14         Largo    FL       33771  27.916116  -82.760461    4.5   \n",
       "15  Philadelphia    PA       19106  39.953949  -75.143226    4.0   \n",
       "\n",
       "    review_count  is_open                                         attributes  \\\n",
       "2             22        0  {'BikeParking': 'True', 'BusinessAcceptsCredit...   \n",
       "3             80        1  {'RestaurantsDelivery': 'False', 'OutdoorSeati...   \n",
       "12            28        1  {'RestaurantsReservations': 'False', 'Restaura...   \n",
       "14           100        0  {'OutdoorSeating': 'False', 'RestaurantsGoodFo...   \n",
       "15           245        1  {'RestaurantsReservations': 'True', 'Restauran...   \n",
       "\n",
       "                                           categories  \\\n",
       "2   Department Stores, Shopping, Fashion, Home & G...   \n",
       "3   Restaurants, Food, Bubble Tea, Coffee & Tea, B...   \n",
       "12  American (Traditional), Restaurants, Diners, B...   \n",
       "14        Food, Delis, Italian, Bakeries, Restaurants   \n",
       "15                  Sushi Bars, Restaurants, Japanese   \n",
       "\n",
       "                                                hours  \n",
       "2   {'Monday': '8:0-22:0', 'Tuesday': '8:0-22:0', ...  \n",
       "3   {'Monday': '7:0-20:0', 'Tuesday': '7:0-20:0', ...  \n",
       "12  {'Monday': '6:0-22:0', 'Tuesday': '6:0-22:0', ...  \n",
       "14  {'Monday': '10:0-18:0', 'Tuesday': '10:0-20:0'...  \n",
       "15  {'Tuesday': '13:30-22:0', 'Wednesday': '13:30-...  "
      ]
     },
     "execution_count": 3,
     "metadata": {},
     "output_type": "execute_result"
    }
   ],
   "source": [
    "business.dropna(inplace=True)\n",
    "business_filtered = business[business['review_count'] >= 20]\n",
    "print(business_filtered.shape)\n",
    "business_filtered.head()"
   ]
  },
  {
   "cell_type": "code",
   "execution_count": 4,
   "id": "412ba951",
   "metadata": {},
   "outputs": [
    {
     "name": "stdout",
     "output_type": "stream",
     "text": [
      "(5820216, 9)\n"
     ]
    }
   ],
   "source": [
    "# Get all reviews for businesses in business_filtered\n",
    "business_ids = set(business_filtered['business_id'])\n",
    "\n",
    "review_chunk = 1000000\n",
    "review_filtered = pd.DataFrame()\n",
    "\n",
    "# Use chunking for performance\n",
    "review_chunk_iter = pd.read_json('./data/yelp_academic_dataset_review.json', lines=True, chunksize=review_chunk)\n",
    "\n",
    "# Getting all reviews for businesses that have over 20 reviews\n",
    "for chunk in review_chunk_iter:\n",
    "    chunk_filtered = chunk[chunk['business_id'].isin(business_ids)]\n",
    "    review_filtered = pd.concat([review_filtered, chunk_filtered])\n",
    "\n",
    "print(review_filtered.shape)"
   ]
  },
  {
   "cell_type": "markdown",
   "id": "d7f8f95a",
   "metadata": {},
   "source": [
    "## Preprocess\n",
    "\n",
    "Join the tables together such that we have a business and all the reviews for each business in one row.\n",
    "\n",
    "We'll use TFIDF on all the reviews for a business to predict the business's rating."
   ]
  },
  {
   "cell_type": "code",
   "execution_count": 5,
   "id": "3b490be8",
   "metadata": {},
   "outputs": [
    {
     "name": "stdout",
     "output_type": "stream",
     "text": [
      "(55815, 3)\n"
     ]
    },
    {
     "data": {
      "text/html": [
       "<div>\n",
       "<style scoped>\n",
       "    .dataframe tbody tr th:only-of-type {\n",
       "        vertical-align: middle;\n",
       "    }\n",
       "\n",
       "    .dataframe tbody tr th {\n",
       "        vertical-align: top;\n",
       "    }\n",
       "\n",
       "    .dataframe thead th {\n",
       "        text-align: right;\n",
       "    }\n",
       "</style>\n",
       "<table border=\"1\" class=\"dataframe\">\n",
       "  <thead>\n",
       "    <tr style=\"text-align: right;\">\n",
       "      <th></th>\n",
       "      <th>business_id</th>\n",
       "      <th>all_reviews</th>\n",
       "      <th>stars</th>\n",
       "    </tr>\n",
       "  </thead>\n",
       "  <tbody>\n",
       "    <tr>\n",
       "      <th>0</th>\n",
       "      <td>---kPU91CF4Lq2-WlRu9Lw</td>\n",
       "      <td>Ate here for the 1st time on Saturday 08/07/20...</td>\n",
       "      <td>4.5</td>\n",
       "    </tr>\n",
       "    <tr>\n",
       "      <th>1</th>\n",
       "      <td>--8IbOsAAxjKRoYsBFL-PA</td>\n",
       "      <td>Took me for 40 bucks through grubhub, no call ...</td>\n",
       "      <td>3.0</td>\n",
       "    </tr>\n",
       "    <tr>\n",
       "      <th>2</th>\n",
       "      <td>--9osgUCSDUWUkoTLdvYhQ</td>\n",
       "      <td>I loved this!!!! I was set up on a blind date ...</td>\n",
       "      <td>5.0</td>\n",
       "    </tr>\n",
       "    <tr>\n",
       "      <th>3</th>\n",
       "      <td>--ARBQr1WMsTWiwOKOj-FQ</td>\n",
       "      <td>What a great neighborhood place to wine it up....</td>\n",
       "      <td>4.5</td>\n",
       "    </tr>\n",
       "    <tr>\n",
       "      <th>4</th>\n",
       "      <td>--MbOh2O1pATkXa7xbU6LA</td>\n",
       "      <td>I always pass the sign for sweet lizard on my ...</td>\n",
       "      <td>4.0</td>\n",
       "    </tr>\n",
       "  </tbody>\n",
       "</table>\n",
       "</div>"
      ],
      "text/plain": [
       "              business_id                                        all_reviews  \\\n",
       "0  ---kPU91CF4Lq2-WlRu9Lw  Ate here for the 1st time on Saturday 08/07/20...   \n",
       "1  --8IbOsAAxjKRoYsBFL-PA  Took me for 40 bucks through grubhub, no call ...   \n",
       "2  --9osgUCSDUWUkoTLdvYhQ  I loved this!!!! I was set up on a blind date ...   \n",
       "3  --ARBQr1WMsTWiwOKOj-FQ  What a great neighborhood place to wine it up....   \n",
       "4  --MbOh2O1pATkXa7xbU6LA  I always pass the sign for sweet lizard on my ...   \n",
       "\n",
       "   stars  \n",
       "0    4.5  \n",
       "1    3.0  \n",
       "2    5.0  \n",
       "3    4.5  \n",
       "4    4.0  "
      ]
     },
     "execution_count": 5,
     "metadata": {},
     "output_type": "execute_result"
    }
   ],
   "source": [
    "df_review_agg = review_filtered.groupby('business_id')['text'].sum()\n",
    "\n",
    "df_grouped = pd.DataFrame({\n",
    "    'business_id': df_review_agg.index, \n",
    "    'all_reviews': df_review_agg.values,\n",
    "    })\n",
    "\n",
    "# Join the business star ratings w/ business IDs\n",
    "# Normalize the star ratings\n",
    "df_grouped = df_grouped.merge(business_filtered[['business_id', 'stars']], on='business_id', how='inner')\n",
    "df_grouped['stars'] = df_grouped['stars']\n",
    "\n",
    "print(df_grouped.shape)\n",
    "df_grouped.head()"
   ]
  },
  {
   "cell_type": "markdown",
   "id": "8c689599",
   "metadata": {},
   "source": [
    "## RMSE Function"
   ]
  },
  {
   "cell_type": "code",
   "execution_count": 6,
   "id": "25af83c0",
   "metadata": {},
   "outputs": [],
   "source": [
    "from sklearn import metrics\n",
    "\n",
    "# Predict and measure RMSE\n",
    "def print_rsme(model, x_test, y_test):\n",
    "    pred = model.predict(x_test)\n",
    "    score = np.sqrt(metrics.mean_squared_error(pred,y_test))\n",
    "    \n",
    "    print(\"RMSE Score: {}\".format(score))\n"
   ]
  },
  {
   "cell_type": "markdown",
   "id": "70da283c",
   "metadata": {},
   "source": [
    "## Lift Chart Function"
   ]
  },
  {
   "cell_type": "code",
   "execution_count": 17,
   "id": "62500685",
   "metadata": {},
   "outputs": [],
   "source": [
    "# Function from lab #4\n",
    "import matplotlib.pyplot as plt\n",
    "\n",
    "# Regression chart.\n",
    "def chart_regression(pred,y,sort=True):\n",
    "    t = pd.DataFrame({'pred' : pred, 'y' : y.flatten()})\n",
    "    if sort:\n",
    "        t.sort_values(by=['y'],inplace=True)\n",
    "    \n",
    "    b = plt.plot(t['pred'].tolist(),label='prediction')\n",
    "    a = plt.plot(t['y'].tolist(),label='expected')\n",
    "    plt.ylabel('output')\n",
    "    plt.legend()\n",
    "    plt.show()\n",
    "\n",
    "# Plot the chart\n",
    "# chart_regression(pred.flatten(),y_test, sort=True)"
   ]
  },
  {
   "cell_type": "markdown",
   "id": "80a433ee",
   "metadata": {},
   "source": [
    "## Applying TFIDF\n",
    "Use TFIDF on review text to extract relevant features. Ignore stop words. Found that a large number of TFIDF features worked best."
   ]
  },
  {
   "cell_type": "code",
   "execution_count": 8,
   "id": "f2011685",
   "metadata": {},
   "outputs": [],
   "source": [
    "import sklearn.feature_extraction.text as sk_text\n",
    "\n",
    "vectorizer = sk_text.TfidfVectorizer(stop_words='english', max_features=10000, min_df=1, max_df=0.95)\n",
    "\n",
    "x = vectorizer.fit_transform(df_grouped['all_reviews'])\n",
    "y = df_grouped[['stars']].to_numpy()"
   ]
  },
  {
   "cell_type": "code",
   "execution_count": 9,
   "id": "b0fda085",
   "metadata": {},
   "outputs": [
    {
     "data": {
      "text/plain": [
       "array(['00', '000', '00am', '00pm', '01', '02', '05', '07', '08', '09',\n",
       "       '10', '100', '1000', '101', '10am', '10pm', '10th', '11', '110',\n",
       "       '11am', '11pm', '11th', '12', '120', '1200', '125', '12pm', '12th',\n",
       "       '13', '130', '13th', '14', '140', '15', '150', '1500', '15min',\n",
       "       '15pm', '15th', '16'], dtype=object)"
      ]
     },
     "execution_count": 9,
     "metadata": {},
     "output_type": "execute_result"
    }
   ],
   "source": [
    "vectorizer.get_feature_names_out()[:40]"
   ]
  },
  {
   "cell_type": "markdown",
   "id": "fe8d85af",
   "metadata": {},
   "source": [
    "## Train Test Split\n",
    "Splitting the training and resting data (80/20)"
   ]
  },
  {
   "cell_type": "code",
   "execution_count": 10,
   "id": "dfc95d02",
   "metadata": {},
   "outputs": [],
   "source": [
    "from sklearn.model_selection import train_test_split\n",
    "\n",
    "x_train, x_test, y_train, y_test = train_test_split(x, y, test_size=0.2, random_state=42)"
   ]
  },
  {
   "cell_type": "markdown",
   "id": "9eb95737",
   "metadata": {},
   "source": [
    "## FCNN Model\n",
    "Found out through experimentation that a smaller model works better with dropout layers and a large amount of TFIDF features."
   ]
  },
  {
   "cell_type": "code",
   "execution_count": 11,
   "id": "c9a23e7e",
   "metadata": {},
   "outputs": [
    {
     "name": "stderr",
     "output_type": "stream",
     "text": [
      "c:\\Users\\rahgu\\anaconda3\\Lib\\site-packages\\keras\\src\\layers\\core\\dense.py:92: UserWarning: Do not pass an `input_shape`/`input_dim` argument to a layer. When using Sequential models, prefer using an `Input(shape)` object as the first layer in the model instead.\n",
      "  super().__init__(activity_regularizer=activity_regularizer, **kwargs)\n"
     ]
    },
    {
     "name": "stdout",
     "output_type": "stream",
     "text": [
      "Epoch 1/1000\n",
      "1396/1396 - 62s - 44ms/step - loss: 0.3801 - val_loss: 0.1402\n",
      "Epoch 2/1000\n",
      "1396/1396 - 56s - 40ms/step - loss: 0.1944 - val_loss: 0.0891\n",
      "Epoch 3/1000\n",
      "1396/1396 - 55s - 40ms/step - loss: 0.1586 - val_loss: 0.0965\n",
      "Epoch 4/1000\n",
      "1396/1396 - 55s - 39ms/step - loss: 0.1394 - val_loss: 0.0845\n",
      "Epoch 5/1000\n",
      "1396/1396 - 55s - 39ms/step - loss: 0.1194 - val_loss: 0.0897\n",
      "Epoch 6/1000\n",
      "1396/1396 - 55s - 39ms/step - loss: 0.1038 - val_loss: 0.0739\n",
      "Epoch 7/1000\n",
      "1396/1396 - 55s - 40ms/step - loss: 0.0907 - val_loss: 0.0890\n",
      "Epoch 8/1000\n",
      "1396/1396 - 55s - 39ms/step - loss: 0.0788 - val_loss: 0.0834\n",
      "Epoch 9/1000\n",
      "1396/1396 - 55s - 39ms/step - loss: 0.0708 - val_loss: 0.0802\n",
      "Epoch 10/1000\n",
      "1396/1396 - 55s - 39ms/step - loss: 0.0623 - val_loss: 0.0798\n",
      "Epoch 11/1000\n",
      "1396/1396 - 55s - 39ms/step - loss: 0.0561 - val_loss: 0.0789\n",
      "Epoch 11: early stopping\n",
      "\u001b[1m349/349\u001b[0m \u001b[32m━━━━━━━━━━━━━━━━━━━━\u001b[0m\u001b[37m\u001b[0m \u001b[1m2s\u001b[0m 6ms/step\n",
      "RMSE Score: 0.2809287578771102\n"
     ]
    }
   ],
   "source": [
    "from tensorflow.keras.models import Sequential\n",
    "from tensorflow.keras.layers import Dense\n",
    "from tensorflow.keras.callbacks import EarlyStopping\n",
    "from tensorflow.keras.layers import Dropout\n",
    "\n",
    "model = Sequential()\n",
    "\n",
    "model.add(Dense(500, input_dim=x.shape[1], activation='relu'))\n",
    "model.add(Dropout(0.5))\n",
    "model.add(Dense(125, activation='relu'))\n",
    "model.add(Dropout(0.3))\n",
    "model.add(Dense(1))\n",
    "\n",
    "# sgd_modified = optimizers.SGD(learning_rate=0.001)\n",
    "\n",
    "model.compile(loss='mean_squared_error', optimizer='adam')\n",
    "\n",
    "# Early exit\n",
    "monitor = EarlyStopping(monitor='val_loss', min_delta=0, patience=5, verbose=1, mode='auto')\n",
    "model.fit(x_train, y_train, validation_data=(x_test,y_test), callbacks=[monitor], verbose=2, epochs=1000)\n",
    "\n",
    "print_rsme(model, x_test, y_test)"
   ]
  },
  {
   "cell_type": "code",
   "execution_count": 13,
   "id": "22c18c10",
   "metadata": {},
   "outputs": [
    {
     "name": "stdout",
     "output_type": "stream",
     "text": [
      "\u001b[1m349/349\u001b[0m \u001b[32m━━━━━━━━━━━━━━━━━━━━\u001b[0m\u001b[37m\u001b[0m \u001b[1m2s\u001b[0m 6ms/step\n",
      "RMSE Score: 0.2809287578771102\n"
     ]
    }
   ],
   "source": [
    "print_rsme(model, x_test, y_test)"
   ]
  },
  {
   "cell_type": "code",
   "execution_count": 18,
   "id": "ae2023e9",
   "metadata": {},
   "outputs": [
    {
     "name": "stdout",
     "output_type": "stream",
     "text": [
      "\u001b[1m349/349\u001b[0m \u001b[32m━━━━━━━━━━━━━━━━━━━━\u001b[0m\u001b[37m\u001b[0m \u001b[1m2s\u001b[0m 6ms/step\n"
     ]
    },
    {
     "data": {
      "image/png": "[encoded data removed]",
      "text/plain": [
       "<Figure size 640x480 with 1 Axes>"
      ]
     },
     "metadata": {},
     "output_type": "display_data"
    }
   ],
   "source": [
    "pred = model.predict(x_test)\n",
    "chart_regression(pred.flatten(), y_test, sort=True)"
   ]
  },
  {
   "cell_type": "markdown",
   "id": "146c9f4d",
   "metadata": {},
   "source": [
    "## Predictions of 5 Businesses\n",
    "Try the best (TFIDF only) model on 5 businesses"
   ]
  },
  {
   "cell_type": "code",
   "execution_count": 28,
   "id": "807c9f8c",
   "metadata": {},
   "outputs": [
    {
     "name": "stdout",
     "output_type": "stream",
     "text": [
      "(5, 4)\n"
     ]
    },
    {
     "data": {
      "text/html": [
       "<div>\n",
       "<style scoped>\n",
       "    .dataframe tbody tr th:only-of-type {\n",
       "        vertical-align: middle;\n",
       "    }\n",
       "\n",
       "    .dataframe tbody tr th {\n",
       "        vertical-align: top;\n",
       "    }\n",
       "\n",
       "    .dataframe thead th {\n",
       "        text-align: right;\n",
       "    }\n",
       "</style>\n",
       "<table border=\"1\" class=\"dataframe\">\n",
       "  <thead>\n",
       "    <tr style=\"text-align: right;\">\n",
       "      <th></th>\n",
       "      <th>business_id</th>\n",
       "      <th>all_reviews</th>\n",
       "      <th>stars</th>\n",
       "      <th>name</th>\n",
       "    </tr>\n",
       "  </thead>\n",
       "  <tbody>\n",
       "    <tr>\n",
       "      <th>0</th>\n",
       "      <td>---kPU91CF4Lq2-WlRu9Lw</td>\n",
       "      <td>Ate here for the 1st time on Saturday 08/07/20...</td>\n",
       "      <td>4.5</td>\n",
       "      <td>Frankie's Raw Bar</td>\n",
       "    </tr>\n",
       "    <tr>\n",
       "      <th>1</th>\n",
       "      <td>--8IbOsAAxjKRoYsBFL-PA</td>\n",
       "      <td>Took me for 40 bucks through grubhub, no call ...</td>\n",
       "      <td>3.0</td>\n",
       "      <td>The Original Italian Pie</td>\n",
       "    </tr>\n",
       "    <tr>\n",
       "      <th>2</th>\n",
       "      <td>--9osgUCSDUWUkoTLdvYhQ</td>\n",
       "      <td>I loved this!!!! I was set up on a blind date ...</td>\n",
       "      <td>5.0</td>\n",
       "      <td>Will You Escape?</td>\n",
       "    </tr>\n",
       "    <tr>\n",
       "      <th>3</th>\n",
       "      <td>--ARBQr1WMsTWiwOKOj-FQ</td>\n",
       "      <td>What a great neighborhood place to wine it up....</td>\n",
       "      <td>4.5</td>\n",
       "      <td>Traveling Corks</td>\n",
       "    </tr>\n",
       "    <tr>\n",
       "      <th>4</th>\n",
       "      <td>--MbOh2O1pATkXa7xbU6LA</td>\n",
       "      <td>I always pass the sign for sweet lizard on my ...</td>\n",
       "      <td>4.0</td>\n",
       "      <td>Sweet Lizard</td>\n",
       "    </tr>\n",
       "  </tbody>\n",
       "</table>\n",
       "</div>"
      ],
      "text/plain": [
       "              business_id                                        all_reviews  \\\n",
       "0  ---kPU91CF4Lq2-WlRu9Lw  Ate here for the 1st time on Saturday 08/07/20...   \n",
       "1  --8IbOsAAxjKRoYsBFL-PA  Took me for 40 bucks through grubhub, no call ...   \n",
       "2  --9osgUCSDUWUkoTLdvYhQ  I loved this!!!! I was set up on a blind date ...   \n",
       "3  --ARBQr1WMsTWiwOKOj-FQ  What a great neighborhood place to wine it up....   \n",
       "4  --MbOh2O1pATkXa7xbU6LA  I always pass the sign for sweet lizard on my ...   \n",
       "\n",
       "   stars                      name  \n",
       "0    4.5         Frankie's Raw Bar  \n",
       "1    3.0  The Original Italian Pie  \n",
       "2    5.0          Will You Escape?  \n",
       "3    4.5           Traveling Corks  \n",
       "4    4.0              Sweet Lizard  "
      ]
     },
     "execution_count": 28,
     "metadata": {},
     "output_type": "execute_result"
    }
   ],
   "source": [
    "df_5 = df_grouped.merge(business_filtered[['name', 'business_id']], on='business_id', how='inner')\n",
    "df_5['stars'] = df_grouped['stars']\n",
    "\n",
    "df_5 = df_5[:5]\n",
    "\n",
    "print(df_5.shape)\n",
    "df_5"
   ]
  },
  {
   "cell_type": "code",
   "execution_count": 29,
   "id": "f9a790e1",
   "metadata": {},
   "outputs": [
    {
     "data": {
      "text/plain": [
       "<Compressed Sparse Row sparse matrix of dtype 'float64'\n",
       "\twith 2140 stored elements and shape (5, 10000)>"
      ]
     },
     "execution_count": 29,
     "metadata": {},
     "output_type": "execute_result"
    }
   ],
   "source": [
    "# NOT FIT TRANSFROM, just transform, we fitted already during prev. TFIDF\n",
    "\n",
    "x_5 = vectorizer.transform(df_5['all_reviews'])\n",
    "y_5 = df_5[['stars']].to_numpy()\n",
    "\n",
    "x_5"
   ]
  },
  {
   "cell_type": "code",
   "execution_count": 30,
   "id": "3d23343a",
   "metadata": {},
   "outputs": [
    {
     "name": "stdout",
     "output_type": "stream",
     "text": [
      "(5, 10000)\n",
      "(11163, 10000)\n",
      "\u001b[1m1/1\u001b[0m \u001b[32m━━━━━━━━━━━━━━━━━━━━\u001b[0m\u001b[37m\u001b[0m \u001b[1m0s\u001b[0m 127ms/step\n"
     ]
    },
    {
     "data": {
      "text/html": [
       "<div>\n",
       "<style scoped>\n",
       "    .dataframe tbody tr th:only-of-type {\n",
       "        vertical-align: middle;\n",
       "    }\n",
       "\n",
       "    .dataframe tbody tr th {\n",
       "        vertical-align: top;\n",
       "    }\n",
       "\n",
       "    .dataframe thead th {\n",
       "        text-align: right;\n",
       "    }\n",
       "</style>\n",
       "<table border=\"1\" class=\"dataframe\">\n",
       "  <thead>\n",
       "    <tr style=\"text-align: right;\">\n",
       "      <th></th>\n",
       "      <th>business_id</th>\n",
       "      <th>name</th>\n",
       "      <th>true_stars</th>\n",
       "      <th>predicted_stars</th>\n",
       "    </tr>\n",
       "  </thead>\n",
       "  <tbody>\n",
       "    <tr>\n",
       "      <th>0</th>\n",
       "      <td>---kPU91CF4Lq2-WlRu9Lw</td>\n",
       "      <td>Frankie's Raw Bar</td>\n",
       "      <td>4.5</td>\n",
       "      <td>4.410551</td>\n",
       "    </tr>\n",
       "    <tr>\n",
       "      <th>1</th>\n",
       "      <td>--8IbOsAAxjKRoYsBFL-PA</td>\n",
       "      <td>The Original Italian Pie</td>\n",
       "      <td>3.0</td>\n",
       "      <td>3.046787</td>\n",
       "    </tr>\n",
       "    <tr>\n",
       "      <th>2</th>\n",
       "      <td>--9osgUCSDUWUkoTLdvYhQ</td>\n",
       "      <td>Will You Escape?</td>\n",
       "      <td>5.0</td>\n",
       "      <td>5.165073</td>\n",
       "    </tr>\n",
       "    <tr>\n",
       "      <th>3</th>\n",
       "      <td>--ARBQr1WMsTWiwOKOj-FQ</td>\n",
       "      <td>Traveling Corks</td>\n",
       "      <td>4.5</td>\n",
       "      <td>4.732890</td>\n",
       "    </tr>\n",
       "    <tr>\n",
       "      <th>4</th>\n",
       "      <td>--MbOh2O1pATkXa7xbU6LA</td>\n",
       "      <td>Sweet Lizard</td>\n",
       "      <td>4.0</td>\n",
       "      <td>3.549117</td>\n",
       "    </tr>\n",
       "  </tbody>\n",
       "</table>\n",
       "</div>"
      ],
      "text/plain": [
       "              business_id                      name  true_stars  \\\n",
       "0  ---kPU91CF4Lq2-WlRu9Lw         Frankie's Raw Bar         4.5   \n",
       "1  --8IbOsAAxjKRoYsBFL-PA  The Original Italian Pie         3.0   \n",
       "2  --9osgUCSDUWUkoTLdvYhQ          Will You Escape?         5.0   \n",
       "3  --ARBQr1WMsTWiwOKOj-FQ           Traveling Corks         4.5   \n",
       "4  --MbOh2O1pATkXa7xbU6LA              Sweet Lizard         4.0   \n",
       "\n",
       "   predicted_stars  \n",
       "0         4.410551  \n",
       "1         3.046787  \n",
       "2         5.165073  \n",
       "3         4.732890  \n",
       "4         3.549117  "
      ]
     },
     "execution_count": 30,
     "metadata": {},
     "output_type": "execute_result"
    }
   ],
   "source": [
    "print(x_5.shape)\n",
    "print(x_test.shape)\n",
    "\n",
    "pred = model.predict(x_5)\n",
    "\n",
    "true_stars = df_5['stars']\n",
    "df_5.drop('stars', axis=1, inplace=True)\n",
    "df_5.drop('all_reviews', axis=1, inplace=True)\n",
    "\n",
    "# Reorder so true and predicted are next to each other\n",
    "df_5['true_stars'] = true_stars\n",
    "df_5['predicted_stars'] = pred\n",
    "\n",
    "df_5"
   ]
  }
 ],
 "metadata": {
  "kernelspec": {
   "display_name": "base",
   "language": "python",
   "name": "python3"
  },
  "language_info": {
   "codemirror_mode": {
    "name": "ipython",
    "version": 3
   },
   "file_extension": ".py",
   "mimetype": "text/x-python",
   "name": "python",
   "nbconvert_exporter": "python",
   "pygments_lexer": "ipython3",
   "version": "3.13.5"
  }
 },
 "nbformat": 4,
 "nbformat_minor": 5
}
