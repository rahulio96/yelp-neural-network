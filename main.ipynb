{
 "cells": [
  {
   "cell_type": "markdown",
   "id": "1948d138",
   "metadata": {},
   "source": [
    "## Yelp Rating Prediction FCNN\n",
    "\n",
    "Author: Rahul Gupta\n",
    "\n",
    "Goal of the project is to develop an FCNN (Fully Connected Neural Network) to predict Yelp rating scores based on the text data from user-written reviews."
   ]
  },
  {
   "cell_type": "markdown",
   "id": "7c6ac496",
   "metadata": {},
   "source": [
    "### Data Loading\n",
    "Need to first load, understand, and preprocess data for the neural network."
   ]
  },
  {
   "cell_type": "code",
   "execution_count": 40,
   "id": "96d89bb3",
   "metadata": {},
   "outputs": [],
   "source": [
    "import numpy as np\n",
    "import pandas as pd\n",
    "\n",
    "# Starter code\n",
    "review = pd.read_json('./data/yelp_academic_dataset_review.json', lines=True, nrows= 1000000)\n",
    "business = pd.read_json('./data/yelp_academic_dataset_business.json', lines=True, nrows= 1000000)"
   ]
  },
  {
   "cell_type": "code",
   "execution_count": 41,
   "id": "c6aa5775",
   "metadata": {},
   "outputs": [
    {
     "name": "stdout",
     "output_type": "stream",
     "text": [
      "(1000000, 9)\n"
     ]
    }
   ],
   "source": [
    "review.dropna(inplace=True)\n",
    "review.head()\n",
    "print(review.shape)"
   ]
  },
  {
   "cell_type": "code",
   "execution_count": 42,
   "id": "2c31b205",
   "metadata": {},
   "outputs": [
    {
     "name": "stdout",
     "output_type": "stream",
     "text": [
      "(117618, 14)\n"
     ]
    },
    {
     "data": {
      "text/html": [
       "<div>\n",
       "<style scoped>\n",
       "    .dataframe tbody tr th:only-of-type {\n",
       "        vertical-align: middle;\n",
       "    }\n",
       "\n",
       "    .dataframe tbody tr th {\n",
       "        vertical-align: top;\n",
       "    }\n",
       "\n",
       "    .dataframe thead th {\n",
       "        text-align: right;\n",
       "    }\n",
       "</style>\n",
       "<table border=\"1\" class=\"dataframe\">\n",
       "  <thead>\n",
       "    <tr style=\"text-align: right;\">\n",
       "      <th></th>\n",
       "      <th>business_id</th>\n",
       "      <th>name</th>\n",
       "      <th>address</th>\n",
       "      <th>city</th>\n",
       "      <th>state</th>\n",
       "      <th>postal_code</th>\n",
       "      <th>latitude</th>\n",
       "      <th>longitude</th>\n",
       "      <th>stars</th>\n",
       "      <th>review_count</th>\n",
       "      <th>is_open</th>\n",
       "      <th>attributes</th>\n",
       "      <th>categories</th>\n",
       "      <th>hours</th>\n",
       "    </tr>\n",
       "  </thead>\n",
       "  <tbody>\n",
       "    <tr>\n",
       "      <th>1</th>\n",
       "      <td>mpf3x-BjTdTEA3yCZrAYPw</td>\n",
       "      <td>The UPS Store</td>\n",
       "      <td>87 Grasso Plaza Shopping Center</td>\n",
       "      <td>Affton</td>\n",
       "      <td>MO</td>\n",
       "      <td>63123</td>\n",
       "      <td>38.551126</td>\n",
       "      <td>-90.335695</td>\n",
       "      <td>3.0</td>\n",
       "      <td>15</td>\n",
       "      <td>1</td>\n",
       "      <td>{'BusinessAcceptsCreditCards': 'True'}</td>\n",
       "      <td>Shipping Centers, Local Services, Notaries, Ma...</td>\n",
       "      <td>{'Monday': '0:0-0:0', 'Tuesday': '8:0-18:30', ...</td>\n",
       "    </tr>\n",
       "    <tr>\n",
       "      <th>2</th>\n",
       "      <td>tUFrWirKiKi_TAnsVWINQQ</td>\n",
       "      <td>Target</td>\n",
       "      <td>5255 E Broadway Blvd</td>\n",
       "      <td>Tucson</td>\n",
       "      <td>AZ</td>\n",
       "      <td>85711</td>\n",
       "      <td>32.223236</td>\n",
       "      <td>-110.880452</td>\n",
       "      <td>3.5</td>\n",
       "      <td>22</td>\n",
       "      <td>0</td>\n",
       "      <td>{'BikeParking': 'True', 'BusinessAcceptsCredit...</td>\n",
       "      <td>Department Stores, Shopping, Fashion, Home &amp; G...</td>\n",
       "      <td>{'Monday': '8:0-22:0', 'Tuesday': '8:0-22:0', ...</td>\n",
       "    </tr>\n",
       "    <tr>\n",
       "      <th>3</th>\n",
       "      <td>MTSW4McQd7CbVtyjqoe9mw</td>\n",
       "      <td>St Honore Pastries</td>\n",
       "      <td>935 Race St</td>\n",
       "      <td>Philadelphia</td>\n",
       "      <td>PA</td>\n",
       "      <td>19107</td>\n",
       "      <td>39.955505</td>\n",
       "      <td>-75.155564</td>\n",
       "      <td>4.0</td>\n",
       "      <td>80</td>\n",
       "      <td>1</td>\n",
       "      <td>{'RestaurantsDelivery': 'False', 'OutdoorSeati...</td>\n",
       "      <td>Restaurants, Food, Bubble Tea, Coffee &amp; Tea, B...</td>\n",
       "      <td>{'Monday': '7:0-20:0', 'Tuesday': '7:0-20:0', ...</td>\n",
       "    </tr>\n",
       "    <tr>\n",
       "      <th>4</th>\n",
       "      <td>mWMc6_wTdE0EUBKIGXDVfA</td>\n",
       "      <td>Perkiomen Valley Brewery</td>\n",
       "      <td>101 Walnut St</td>\n",
       "      <td>Green Lane</td>\n",
       "      <td>PA</td>\n",
       "      <td>18054</td>\n",
       "      <td>40.338183</td>\n",
       "      <td>-75.471659</td>\n",
       "      <td>4.5</td>\n",
       "      <td>13</td>\n",
       "      <td>1</td>\n",
       "      <td>{'BusinessAcceptsCreditCards': 'True', 'Wheelc...</td>\n",
       "      <td>Brewpubs, Breweries, Food</td>\n",
       "      <td>{'Wednesday': '14:0-22:0', 'Thursday': '16:0-2...</td>\n",
       "    </tr>\n",
       "    <tr>\n",
       "      <th>5</th>\n",
       "      <td>CF33F8-E6oudUQ46HnavjQ</td>\n",
       "      <td>Sonic Drive-In</td>\n",
       "      <td>615 S Main St</td>\n",
       "      <td>Ashland City</td>\n",
       "      <td>TN</td>\n",
       "      <td>37015</td>\n",
       "      <td>36.269593</td>\n",
       "      <td>-87.058943</td>\n",
       "      <td>2.0</td>\n",
       "      <td>6</td>\n",
       "      <td>1</td>\n",
       "      <td>{'BusinessParking': 'None', 'BusinessAcceptsCr...</td>\n",
       "      <td>Burgers, Fast Food, Sandwiches, Food, Ice Crea...</td>\n",
       "      <td>{'Monday': '0:0-0:0', 'Tuesday': '6:0-22:0', '...</td>\n",
       "    </tr>\n",
       "  </tbody>\n",
       "</table>\n",
       "</div>"
      ],
      "text/plain": [
       "              business_id                      name  \\\n",
       "1  mpf3x-BjTdTEA3yCZrAYPw             The UPS Store   \n",
       "2  tUFrWirKiKi_TAnsVWINQQ                    Target   \n",
       "3  MTSW4McQd7CbVtyjqoe9mw        St Honore Pastries   \n",
       "4  mWMc6_wTdE0EUBKIGXDVfA  Perkiomen Valley Brewery   \n",
       "5  CF33F8-E6oudUQ46HnavjQ            Sonic Drive-In   \n",
       "\n",
       "                           address          city state postal_code   latitude  \\\n",
       "1  87 Grasso Plaza Shopping Center        Affton    MO       63123  38.551126   \n",
       "2             5255 E Broadway Blvd        Tucson    AZ       85711  32.223236   \n",
       "3                      935 Race St  Philadelphia    PA       19107  39.955505   \n",
       "4                    101 Walnut St    Green Lane    PA       18054  40.338183   \n",
       "5                    615 S Main St  Ashland City    TN       37015  36.269593   \n",
       "\n",
       "    longitude  stars  review_count  is_open  \\\n",
       "1  -90.335695    3.0            15        1   \n",
       "2 -110.880452    3.5            22        0   \n",
       "3  -75.155564    4.0            80        1   \n",
       "4  -75.471659    4.5            13        1   \n",
       "5  -87.058943    2.0             6        1   \n",
       "\n",
       "                                          attributes  \\\n",
       "1             {'BusinessAcceptsCreditCards': 'True'}   \n",
       "2  {'BikeParking': 'True', 'BusinessAcceptsCredit...   \n",
       "3  {'RestaurantsDelivery': 'False', 'OutdoorSeati...   \n",
       "4  {'BusinessAcceptsCreditCards': 'True', 'Wheelc...   \n",
       "5  {'BusinessParking': 'None', 'BusinessAcceptsCr...   \n",
       "\n",
       "                                          categories  \\\n",
       "1  Shipping Centers, Local Services, Notaries, Ma...   \n",
       "2  Department Stores, Shopping, Fashion, Home & G...   \n",
       "3  Restaurants, Food, Bubble Tea, Coffee & Tea, B...   \n",
       "4                          Brewpubs, Breweries, Food   \n",
       "5  Burgers, Fast Food, Sandwiches, Food, Ice Crea...   \n",
       "\n",
       "                                               hours  \n",
       "1  {'Monday': '0:0-0:0', 'Tuesday': '8:0-18:30', ...  \n",
       "2  {'Monday': '8:0-22:0', 'Tuesday': '8:0-22:0', ...  \n",
       "3  {'Monday': '7:0-20:0', 'Tuesday': '7:0-20:0', ...  \n",
       "4  {'Wednesday': '14:0-22:0', 'Thursday': '16:0-2...  \n",
       "5  {'Monday': '0:0-0:0', 'Tuesday': '6:0-22:0', '...  "
      ]
     },
     "execution_count": 42,
     "metadata": {},
     "output_type": "execute_result"
    }
   ],
   "source": [
    "business.dropna(inplace=True)\n",
    "print(business.shape)\n",
    "business.head()"
   ]
  },
  {
   "cell_type": "code",
   "execution_count": 49,
   "id": "659f0420",
   "metadata": {},
   "outputs": [],
   "source": [
    "# Drop businesses with less than 20 reviews\n",
    "business_to_drop = business[business['review_count'] < 20]\n",
    "\n",
    "# Remove reviews for businesses that are being dropped\n",
    "review_filtered = review[review['business_id'].isin(business_to_drop['business_id']) == False]\n",
    "business_filtered = business[business['review_count'] >= 20]"
   ]
  },
  {
   "cell_type": "markdown",
   "id": "d7f8f95a",
   "metadata": {},
   "source": [
    "### First Approach - Group all reviews\n",
    "Join the tables together such that we have a business and all the reviews for each business in one row.\n",
    "\n",
    "We'll use TFIDF on all the reviews for a business to predict the business's rating."
   ]
  },
  {
   "cell_type": "code",
   "execution_count": 83,
   "id": "3b490be8",
   "metadata": {},
   "outputs": [
    {
     "name": "stdout",
     "output_type": "stream",
     "text": [
      "(10769, 3)\n"
     ]
    },
    {
     "data": {
      "text/html": [
       "<div>\n",
       "<style scoped>\n",
       "    .dataframe tbody tr th:only-of-type {\n",
       "        vertical-align: middle;\n",
       "    }\n",
       "\n",
       "    .dataframe tbody tr th {\n",
       "        vertical-align: top;\n",
       "    }\n",
       "\n",
       "    .dataframe thead th {\n",
       "        text-align: right;\n",
       "    }\n",
       "</style>\n",
       "<table border=\"1\" class=\"dataframe\">\n",
       "  <thead>\n",
       "    <tr style=\"text-align: right;\">\n",
       "      <th></th>\n",
       "      <th>business_id</th>\n",
       "      <th>all_reviews</th>\n",
       "      <th>stars</th>\n",
       "    </tr>\n",
       "  </thead>\n",
       "  <tbody>\n",
       "    <tr>\n",
       "      <th>0</th>\n",
       "      <td>--ZVrH2X2QXBFdCilbirsw</td>\n",
       "      <td>This place is sadly perm closed. I was hoping ...</td>\n",
       "      <td>4.5</td>\n",
       "    </tr>\n",
       "    <tr>\n",
       "      <th>1</th>\n",
       "      <td>-02xFuruu85XmDn2xiynJw</td>\n",
       "      <td>Dr. Curtis Dechant has an excellent chair-side...</td>\n",
       "      <td>4.5</td>\n",
       "    </tr>\n",
       "    <tr>\n",
       "      <th>2</th>\n",
       "      <td>-06OYKiIzxsdymBMDAKZug</td>\n",
       "      <td>Had catalytic converters replaced on our Subur...</td>\n",
       "      <td>4.5</td>\n",
       "    </tr>\n",
       "    <tr>\n",
       "      <th>3</th>\n",
       "      <td>-06ngMH_Ejkm_6HQBYxB7g</td>\n",
       "      <td>I have an old main line that really should be ...</td>\n",
       "      <td>4.0</td>\n",
       "    </tr>\n",
       "    <tr>\n",
       "      <th>4</th>\n",
       "      <td>-0E7laYjwZxEAQPhFJXxow</td>\n",
       "      <td>I recently visited this dealership because the...</td>\n",
       "      <td>3.5</td>\n",
       "    </tr>\n",
       "  </tbody>\n",
       "</table>\n",
       "</div>"
      ],
      "text/plain": [
       "              business_id                                        all_reviews  \\\n",
       "0  --ZVrH2X2QXBFdCilbirsw  This place is sadly perm closed. I was hoping ...   \n",
       "1  -02xFuruu85XmDn2xiynJw  Dr. Curtis Dechant has an excellent chair-side...   \n",
       "2  -06OYKiIzxsdymBMDAKZug  Had catalytic converters replaced on our Subur...   \n",
       "3  -06ngMH_Ejkm_6HQBYxB7g  I have an old main line that really should be ...   \n",
       "4  -0E7laYjwZxEAQPhFJXxow  I recently visited this dealership because the...   \n",
       "\n",
       "   stars  \n",
       "0    4.5  \n",
       "1    4.5  \n",
       "2    4.5  \n",
       "3    4.0  \n",
       "4    3.5  "
      ]
     },
     "execution_count": 83,
     "metadata": {},
     "output_type": "execute_result"
    }
   ],
   "source": [
    "from scipy.stats import zscore\n",
    "\n",
    "df_review_agg = review_filtered.groupby('business_id')['text'].sum()\n",
    "\n",
    "df_grouped = pd.DataFrame({\n",
    "    'business_id': df_review_agg.index, \n",
    "    'all_reviews': df_review_agg.values,\n",
    "    })\n",
    "\n",
    "# Join the business star ratings w/ business IDs\n",
    "# Normalize the star ratings\n",
    "df_grouped = df_grouped.merge(business_filtered[['business_id', 'stars']], on='business_id', how='inner')\n",
    "\n",
    "print(df_grouped.shape)\n",
    "df_grouped.head()"
   ]
  },
  {
   "cell_type": "code",
   "execution_count": 84,
   "id": "1183c5ab",
   "metadata": {},
   "outputs": [
    {
     "name": "stdout",
     "output_type": "stream",
     "text": [
      "Unique star ratings: [1.  1.5 2.  2.5 3.  3.5 4.  4.5 5. ]\n"
     ]
    }
   ],
   "source": [
    "unique_categories = business['stars'].unique()\n",
    "unique_categories.sort()\n",
    "print(f'Unique star ratings: {unique_categories}')"
   ]
  },
  {
   "cell_type": "code",
   "execution_count": 85,
   "id": "1913ba2a",
   "metadata": {},
   "outputs": [
    {
     "name": "stdout",
     "output_type": "stream",
     "text": [
      "(10769, 11)\n"
     ]
    },
    {
     "data": {
      "text/html": [
       "<div>\n",
       "<style scoped>\n",
       "    .dataframe tbody tr th:only-of-type {\n",
       "        vertical-align: middle;\n",
       "    }\n",
       "\n",
       "    .dataframe tbody tr th {\n",
       "        vertical-align: top;\n",
       "    }\n",
       "\n",
       "    .dataframe thead th {\n",
       "        text-align: right;\n",
       "    }\n",
       "</style>\n",
       "<table border=\"1\" class=\"dataframe\">\n",
       "  <thead>\n",
       "    <tr style=\"text-align: right;\">\n",
       "      <th></th>\n",
       "      <th>business_id</th>\n",
       "      <th>all_reviews</th>\n",
       "      <th>stars-1.0</th>\n",
       "      <th>stars-1.5</th>\n",
       "      <th>stars-2.0</th>\n",
       "      <th>stars-2.5</th>\n",
       "      <th>stars-3.0</th>\n",
       "      <th>stars-3.5</th>\n",
       "      <th>stars-4.0</th>\n",
       "      <th>stars-4.5</th>\n",
       "      <th>stars-5.0</th>\n",
       "    </tr>\n",
       "  </thead>\n",
       "  <tbody>\n",
       "    <tr>\n",
       "      <th>0</th>\n",
       "      <td>--ZVrH2X2QXBFdCilbirsw</td>\n",
       "      <td>This place is sadly perm closed. I was hoping ...</td>\n",
       "      <td>False</td>\n",
       "      <td>False</td>\n",
       "      <td>False</td>\n",
       "      <td>False</td>\n",
       "      <td>False</td>\n",
       "      <td>False</td>\n",
       "      <td>False</td>\n",
       "      <td>True</td>\n",
       "      <td>False</td>\n",
       "    </tr>\n",
       "    <tr>\n",
       "      <th>1</th>\n",
       "      <td>-02xFuruu85XmDn2xiynJw</td>\n",
       "      <td>Dr. Curtis Dechant has an excellent chair-side...</td>\n",
       "      <td>False</td>\n",
       "      <td>False</td>\n",
       "      <td>False</td>\n",
       "      <td>False</td>\n",
       "      <td>False</td>\n",
       "      <td>False</td>\n",
       "      <td>False</td>\n",
       "      <td>True</td>\n",
       "      <td>False</td>\n",
       "    </tr>\n",
       "    <tr>\n",
       "      <th>2</th>\n",
       "      <td>-06OYKiIzxsdymBMDAKZug</td>\n",
       "      <td>Had catalytic converters replaced on our Subur...</td>\n",
       "      <td>False</td>\n",
       "      <td>False</td>\n",
       "      <td>False</td>\n",
       "      <td>False</td>\n",
       "      <td>False</td>\n",
       "      <td>False</td>\n",
       "      <td>False</td>\n",
       "      <td>True</td>\n",
       "      <td>False</td>\n",
       "    </tr>\n",
       "    <tr>\n",
       "      <th>3</th>\n",
       "      <td>-06ngMH_Ejkm_6HQBYxB7g</td>\n",
       "      <td>I have an old main line that really should be ...</td>\n",
       "      <td>False</td>\n",
       "      <td>False</td>\n",
       "      <td>False</td>\n",
       "      <td>False</td>\n",
       "      <td>False</td>\n",
       "      <td>False</td>\n",
       "      <td>True</td>\n",
       "      <td>False</td>\n",
       "      <td>False</td>\n",
       "    </tr>\n",
       "    <tr>\n",
       "      <th>4</th>\n",
       "      <td>-0E7laYjwZxEAQPhFJXxow</td>\n",
       "      <td>I recently visited this dealership because the...</td>\n",
       "      <td>False</td>\n",
       "      <td>False</td>\n",
       "      <td>False</td>\n",
       "      <td>False</td>\n",
       "      <td>False</td>\n",
       "      <td>True</td>\n",
       "      <td>False</td>\n",
       "      <td>False</td>\n",
       "      <td>False</td>\n",
       "    </tr>\n",
       "  </tbody>\n",
       "</table>\n",
       "</div>"
      ],
      "text/plain": [
       "              business_id                                        all_reviews  \\\n",
       "0  --ZVrH2X2QXBFdCilbirsw  This place is sadly perm closed. I was hoping ...   \n",
       "1  -02xFuruu85XmDn2xiynJw  Dr. Curtis Dechant has an excellent chair-side...   \n",
       "2  -06OYKiIzxsdymBMDAKZug  Had catalytic converters replaced on our Subur...   \n",
       "3  -06ngMH_Ejkm_6HQBYxB7g  I have an old main line that really should be ...   \n",
       "4  -0E7laYjwZxEAQPhFJXxow  I recently visited this dealership because the...   \n",
       "\n",
       "   stars-1.0  stars-1.5  stars-2.0  stars-2.5  stars-3.0  stars-3.5  \\\n",
       "0      False      False      False      False      False      False   \n",
       "1      False      False      False      False      False      False   \n",
       "2      False      False      False      False      False      False   \n",
       "3      False      False      False      False      False      False   \n",
       "4      False      False      False      False      False       True   \n",
       "\n",
       "   stars-4.0  stars-4.5  stars-5.0  \n",
       "0      False       True      False  \n",
       "1      False       True      False  \n",
       "2      False       True      False  \n",
       "3       True      False      False  \n",
       "4      False      False      False  "
      ]
     },
     "execution_count": 85,
     "metadata": {},
     "output_type": "execute_result"
    }
   ],
   "source": [
    "df_grouped['stars'] = df_grouped['stars'].astype(str)\n",
    "\n",
    "def encode_text_dummy(df, name):\n",
    "    dummies = pd.get_dummies(df[name])\n",
    "    for x in dummies.columns:\n",
    "        dummy_name = \"{}-{}\".format(name, x)\n",
    "        df[dummy_name] = dummies[x]\n",
    "    df.drop(name, axis=1, inplace=True)\n",
    "\n",
    "encode_text_dummy(df_grouped, 'stars')\n",
    "\n",
    "print(df_grouped.shape)\n",
    "df_grouped.head()"
   ]
  },
  {
   "cell_type": "code",
   "execution_count": 109,
   "id": "f2011685",
   "metadata": {},
   "outputs": [],
   "source": [
    "import sklearn.feature_extraction.text as sk_text\n",
    "\n",
    "vectorizer = sk_text.TfidfVectorizer(stop_words='english', max_features=1000, min_df=1)\n",
    "\n",
    "x = vectorizer.fit_transform(df_grouped['all_reviews'])\n",
    "y = df_grouped[['stars-1.0', 'stars-1.5', 'stars-2.0', 'stars-2.5', 'stars-3.0', 'stars-3.5', 'stars-4.0', 'stars-4.5', 'stars-5.0']]"
   ]
  },
  {
   "cell_type": "code",
   "execution_count": 110,
   "id": "b0fda085",
   "metadata": {},
   "outputs": [
    {
     "data": {
      "text/plain": [
       "array(['00', '10', '100', '11', '12', '15', '20', '25', '30', '40', '45',\n",
       "       '50', 'able', 'absolutely', 'accommodating', 'actually', 'add',\n",
       "       'added', 'addition', 'affordable', 'afternoon', 'ago', 'ahead',\n",
       "       'air', 'amazing', 'ambiance', 'american', 'apparently',\n",
       "       'appetizer', 'appetizers', 'apple', 'appointment', 'appreciate',\n",
       "       'area', 'aren', 'arrived', 'art', 'asian', 'ask', 'asked'],\n",
       "      dtype=object)"
      ]
     },
     "execution_count": 110,
     "metadata": {},
     "output_type": "execute_result"
    }
   ],
   "source": [
    "vectorizer.get_feature_names_out()[:40]"
   ]
  },
  {
   "cell_type": "code",
   "execution_count": 111,
   "id": "dfc95d02",
   "metadata": {},
   "outputs": [],
   "source": [
    "from sklearn.model_selection import train_test_split\n",
    "\n",
    "x_train, x_test, y_train, y_test = train_test_split(x, y, test_size=0.2, random_state=42)"
   ]
  },
  {
   "cell_type": "code",
   "execution_count": 113,
   "id": "f1054117",
   "metadata": {},
   "outputs": [
    {
     "name": "stdout",
     "output_type": "stream",
     "text": [
      "1000\n"
     ]
    }
   ],
   "source": [
    "print(x.shape[1])"
   ]
  },
  {
   "cell_type": "code",
   "execution_count": 121,
   "id": "c9a23e7e",
   "metadata": {},
   "outputs": [
    {
     "name": "stderr",
     "output_type": "stream",
     "text": [
      "c:\\Users\\rahgu\\anaconda3\\Lib\\site-packages\\keras\\src\\layers\\core\\dense.py:92: UserWarning: Do not pass an `input_shape`/`input_dim` argument to a layer. When using Sequential models, prefer using an `Input(shape)` object as the first layer in the model instead.\n",
      "  super().__init__(activity_regularizer=activity_regularizer, **kwargs)\n"
     ]
    },
    {
     "name": "stdout",
     "output_type": "stream",
     "text": [
      "Epoch 1/1000\n",
      "270/270 - 4s - 14ms/step - accuracy: 0.4411 - loss: 1.3329 - val_accuracy: 0.5682 - val_loss: 1.0553\n",
      "Epoch 2/1000\n",
      "270/270 - 2s - 7ms/step - accuracy: 0.5784 - loss: 1.0152 - val_accuracy: 0.5840 - val_loss: 1.0170\n",
      "Epoch 3/1000\n",
      "270/270 - 2s - 7ms/step - accuracy: 0.6113 - loss: 0.9321 - val_accuracy: 0.5645 - val_loss: 1.0373\n",
      "Epoch 4/1000\n",
      "270/270 - 3s - 10ms/step - accuracy: 0.6636 - loss: 0.8344 - val_accuracy: 0.5803 - val_loss: 1.0343\n",
      "Epoch 4: early stopping\n"
     ]
    },
    {
     "data": {
      "text/plain": [
       "<keras.src.callbacks.history.History at 0x216e66ce990>"
      ]
     },
     "execution_count": 121,
     "metadata": {},
     "output_type": "execute_result"
    }
   ],
   "source": [
    "from tensorflow.keras.models import Sequential\n",
    "from tensorflow.keras.layers import Dense, Activation\n",
    "from tensorflow.keras.callbacks import EarlyStopping\n",
    "\n",
    "model = Sequential()\n",
    "\n",
    "model.add(Dense(500, input_dim=x.shape[1], activation='relu'))\n",
    "model.add(Dense(250, activation='relu'))\n",
    "model.add(Dense(125, activation='relu'))\n",
    "model.add(Dense(60, activation='relu'))\n",
    "model.add(Dense(y.shape[1], activation='softmax'))\n",
    "\n",
    "model.compile(loss='categorical_crossentropy', optimizer='adam', metrics=['accuracy'])\n",
    "# Early exit\n",
    "monitor = EarlyStopping(monitor='val_loss', min_delta=1e-3, patience=2, verbose=2, mode='auto')\n",
    "model.fit(x_train, y_train, validation_data=(x_test,y_test), callbacks=[monitor], verbose=2, epochs=1000)  \n"
   ]
  },
  {
   "cell_type": "code",
   "execution_count": null,
   "id": "e13c126e",
   "metadata": {},
   "outputs": [],
   "source": []
  }
 ],
 "metadata": {
  "kernelspec": {
   "display_name": "base",
   "language": "python",
   "name": "python3"
  },
  "language_info": {
   "codemirror_mode": {
    "name": "ipython",
    "version": 3
   },
   "file_extension": ".py",
   "mimetype": "text/x-python",
   "name": "python",
   "nbconvert_exporter": "python",
   "pygments_lexer": "ipython3",
   "version": "3.13.5"
  }
 },
 "nbformat": 4,
 "nbformat_minor": 5
}
