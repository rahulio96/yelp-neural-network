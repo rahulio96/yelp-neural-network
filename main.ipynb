{
 "cells": [
  {
   "cell_type": "markdown",
   "id": "1948d138",
   "metadata": {},
   "source": [
    "## Yelp Rating Prediction FCNN\n",
    "\n",
    "Author: Rahul Gupta\n",
    "\n",
    "Goal of the project is to develop an FCNN (Fully Connected Neural Network) to predict Yelp rating scores based on the text data from user-written reviews."
   ]
  },
  {
   "cell_type": "markdown",
   "id": "7c6ac496",
   "metadata": {},
   "source": [
    "### Data Loading\n",
    "Need to first load, understand, and preprocess data for the neural network."
   ]
  },
  {
   "cell_type": "code",
   "execution_count": 1,
   "id": "96d89bb3",
   "metadata": {},
   "outputs": [],
   "source": [
    "import numpy as np\n",
    "import pandas as pd\n",
    "\n",
    "# Starter code\n",
    "review = pd.read_json('./data/yelp_academic_dataset_review.json', lines=True, nrows= 1000000)\n",
    "business = pd.read_json('./data/yelp_academic_dataset_business.json', lines=True, nrows= 1000000)"
   ]
  },
  {
   "cell_type": "code",
   "execution_count": 2,
   "id": "c6aa5775",
   "metadata": {},
   "outputs": [
    {
     "name": "stdout",
     "output_type": "stream",
     "text": [
      "(1000000, 9)\n"
     ]
    },
    {
     "data": {
      "text/html": [
       "<div>\n",
       "<style scoped>\n",
       "    .dataframe tbody tr th:only-of-type {\n",
       "        vertical-align: middle;\n",
       "    }\n",
       "\n",
       "    .dataframe tbody tr th {\n",
       "        vertical-align: top;\n",
       "    }\n",
       "\n",
       "    .dataframe thead th {\n",
       "        text-align: right;\n",
       "    }\n",
       "</style>\n",
       "<table border=\"1\" class=\"dataframe\">\n",
       "  <thead>\n",
       "    <tr style=\"text-align: right;\">\n",
       "      <th></th>\n",
       "      <th>review_id</th>\n",
       "      <th>user_id</th>\n",
       "      <th>business_id</th>\n",
       "      <th>stars</th>\n",
       "      <th>useful</th>\n",
       "      <th>funny</th>\n",
       "      <th>cool</th>\n",
       "      <th>text</th>\n",
       "      <th>date</th>\n",
       "    </tr>\n",
       "  </thead>\n",
       "  <tbody>\n",
       "    <tr>\n",
       "      <th>0</th>\n",
       "      <td>KU_O5udG6zpxOg-VcAEodg</td>\n",
       "      <td>mh_-eMZ6K5RLWhZyISBhwA</td>\n",
       "      <td>XQfwVwDr-v0ZS3_CbbE5Xw</td>\n",
       "      <td>3</td>\n",
       "      <td>0</td>\n",
       "      <td>0</td>\n",
       "      <td>0</td>\n",
       "      <td>If you decide to eat here, just be aware it is...</td>\n",
       "      <td>2018-07-07 22:09:11</td>\n",
       "    </tr>\n",
       "    <tr>\n",
       "      <th>1</th>\n",
       "      <td>BiTunyQ73aT9WBnpR9DZGw</td>\n",
       "      <td>OyoGAe7OKpv6SyGZT5g77Q</td>\n",
       "      <td>7ATYjTIgM3jUlt4UM3IypQ</td>\n",
       "      <td>5</td>\n",
       "      <td>1</td>\n",
       "      <td>0</td>\n",
       "      <td>1</td>\n",
       "      <td>I've taken a lot of spin classes over the year...</td>\n",
       "      <td>2012-01-03 15:28:18</td>\n",
       "    </tr>\n",
       "    <tr>\n",
       "      <th>2</th>\n",
       "      <td>saUsX_uimxRlCVr67Z4Jig</td>\n",
       "      <td>8g_iMtfSiwikVnbP2etR0A</td>\n",
       "      <td>YjUWPpI6HXG530lwP-fb2A</td>\n",
       "      <td>3</td>\n",
       "      <td>0</td>\n",
       "      <td>0</td>\n",
       "      <td>0</td>\n",
       "      <td>Family diner. Had the buffet. Eclectic assortm...</td>\n",
       "      <td>2014-02-05 20:30:30</td>\n",
       "    </tr>\n",
       "    <tr>\n",
       "      <th>3</th>\n",
       "      <td>AqPFMleE6RsU23_auESxiA</td>\n",
       "      <td>_7bHUi9Uuf5__HHc_Q8guQ</td>\n",
       "      <td>kxX2SOes4o-D3ZQBkiMRfA</td>\n",
       "      <td>5</td>\n",
       "      <td>1</td>\n",
       "      <td>0</td>\n",
       "      <td>1</td>\n",
       "      <td>Wow!  Yummy, different,  delicious.   Our favo...</td>\n",
       "      <td>2015-01-04 00:01:03</td>\n",
       "    </tr>\n",
       "    <tr>\n",
       "      <th>4</th>\n",
       "      <td>Sx8TMOWLNuJBWer-0pcmoA</td>\n",
       "      <td>bcjbaE6dDog4jkNY91ncLQ</td>\n",
       "      <td>e4Vwtrqf-wpJfwesgvdgxQ</td>\n",
       "      <td>4</td>\n",
       "      <td>1</td>\n",
       "      <td>0</td>\n",
       "      <td>1</td>\n",
       "      <td>Cute interior and owner (?) gave us tour of up...</td>\n",
       "      <td>2017-01-14 20:54:15</td>\n",
       "    </tr>\n",
       "  </tbody>\n",
       "</table>\n",
       "</div>"
      ],
      "text/plain": [
       "                review_id                 user_id             business_id  \\\n",
       "0  KU_O5udG6zpxOg-VcAEodg  mh_-eMZ6K5RLWhZyISBhwA  XQfwVwDr-v0ZS3_CbbE5Xw   \n",
       "1  BiTunyQ73aT9WBnpR9DZGw  OyoGAe7OKpv6SyGZT5g77Q  7ATYjTIgM3jUlt4UM3IypQ   \n",
       "2  saUsX_uimxRlCVr67Z4Jig  8g_iMtfSiwikVnbP2etR0A  YjUWPpI6HXG530lwP-fb2A   \n",
       "3  AqPFMleE6RsU23_auESxiA  _7bHUi9Uuf5__HHc_Q8guQ  kxX2SOes4o-D3ZQBkiMRfA   \n",
       "4  Sx8TMOWLNuJBWer-0pcmoA  bcjbaE6dDog4jkNY91ncLQ  e4Vwtrqf-wpJfwesgvdgxQ   \n",
       "\n",
       "   stars  useful  funny  cool  \\\n",
       "0      3       0      0     0   \n",
       "1      5       1      0     1   \n",
       "2      3       0      0     0   \n",
       "3      5       1      0     1   \n",
       "4      4       1      0     1   \n",
       "\n",
       "                                                text                date  \n",
       "0  If you decide to eat here, just be aware it is... 2018-07-07 22:09:11  \n",
       "1  I've taken a lot of spin classes over the year... 2012-01-03 15:28:18  \n",
       "2  Family diner. Had the buffet. Eclectic assortm... 2014-02-05 20:30:30  \n",
       "3  Wow!  Yummy, different,  delicious.   Our favo... 2015-01-04 00:01:03  \n",
       "4  Cute interior and owner (?) gave us tour of up... 2017-01-14 20:54:15  "
      ]
     },
     "execution_count": 2,
     "metadata": {},
     "output_type": "execute_result"
    }
   ],
   "source": [
    "review.dropna(inplace=True)\n",
    "print(review.shape)\n",
    "review.head()"
   ]
  },
  {
   "cell_type": "code",
   "execution_count": 3,
   "id": "2c31b205",
   "metadata": {},
   "outputs": [
    {
     "name": "stdout",
     "output_type": "stream",
     "text": [
      "(117618, 14)\n"
     ]
    },
    {
     "data": {
      "text/html": [
       "<div>\n",
       "<style scoped>\n",
       "    .dataframe tbody tr th:only-of-type {\n",
       "        vertical-align: middle;\n",
       "    }\n",
       "\n",
       "    .dataframe tbody tr th {\n",
       "        vertical-align: top;\n",
       "    }\n",
       "\n",
       "    .dataframe thead th {\n",
       "        text-align: right;\n",
       "    }\n",
       "</style>\n",
       "<table border=\"1\" class=\"dataframe\">\n",
       "  <thead>\n",
       "    <tr style=\"text-align: right;\">\n",
       "      <th></th>\n",
       "      <th>business_id</th>\n",
       "      <th>name</th>\n",
       "      <th>address</th>\n",
       "      <th>city</th>\n",
       "      <th>state</th>\n",
       "      <th>postal_code</th>\n",
       "      <th>latitude</th>\n",
       "      <th>longitude</th>\n",
       "      <th>stars</th>\n",
       "      <th>review_count</th>\n",
       "      <th>is_open</th>\n",
       "      <th>attributes</th>\n",
       "      <th>categories</th>\n",
       "      <th>hours</th>\n",
       "    </tr>\n",
       "  </thead>\n",
       "  <tbody>\n",
       "    <tr>\n",
       "      <th>1</th>\n",
       "      <td>mpf3x-BjTdTEA3yCZrAYPw</td>\n",
       "      <td>The UPS Store</td>\n",
       "      <td>87 Grasso Plaza Shopping Center</td>\n",
       "      <td>Affton</td>\n",
       "      <td>MO</td>\n",
       "      <td>63123</td>\n",
       "      <td>38.551126</td>\n",
       "      <td>-90.335695</td>\n",
       "      <td>3.0</td>\n",
       "      <td>15</td>\n",
       "      <td>1</td>\n",
       "      <td>{'BusinessAcceptsCreditCards': 'True'}</td>\n",
       "      <td>Shipping Centers, Local Services, Notaries, Ma...</td>\n",
       "      <td>{'Monday': '0:0-0:0', 'Tuesday': '8:0-18:30', ...</td>\n",
       "    </tr>\n",
       "    <tr>\n",
       "      <th>2</th>\n",
       "      <td>tUFrWirKiKi_TAnsVWINQQ</td>\n",
       "      <td>Target</td>\n",
       "      <td>5255 E Broadway Blvd</td>\n",
       "      <td>Tucson</td>\n",
       "      <td>AZ</td>\n",
       "      <td>85711</td>\n",
       "      <td>32.223236</td>\n",
       "      <td>-110.880452</td>\n",
       "      <td>3.5</td>\n",
       "      <td>22</td>\n",
       "      <td>0</td>\n",
       "      <td>{'BikeParking': 'True', 'BusinessAcceptsCredit...</td>\n",
       "      <td>Department Stores, Shopping, Fashion, Home &amp; G...</td>\n",
       "      <td>{'Monday': '8:0-22:0', 'Tuesday': '8:0-22:0', ...</td>\n",
       "    </tr>\n",
       "    <tr>\n",
       "      <th>3</th>\n",
       "      <td>MTSW4McQd7CbVtyjqoe9mw</td>\n",
       "      <td>St Honore Pastries</td>\n",
       "      <td>935 Race St</td>\n",
       "      <td>Philadelphia</td>\n",
       "      <td>PA</td>\n",
       "      <td>19107</td>\n",
       "      <td>39.955505</td>\n",
       "      <td>-75.155564</td>\n",
       "      <td>4.0</td>\n",
       "      <td>80</td>\n",
       "      <td>1</td>\n",
       "      <td>{'RestaurantsDelivery': 'False', 'OutdoorSeati...</td>\n",
       "      <td>Restaurants, Food, Bubble Tea, Coffee &amp; Tea, B...</td>\n",
       "      <td>{'Monday': '7:0-20:0', 'Tuesday': '7:0-20:0', ...</td>\n",
       "    </tr>\n",
       "    <tr>\n",
       "      <th>4</th>\n",
       "      <td>mWMc6_wTdE0EUBKIGXDVfA</td>\n",
       "      <td>Perkiomen Valley Brewery</td>\n",
       "      <td>101 Walnut St</td>\n",
       "      <td>Green Lane</td>\n",
       "      <td>PA</td>\n",
       "      <td>18054</td>\n",
       "      <td>40.338183</td>\n",
       "      <td>-75.471659</td>\n",
       "      <td>4.5</td>\n",
       "      <td>13</td>\n",
       "      <td>1</td>\n",
       "      <td>{'BusinessAcceptsCreditCards': 'True', 'Wheelc...</td>\n",
       "      <td>Brewpubs, Breweries, Food</td>\n",
       "      <td>{'Wednesday': '14:0-22:0', 'Thursday': '16:0-2...</td>\n",
       "    </tr>\n",
       "    <tr>\n",
       "      <th>5</th>\n",
       "      <td>CF33F8-E6oudUQ46HnavjQ</td>\n",
       "      <td>Sonic Drive-In</td>\n",
       "      <td>615 S Main St</td>\n",
       "      <td>Ashland City</td>\n",
       "      <td>TN</td>\n",
       "      <td>37015</td>\n",
       "      <td>36.269593</td>\n",
       "      <td>-87.058943</td>\n",
       "      <td>2.0</td>\n",
       "      <td>6</td>\n",
       "      <td>1</td>\n",
       "      <td>{'BusinessParking': 'None', 'BusinessAcceptsCr...</td>\n",
       "      <td>Burgers, Fast Food, Sandwiches, Food, Ice Crea...</td>\n",
       "      <td>{'Monday': '0:0-0:0', 'Tuesday': '6:0-22:0', '...</td>\n",
       "    </tr>\n",
       "  </tbody>\n",
       "</table>\n",
       "</div>"
      ],
      "text/plain": [
       "              business_id                      name  \\\n",
       "1  mpf3x-BjTdTEA3yCZrAYPw             The UPS Store   \n",
       "2  tUFrWirKiKi_TAnsVWINQQ                    Target   \n",
       "3  MTSW4McQd7CbVtyjqoe9mw        St Honore Pastries   \n",
       "4  mWMc6_wTdE0EUBKIGXDVfA  Perkiomen Valley Brewery   \n",
       "5  CF33F8-E6oudUQ46HnavjQ            Sonic Drive-In   \n",
       "\n",
       "                           address          city state postal_code   latitude  \\\n",
       "1  87 Grasso Plaza Shopping Center        Affton    MO       63123  38.551126   \n",
       "2             5255 E Broadway Blvd        Tucson    AZ       85711  32.223236   \n",
       "3                      935 Race St  Philadelphia    PA       19107  39.955505   \n",
       "4                    101 Walnut St    Green Lane    PA       18054  40.338183   \n",
       "5                    615 S Main St  Ashland City    TN       37015  36.269593   \n",
       "\n",
       "    longitude  stars  review_count  is_open  \\\n",
       "1  -90.335695    3.0            15        1   \n",
       "2 -110.880452    3.5            22        0   \n",
       "3  -75.155564    4.0            80        1   \n",
       "4  -75.471659    4.5            13        1   \n",
       "5  -87.058943    2.0             6        1   \n",
       "\n",
       "                                          attributes  \\\n",
       "1             {'BusinessAcceptsCreditCards': 'True'}   \n",
       "2  {'BikeParking': 'True', 'BusinessAcceptsCredit...   \n",
       "3  {'RestaurantsDelivery': 'False', 'OutdoorSeati...   \n",
       "4  {'BusinessAcceptsCreditCards': 'True', 'Wheelc...   \n",
       "5  {'BusinessParking': 'None', 'BusinessAcceptsCr...   \n",
       "\n",
       "                                          categories  \\\n",
       "1  Shipping Centers, Local Services, Notaries, Ma...   \n",
       "2  Department Stores, Shopping, Fashion, Home & G...   \n",
       "3  Restaurants, Food, Bubble Tea, Coffee & Tea, B...   \n",
       "4                          Brewpubs, Breweries, Food   \n",
       "5  Burgers, Fast Food, Sandwiches, Food, Ice Crea...   \n",
       "\n",
       "                                               hours  \n",
       "1  {'Monday': '0:0-0:0', 'Tuesday': '8:0-18:30', ...  \n",
       "2  {'Monday': '8:0-22:0', 'Tuesday': '8:0-22:0', ...  \n",
       "3  {'Monday': '7:0-20:0', 'Tuesday': '7:0-20:0', ...  \n",
       "4  {'Wednesday': '14:0-22:0', 'Thursday': '16:0-2...  \n",
       "5  {'Monday': '0:0-0:0', 'Tuesday': '6:0-22:0', '...  "
      ]
     },
     "execution_count": 3,
     "metadata": {},
     "output_type": "execute_result"
    }
   ],
   "source": [
    "business.dropna(inplace=True)\n",
    "print(business.shape)\n",
    "business.head()"
   ]
  },
  {
   "cell_type": "code",
   "execution_count": 4,
   "id": "659f0420",
   "metadata": {},
   "outputs": [],
   "source": [
    "# Drop businesses with less than 20 reviews\n",
    "business_to_drop = business[business['review_count'] < 20]\n",
    "\n",
    "business_filtered = business[business['review_count'] >= 20]\n",
    "\n",
    "# Remove reviews for businesses that aren't in business_filtered\n",
    "review_filtered = review[review['business_id'].isin(business_filtered['business_id']) == True]"
   ]
  },
  {
   "cell_type": "markdown",
   "id": "d7f8f95a",
   "metadata": {},
   "source": [
    "### First Approach - Group all reviews\n",
    "Join the tables together such that we have a business and all the reviews for each business in one row.\n",
    "\n",
    "We'll use TFIDF on all the reviews for a business to predict the business's rating."
   ]
  },
  {
   "cell_type": "code",
   "execution_count": 5,
   "id": "3b490be8",
   "metadata": {},
   "outputs": [
    {
     "name": "stdout",
     "output_type": "stream",
     "text": [
      "(10769, 3)\n"
     ]
    },
    {
     "data": {
      "text/html": [
       "<div>\n",
       "<style scoped>\n",
       "    .dataframe tbody tr th:only-of-type {\n",
       "        vertical-align: middle;\n",
       "    }\n",
       "\n",
       "    .dataframe tbody tr th {\n",
       "        vertical-align: top;\n",
       "    }\n",
       "\n",
       "    .dataframe thead th {\n",
       "        text-align: right;\n",
       "    }\n",
       "</style>\n",
       "<table border=\"1\" class=\"dataframe\">\n",
       "  <thead>\n",
       "    <tr style=\"text-align: right;\">\n",
       "      <th></th>\n",
       "      <th>business_id</th>\n",
       "      <th>all_reviews</th>\n",
       "      <th>stars</th>\n",
       "    </tr>\n",
       "  </thead>\n",
       "  <tbody>\n",
       "    <tr>\n",
       "      <th>0</th>\n",
       "      <td>--ZVrH2X2QXBFdCilbirsw</td>\n",
       "      <td>This place is sadly perm closed. I was hoping ...</td>\n",
       "      <td>1.055696</td>\n",
       "    </tr>\n",
       "    <tr>\n",
       "      <th>1</th>\n",
       "      <td>-02xFuruu85XmDn2xiynJw</td>\n",
       "      <td>Dr. Curtis Dechant has an excellent chair-side...</td>\n",
       "      <td>1.055696</td>\n",
       "    </tr>\n",
       "    <tr>\n",
       "      <th>2</th>\n",
       "      <td>-06OYKiIzxsdymBMDAKZug</td>\n",
       "      <td>Had catalytic converters replaced on our Subur...</td>\n",
       "      <td>1.055696</td>\n",
       "    </tr>\n",
       "    <tr>\n",
       "      <th>3</th>\n",
       "      <td>-06ngMH_Ejkm_6HQBYxB7g</td>\n",
       "      <td>I have an old main line that really should be ...</td>\n",
       "      <td>0.442790</td>\n",
       "    </tr>\n",
       "    <tr>\n",
       "      <th>4</th>\n",
       "      <td>-0E7laYjwZxEAQPhFJXxow</td>\n",
       "      <td>I recently visited this dealership because the...</td>\n",
       "      <td>-0.170116</td>\n",
       "    </tr>\n",
       "  </tbody>\n",
       "</table>\n",
       "</div>"
      ],
      "text/plain": [
       "              business_id                                        all_reviews  \\\n",
       "0  --ZVrH2X2QXBFdCilbirsw  This place is sadly perm closed. I was hoping ...   \n",
       "1  -02xFuruu85XmDn2xiynJw  Dr. Curtis Dechant has an excellent chair-side...   \n",
       "2  -06OYKiIzxsdymBMDAKZug  Had catalytic converters replaced on our Subur...   \n",
       "3  -06ngMH_Ejkm_6HQBYxB7g  I have an old main line that really should be ...   \n",
       "4  -0E7laYjwZxEAQPhFJXxow  I recently visited this dealership because the...   \n",
       "\n",
       "      stars  \n",
       "0  1.055696  \n",
       "1  1.055696  \n",
       "2  1.055696  \n",
       "3  0.442790  \n",
       "4 -0.170116  "
      ]
     },
     "execution_count": 5,
     "metadata": {},
     "output_type": "execute_result"
    }
   ],
   "source": [
    "from scipy.stats import zscore\n",
    "\n",
    "df_review_agg = review_filtered.groupby('business_id')['text'].sum()\n",
    "\n",
    "df_grouped = pd.DataFrame({\n",
    "    'business_id': df_review_agg.index, \n",
    "    'all_reviews': df_review_agg.values,\n",
    "    })\n",
    "\n",
    "# Join the business star ratings w/ business IDs\n",
    "# Normalize the star ratings\n",
    "df_grouped = df_grouped.merge(business_filtered[['business_id', 'stars']], on='business_id', how='inner')\n",
    "df_grouped['stars'] = zscore(df_grouped['stars'])\n",
    "\n",
    "print(df_grouped.shape)\n",
    "df_grouped.head()"
   ]
  },
  {
   "cell_type": "markdown",
   "id": "80a433ee",
   "metadata": {},
   "source": [
    "#### Applying TFIDF\n",
    "Use TFIDF on review text to extract relevant features. Ignore stop words."
   ]
  },
  {
   "cell_type": "code",
   "execution_count": 6,
   "id": "f2011685",
   "metadata": {},
   "outputs": [],
   "source": [
    "import sklearn.feature_extraction.text as sk_text\n",
    "\n",
    "vectorizer = sk_text.TfidfVectorizer(stop_words='english', max_features=250, min_df=1)\n",
    "\n",
    "x = vectorizer.fit_transform(df_grouped['all_reviews'])\n",
    "y = df_grouped[['stars']].to_numpy()"
   ]
  },
  {
   "cell_type": "code",
   "execution_count": 7,
   "id": "b0fda085",
   "metadata": {},
   "outputs": [
    {
     "data": {
      "text/plain": [
       "array(['10', '20', '30', 'able', 'absolutely', 'actually', 'amazing',\n",
       "       'area', 'ask', 'asked', 'atmosphere', 'attentive', 'away',\n",
       "       'awesome', 'bad', 'bar', 'beef', 'beer', 'best', 'better', 'big',\n",
       "       'bit', 'bread', 'breakfast', 'burger', 'business', 'busy',\n",
       "       'called', 'came', 'car', 'care', 'check', 'cheese', 'chicken',\n",
       "       'city', 'clean', 'coffee', 'cold', 'come', 'coming'], dtype=object)"
      ]
     },
     "execution_count": 7,
     "metadata": {},
     "output_type": "execute_result"
    }
   ],
   "source": [
    "vectorizer.get_feature_names_out()[:40]"
   ]
  },
  {
   "cell_type": "markdown",
   "id": "fe8d85af",
   "metadata": {},
   "source": [
    "#### Train Test Split\n",
    "Splitting the training and resting data (80/20)"
   ]
  },
  {
   "cell_type": "code",
   "execution_count": 8,
   "id": "dfc95d02",
   "metadata": {},
   "outputs": [],
   "source": [
    "from sklearn.model_selection import train_test_split\n",
    "\n",
    "x_train, x_test, y_train, y_test = train_test_split(x, y, test_size=0.2, random_state=42)"
   ]
  },
  {
   "cell_type": "markdown",
   "id": "8c689599",
   "metadata": {},
   "source": [
    "#### RSME Function"
   ]
  },
  {
   "cell_type": "code",
   "execution_count": 9,
   "id": "25af83c0",
   "metadata": {},
   "outputs": [],
   "source": [
    "from sklearn import metrics\n",
    "\n",
    "# Predict and measure RMSE\n",
    "def print_rsme(model, x_test, y_test):\n",
    "    pred = model.predict(x_test)\n",
    "    score = np.sqrt(metrics.mean_squared_error(pred,y_test))\n",
    "    \n",
    "    print(\"RMSE Score: {}\".format(score))\n"
   ]
  },
  {
   "cell_type": "markdown",
   "id": "70da283c",
   "metadata": {},
   "source": [
    "#### Lift Chart Function"
   ]
  },
  {
   "cell_type": "code",
   "execution_count": 10,
   "id": "62500685",
   "metadata": {},
   "outputs": [],
   "source": [
    "# Function from lab #4\n",
    "import matplotlib.pyplot as plt\n",
    "\n",
    "# Regression chart.\n",
    "def chart_regression(pred,y,sort=True):\n",
    "    t = pd.DataFrame({'pred' : pred, 'y' : y.flatten()})\n",
    "    if sort:\n",
    "        t.sort_values(by=['y'],inplace=True)\n",
    "    a = plt.plot(t['y'].tolist(),label='expected')\n",
    "    b = plt.plot(t['pred'].tolist(),label='prediction')\n",
    "    plt.ylabel('output')\n",
    "    plt.legend()\n",
    "    plt.show()\n",
    "\n",
    "# Plot the chart\n",
    "# chart_regression(pred.flatten(),y_test, sort=True)"
   ]
  },
  {
   "cell_type": "markdown",
   "id": "9eb95737",
   "metadata": {},
   "source": [
    "#### Basic FCNN\n",
    "No dropout layers, just a basic fully connected neural network."
   ]
  },
  {
   "cell_type": "code",
   "execution_count": 11,
   "id": "c9a23e7e",
   "metadata": {},
   "outputs": [
    {
     "name": "stderr",
     "output_type": "stream",
     "text": [
      "c:\\Users\\rahgu\\anaconda3\\Lib\\site-packages\\keras\\src\\layers\\core\\dense.py:92: UserWarning: Do not pass an `input_shape`/`input_dim` argument to a layer. When using Sequential models, prefer using an `Input(shape)` object as the first layer in the model instead.\n",
      "  super().__init__(activity_regularizer=activity_regularizer, **kwargs)\n"
     ]
    },
    {
     "name": "stdout",
     "output_type": "stream",
     "text": [
      "Epoch 1/1000\n",
      "270/270 - 3s - 11ms/step - loss: 0.3750 - val_loss: 0.2638\n",
      "Epoch 2/1000\n",
      "270/270 - 1s - 3ms/step - loss: 0.2568 - val_loss: 0.2354\n",
      "Epoch 3/1000\n",
      "270/270 - 1s - 3ms/step - loss: 0.2236 - val_loss: 0.2342\n",
      "Epoch 4/1000\n",
      "270/270 - 1s - 4ms/step - loss: 0.1810 - val_loss: 0.2549\n",
      "Epoch 5/1000\n",
      "270/270 - 1s - 3ms/step - loss: 0.1522 - val_loss: 0.2743\n",
      "Epoch 6/1000\n",
      "270/270 - 1s - 3ms/step - loss: 0.1270 - val_loss: 0.2705\n",
      "Epoch 7/1000\n",
      "270/270 - 1s - 3ms/step - loss: 0.1081 - val_loss: 0.2460\n",
      "Epoch 8/1000\n",
      "270/270 - 1s - 3ms/step - loss: 0.0892 - val_loss: 0.2510\n",
      "Epoch 8: early stopping\n"
     ]
    },
    {
     "data": {
      "text/plain": [
       "<keras.src.callbacks.history.History at 0x2b8f6e802f0>"
      ]
     },
     "execution_count": 11,
     "metadata": {},
     "output_type": "execute_result"
    }
   ],
   "source": [
    "from tensorflow.keras.models import Sequential\n",
    "from tensorflow.keras.layers import Dense\n",
    "from tensorflow.keras.callbacks import EarlyStopping\n",
    "\n",
    "basic_fcnn_model = Sequential()\n",
    "\n",
    "basic_fcnn_model.add(Dense(500, input_dim=x.shape[1], activation='relu'))\n",
    "basic_fcnn_model.add(Dense(250, activation='relu'))\n",
    "basic_fcnn_model.add(Dense(125, activation='relu'))\n",
    "basic_fcnn_model.add(Dense(60, activation='relu'))\n",
    "basic_fcnn_model.add(Dense(30, activation='relu'))\n",
    "basic_fcnn_model.add(Dense(15, activation='relu'))\n",
    "basic_fcnn_model.add(Dense(1))\n",
    "\n",
    "basic_fcnn_model.compile(loss='mean_squared_error', optimizer='adam')\n",
    "\n",
    "# Early exit\n",
    "monitor = EarlyStopping(monitor='val_loss', min_delta=1e-3, patience=5, verbose=1, mode='auto')\n",
    "basic_fcnn_model.fit(x_train, y_train, validation_data=(x_test,y_test), callbacks=[monitor], verbose=2, epochs=1000)\n",
    "\n"
   ]
  },
  {
   "cell_type": "code",
   "execution_count": 12,
   "id": "22c18c10",
   "metadata": {},
   "outputs": [
    {
     "name": "stdout",
     "output_type": "stream",
     "text": [
      "\u001b[1m68/68\u001b[0m \u001b[32m━━━━━━━━━━━━━━━━━━━━\u001b[0m\u001b[37m\u001b[0m \u001b[1m0s\u001b[0m 3ms/step\n",
      "RMSE Score: 0.5009668026087557\n"
     ]
    }
   ],
   "source": [
    "print_rsme(basic_fcnn_model, x_test, y_test)"
   ]
  },
  {
   "cell_type": "markdown",
   "id": "41985425",
   "metadata": {},
   "source": [
    "#### Slower Learning Rate\n",
    "Basic FCNN but using a slower learning rate."
   ]
  },
  {
   "cell_type": "code",
   "execution_count": 13,
   "id": "aca3246e",
   "metadata": {},
   "outputs": [
    {
     "name": "stderr",
     "output_type": "stream",
     "text": [
      "c:\\Users\\rahgu\\anaconda3\\Lib\\site-packages\\keras\\src\\layers\\core\\dense.py:92: UserWarning: Do not pass an `input_shape`/`input_dim` argument to a layer. When using Sequential models, prefer using an `Input(shape)` object as the first layer in the model instead.\n",
      "  super().__init__(activity_regularizer=activity_regularizer, **kwargs)\n"
     ]
    },
    {
     "name": "stdout",
     "output_type": "stream",
     "text": [
      "Epoch 1/1000\n",
      "270/270 - 3s - 10ms/step - loss: 0.6093 - val_loss: 0.3294\n",
      "Epoch 2/1000\n",
      "270/270 - 1s - 3ms/step - loss: 0.2924 - val_loss: 0.2446\n",
      "Epoch 3/1000\n",
      "270/270 - 1s - 3ms/step - loss: 0.2614 - val_loss: 0.2373\n",
      "Epoch 4/1000\n",
      "270/270 - 1s - 3ms/step - loss: 0.2425 - val_loss: 0.2306\n",
      "Epoch 5/1000\n",
      "270/270 - 1s - 3ms/step - loss: 0.2269 - val_loss: 0.2307\n",
      "Epoch 6/1000\n",
      "270/270 - 1s - 3ms/step - loss: 0.2129 - val_loss: 0.2314\n",
      "Epoch 7/1000\n",
      "270/270 - 1s - 3ms/step - loss: 0.1955 - val_loss: 0.2598\n",
      "Epoch 8/1000\n",
      "270/270 - 1s - 3ms/step - loss: 0.1825 - val_loss: 0.2315\n",
      "Epoch 9/1000\n",
      "270/270 - 1s - 3ms/step - loss: 0.1639 - val_loss: 0.2341\n",
      "Epoch 9: early stopping\n"
     ]
    },
    {
     "data": {
      "text/plain": [
       "<keras.src.callbacks.history.History at 0x2b8f6e89950>"
      ]
     },
     "execution_count": 13,
     "metadata": {},
     "output_type": "execute_result"
    }
   ],
   "source": [
    "from tensorflow.keras import optimizers\n",
    "\n",
    "slow_fcnn_model = Sequential()\n",
    "\n",
    "slow_fcnn_model.add(Dense(500, input_dim=x.shape[1], activation='relu'))\n",
    "slow_fcnn_model.add(Dense(250, activation='relu'))\n",
    "slow_fcnn_model.add(Dense(125, activation='relu'))\n",
    "slow_fcnn_model.add(Dense(60, activation='relu'))\n",
    "slow_fcnn_model.add(Dense(30, activation='relu'))\n",
    "slow_fcnn_model.add(Dense(15, activation='relu'))\n",
    "slow_fcnn_model.add(Dense(1))\n",
    "\n",
    "adam_modified = optimizers.Adam(learning_rate=0.0001)\n",
    "\n",
    "slow_fcnn_model.compile(loss='mean_squared_error', optimizer=adam_modified)\n",
    "\n",
    "# Early exit\n",
    "monitor = EarlyStopping(monitor='val_loss', min_delta=1e-3, patience=5, verbose=1, mode='auto')\n",
    "slow_fcnn_model.fit(x_train, y_train, validation_data=(x_test,y_test), callbacks=[monitor], verbose=2, epochs=1000)"
   ]
  },
  {
   "cell_type": "code",
   "execution_count": 14,
   "id": "469e7792",
   "metadata": {},
   "outputs": [
    {
     "name": "stdout",
     "output_type": "stream",
     "text": [
      "\u001b[1m68/68\u001b[0m \u001b[32m━━━━━━━━━━━━━━━━━━━━\u001b[0m\u001b[37m\u001b[0m \u001b[1m0s\u001b[0m 3ms/step\n",
      "RMSE Score: 0.483788435837562\n"
     ]
    }
   ],
   "source": [
    "print_rsme(slow_fcnn_model, x_test, y_test)"
   ]
  },
  {
   "cell_type": "markdown",
   "id": "41307167",
   "metadata": {},
   "source": [
    "#### Dropout FCNN\n",
    "Same model as the basic fcnn, just with dropout layers implemented in between. Ideally, this will generalize the model more"
   ]
  },
  {
   "cell_type": "code",
   "execution_count": 15,
   "id": "78077e64",
   "metadata": {},
   "outputs": [
    {
     "name": "stderr",
     "output_type": "stream",
     "text": [
      "c:\\Users\\rahgu\\anaconda3\\Lib\\site-packages\\keras\\src\\layers\\core\\dense.py:92: UserWarning: Do not pass an `input_shape`/`input_dim` argument to a layer. When using Sequential models, prefer using an `Input(shape)` object as the first layer in the model instead.\n",
      "  super().__init__(activity_regularizer=activity_regularizer, **kwargs)\n"
     ]
    },
    {
     "name": "stdout",
     "output_type": "stream",
     "text": [
      "Epoch 1/1000\n",
      "270/270 - 3s - 10ms/step - loss: 0.4270 - val_loss: 0.2349\n",
      "Epoch 2/1000\n",
      "270/270 - 1s - 4ms/step - loss: 0.2841 - val_loss: 0.2417\n",
      "Epoch 3/1000\n",
      "270/270 - 1s - 4ms/step - loss: 0.2461 - val_loss: 0.2349\n",
      "Epoch 4/1000\n",
      "270/270 - 1s - 4ms/step - loss: 0.2136 - val_loss: 0.2376\n",
      "Epoch 5/1000\n",
      "270/270 - 1s - 4ms/step - loss: 0.1826 - val_loss: 0.2318\n",
      "Epoch 6/1000\n",
      "270/270 - 1s - 4ms/step - loss: 0.1524 - val_loss: 0.2411\n",
      "Epoch 7/1000\n",
      "270/270 - 1s - 4ms/step - loss: 0.1385 - val_loss: 0.2386\n",
      "Epoch 8/1000\n",
      "270/270 - 1s - 4ms/step - loss: 0.1263 - val_loss: 0.2408\n",
      "Epoch 9/1000\n",
      "270/270 - 1s - 4ms/step - loss: 0.1106 - val_loss: 0.2517\n",
      "Epoch 10/1000\n",
      "270/270 - 1s - 4ms/step - loss: 0.1015 - val_loss: 0.2328\n",
      "Epoch 10: early stopping\n"
     ]
    },
    {
     "data": {
      "text/plain": [
       "<keras.src.callbacks.history.History at 0x2b8f6e88550>"
      ]
     },
     "execution_count": 15,
     "metadata": {},
     "output_type": "execute_result"
    }
   ],
   "source": [
    "# Add dropout layers\n",
    "from tensorflow.keras.layers import Dropout\n",
    "\n",
    "dropout_fcnn_model = Sequential()\n",
    "\n",
    "dropout_fcnn_model.add(Dense(500, input_dim=x.shape[1], activation='relu'))\n",
    "dropout_fcnn_model.add(Dropout(0.1))\n",
    "dropout_fcnn_model.add(Dense(250, activation='relu'))\n",
    "dropout_fcnn_model.add(Dropout(0.1))\n",
    "dropout_fcnn_model.add(Dense(125, activation='relu'))\n",
    "dropout_fcnn_model.add(Dropout(0.1))\n",
    "dropout_fcnn_model.add(Dense(60, activation='relu'))\n",
    "dropout_fcnn_model.add(Dropout(0.1))\n",
    "dropout_fcnn_model.add(Dense(30, activation='relu'))\n",
    "dropout_fcnn_model.add(Dropout(0.1))\n",
    "dropout_fcnn_model.add(Dense(15, activation='relu'))\n",
    "dropout_fcnn_model.add(Dense(1))\n",
    "\n",
    "dropout_fcnn_model.compile(loss='mean_squared_error', optimizer='adam')\n",
    "\n",
    "# Early exit\n",
    "monitor = EarlyStopping(monitor='val_loss', min_delta=1e-3, patience=5, verbose=1, mode='auto')\n",
    "dropout_fcnn_model.fit(x_train, y_train, validation_data=(x_test,y_test), callbacks=[monitor], verbose=2, epochs=1000)"
   ]
  },
  {
   "cell_type": "code",
   "execution_count": 16,
   "id": "e13c126e",
   "metadata": {},
   "outputs": [
    {
     "name": "stdout",
     "output_type": "stream",
     "text": [
      "\u001b[1m68/68\u001b[0m \u001b[32m━━━━━━━━━━━━━━━━━━━━\u001b[0m\u001b[37m\u001b[0m \u001b[1m0s\u001b[0m 3ms/step\n",
      "RMSE Score: 0.4825024228409628\n"
     ]
    }
   ],
   "source": [
    "print_rsme(dropout_fcnn_model, x_test, y_test)"
   ]
  },
  {
   "cell_type": "markdown",
   "id": "7a67319f",
   "metadata": {},
   "source": [
    "Not much of a difference noticed with dropout"
   ]
  },
  {
   "cell_type": "markdown",
   "id": "5590b877",
   "metadata": {},
   "source": [
    "#### Adjusting Hyperparameters\n",
    "We'll be using the slower learning rate adam optimizer from before, since it yielded slightly lower RSME.\n"
   ]
  },
  {
   "cell_type": "markdown",
   "id": "61f0c211",
   "metadata": {},
   "source": [
    "##### Changing Max Features\n",
    "Adjusting the max number of features for TFIDF"
   ]
  },
  {
   "cell_type": "code",
   "execution_count": 17,
   "id": "1b30391d",
   "metadata": {},
   "outputs": [
    {
     "name": "stderr",
     "output_type": "stream",
     "text": [
      "c:\\Users\\rahgu\\anaconda3\\Lib\\site-packages\\keras\\src\\layers\\core\\dense.py:92: UserWarning: Do not pass an `input_shape`/`input_dim` argument to a layer. When using Sequential models, prefer using an `Input(shape)` object as the first layer in the model instead.\n",
      "  super().__init__(activity_regularizer=activity_regularizer, **kwargs)\n"
     ]
    },
    {
     "name": "stdout",
     "output_type": "stream",
     "text": [
      "Epoch 1/1000\n",
      "270/270 - 4s - 14ms/step - loss: 0.4662 - val_loss: 0.2347\n",
      "Epoch 2/1000\n",
      "270/270 - 2s - 8ms/step - loss: 0.2436 - val_loss: 0.2278\n",
      "Epoch 3/1000\n",
      "270/270 - 2s - 8ms/step - loss: 0.2004 - val_loss: 0.2191\n",
      "Epoch 4/1000\n",
      "270/270 - 2s - 8ms/step - loss: 0.1747 - val_loss: 0.2280\n",
      "Epoch 5/1000\n",
      "270/270 - 2s - 8ms/step - loss: 0.1477 - val_loss: 0.2439\n",
      "Epoch 6/1000\n",
      "270/270 - 2s - 8ms/step - loss: 0.1183 - val_loss: 0.2246\n",
      "Epoch 7/1000\n",
      "270/270 - 2s - 8ms/step - loss: 0.0940 - val_loss: 0.2292\n",
      "Epoch 8/1000\n",
      "270/270 - 2s - 8ms/step - loss: 0.0746 - val_loss: 0.2408\n",
      "Epoch 8: early stopping\n",
      "\u001b[1m68/68\u001b[0m \u001b[32m━━━━━━━━━━━━━━━━━━━━\u001b[0m\u001b[37m\u001b[0m \u001b[1m0s\u001b[0m 3ms/step\n",
      "RMSE Score: 0.4906708569319917\n"
     ]
    }
   ],
   "source": [
    "vectorizer = sk_text.TfidfVectorizer(stop_words='english', max_features=500, min_df=1)\n",
    "\n",
    "x = vectorizer.fit_transform(df_grouped['all_reviews'])\n",
    "y = df_grouped[['stars']].to_numpy()\n",
    "\n",
    "x_train, x_test, y_train, y_test = train_test_split(x, y, test_size=0.2, random_state=42)\n",
    "\n",
    "model = Sequential()\n",
    "\n",
    "model.add(Dense(1000, input_dim=x.shape[1], activation='relu'))\n",
    "model.add(Dense(500, activation='relu'))\n",
    "model.add(Dense(250, activation='relu'))\n",
    "model.add(Dense(125, activation='relu'))\n",
    "model.add(Dense(60, activation='relu'))\n",
    "model.add(Dense(30, activation='relu'))\n",
    "model.add(Dense(15, activation='relu'))\n",
    "model.add(Dense(1))\n",
    "\n",
    "adam_modified = optimizers.Adam(learning_rate=0.0001)\n",
    "\n",
    "model.compile(loss='mean_squared_error', optimizer=adam_modified)\n",
    "\n",
    "# Early exit\n",
    "monitor = EarlyStopping(monitor='val_loss', min_delta=1e-3, patience=5, verbose=1, mode='auto')\n",
    "model.fit(x_train, y_train, validation_data=(x_test,y_test), callbacks=[monitor], verbose=2, epochs=1000)\n",
    "\n",
    "print_rsme(model, x_test, y_test)"
   ]
  },
  {
   "cell_type": "markdown",
   "id": "9c2a4799",
   "metadata": {},
   "source": [
    "##### Use SGD"
   ]
  },
  {
   "cell_type": "code",
   "execution_count": null,
   "id": "eecdaff2",
   "metadata": {},
   "outputs": [
    {
     "name": "stderr",
     "output_type": "stream",
     "text": [
      "c:\\Users\\rahgu\\anaconda3\\Lib\\site-packages\\keras\\src\\layers\\core\\dense.py:92: UserWarning: Do not pass an `input_shape`/`input_dim` argument to a layer. When using Sequential models, prefer using an `Input(shape)` object as the first layer in the model instead.\n",
      "  super().__init__(activity_regularizer=activity_regularizer, **kwargs)\n"
     ]
    },
    {
     "name": "stdout",
     "output_type": "stream",
     "text": [
      "Epoch 1/1000\n",
      "270/270 - 1s - 5ms/step - loss: 1.0026 - val_loss: 0.9845\n",
      "Epoch 2/1000\n",
      "270/270 - 1s - 4ms/step - loss: 1.0002 - val_loss: 0.9812\n",
      "Epoch 3/1000\n",
      "270/270 - 1s - 4ms/step - loss: 0.9957 - val_loss: 0.9749\n",
      "Epoch 4/1000\n",
      "270/270 - 1s - 4ms/step - loss: 0.9878 - val_loss: 0.9652\n",
      "Epoch 5/1000\n",
      "270/270 - 1s - 4ms/step - loss: 0.9767 - val_loss: 0.9522\n",
      "Epoch 6/1000\n",
      "270/270 - 1s - 4ms/step - loss: 0.9619 - val_loss: 0.9352\n",
      "Epoch 7/1000\n",
      "270/270 - 1s - 4ms/step - loss: 0.9414 - val_loss: 0.9127\n",
      "Epoch 8/1000\n",
      "270/270 - 1s - 4ms/step - loss: 0.9138 - val_loss: 0.8791\n",
      "Epoch 9/1000\n",
      "270/270 - 1s - 4ms/step - loss: 0.8752 - val_loss: 0.8330\n",
      "Epoch 10/1000\n",
      "270/270 - 1s - 4ms/step - loss: 0.8205 - val_loss: 0.7669\n",
      "Epoch 11/1000\n",
      "270/270 - 1s - 4ms/step - loss: 0.7442 - val_loss: 0.6770\n",
      "Epoch 12/1000\n",
      "270/270 - 1s - 4ms/step - loss: 0.6452 - val_loss: 0.5667\n",
      "Epoch 13/1000\n",
      "270/270 - 1s - 4ms/step - loss: 0.5322 - val_loss: 0.4530\n",
      "Epoch 14/1000\n",
      "270/270 - 1s - 4ms/step - loss: 0.4353 - val_loss: 0.3668\n",
      "Epoch 15/1000\n",
      "270/270 - 1s - 4ms/step - loss: 0.3739 - val_loss: 0.3265\n",
      "Epoch 16/1000\n",
      "270/270 - 1s - 4ms/step - loss: 0.3418 - val_loss: 0.3019\n",
      "Epoch 17/1000\n",
      "270/270 - 1s - 4ms/step - loss: 0.3232 - val_loss: 0.2867\n",
      "Epoch 18/1000\n",
      "270/270 - 1s - 4ms/step - loss: 0.3099 - val_loss: 0.2795\n",
      "Epoch 19/1000\n",
      "270/270 - 1s - 4ms/step - loss: 0.2998 - val_loss: 0.2695\n",
      "Epoch 20/1000\n",
      "270/270 - 1s - 4ms/step - loss: 0.2907 - val_loss: 0.2681\n",
      "Epoch 21/1000\n",
      "270/270 - 1s - 4ms/step - loss: 0.2835 - val_loss: 0.2570\n",
      "Epoch 22/1000\n",
      "270/270 - 1s - 4ms/step - loss: 0.2769 - val_loss: 0.2606\n",
      "Epoch 23/1000\n",
      "270/270 - 1s - 4ms/step - loss: 0.2722 - val_loss: 0.2497\n",
      "Epoch 24/1000\n",
      "270/270 - 1s - 4ms/step - loss: 0.2674 - val_loss: 0.2786\n",
      "Epoch 25/1000\n",
      "270/270 - 1s - 4ms/step - loss: 0.2619 - val_loss: 0.2510\n",
      "Epoch 26/1000\n",
      "270/270 - 1s - 4ms/step - loss: 0.2592 - val_loss: 0.2463\n",
      "Epoch 27/1000\n",
      "270/270 - 1s - 4ms/step - loss: 0.2544 - val_loss: 0.2426\n",
      "Epoch 28/1000\n",
      "270/270 - 1s - 4ms/step - loss: 0.2519 - val_loss: 0.2371\n",
      "Epoch 29/1000\n",
      "270/270 - 1s - 4ms/step - loss: 0.2476 - val_loss: 0.2464\n",
      "Epoch 30/1000\n",
      "270/270 - 1s - 4ms/step - loss: 0.2451 - val_loss: 0.2353\n",
      "Epoch 31/1000\n",
      "270/270 - 1s - 4ms/step - loss: 0.2426 - val_loss: 0.2782\n",
      "Epoch 32/1000\n",
      "270/270 - 1s - 4ms/step - loss: 0.2393 - val_loss: 0.2339\n",
      "Epoch 33/1000\n",
      "270/270 - 1s - 4ms/step - loss: 0.2363 - val_loss: 0.2442\n",
      "Epoch 34/1000\n",
      "270/270 - 1s - 4ms/step - loss: 0.2340 - val_loss: 0.2551\n",
      "Epoch 35/1000\n",
      "270/270 - 1s - 4ms/step - loss: 0.2310 - val_loss: 0.2601\n",
      "Epoch 36/1000\n",
      "270/270 - 1s - 4ms/step - loss: 0.2287 - val_loss: 0.2276\n",
      "Epoch 37/1000\n",
      "270/270 - 1s - 4ms/step - loss: 0.2268 - val_loss: 0.2279\n",
      "Epoch 38/1000\n",
      "270/270 - 1s - 4ms/step - loss: 0.2240 - val_loss: 0.2343\n",
      "Epoch 39/1000\n",
      "270/270 - 1s - 4ms/step - loss: 0.2225 - val_loss: 0.2282\n",
      "Epoch 40/1000\n",
      "270/270 - 1s - 5ms/step - loss: 0.2208 - val_loss: 0.2262\n",
      "Epoch 41/1000\n",
      "270/270 - 1s - 4ms/step - loss: 0.2185 - val_loss: 0.2901\n",
      "Epoch 42/1000\n",
      "270/270 - 1s - 4ms/step - loss: 0.2160 - val_loss: 0.2405\n",
      "Epoch 43/1000\n",
      "270/270 - 1s - 4ms/step - loss: 0.2149 - val_loss: 0.2302\n",
      "Epoch 44/1000\n",
      "270/270 - 1s - 4ms/step - loss: 0.2131 - val_loss: 0.2291\n",
      "Epoch 45/1000\n",
      "270/270 - 1s - 4ms/step - loss: 0.2099 - val_loss: 0.2388\n",
      "Epoch 45: early stopping\n",
      "\u001b[1m68/68\u001b[0m \u001b[32m━━━━━━━━━━━━━━━━━━━━\u001b[0m\u001b[37m\u001b[0m \u001b[1m0s\u001b[0m 3ms/step\n",
      "RMSE Score: 0.48864411961818555\n"
     ]
    }
   ],
   "source": [
    "# Using SGD instead of Adam\n",
    "\n",
    "vectorizer = sk_text.TfidfVectorizer(stop_words='english', max_features=500, min_df=1)\n",
    "\n",
    "x = vectorizer.fit_transform(df_grouped['all_reviews'])\n",
    "y = df_grouped[['stars']].to_numpy()\n",
    "\n",
    "x_train, x_test, y_train, y_test = train_test_split(x, y, test_size=0.2, random_state=42)\n",
    "\n",
    "model = Sequential()\n",
    "\n",
    "model.add(Dense(1000, input_dim=x.shape[1], activation='relu'))\n",
    "model.add(Dense(500, activation='relu'))\n",
    "model.add(Dense(250, activation='relu'))\n",
    "model.add(Dense(125, activation='relu'))\n",
    "model.add(Dense(60, activation='relu'))\n",
    "model.add(Dense(30, activation='relu'))\n",
    "model.add(Dense(15, activation='relu'))\n",
    "model.add(Dense(1))\n",
    "\n",
    "adam_modified = optimizers.SGD(learning_rate=0.001)\n",
    "\n",
    "model.compile(loss='mean_squared_error', optimizer=adam_modified)\n",
    "\n",
    "# Early exit\n",
    "monitor = EarlyStopping(monitor='val_loss', min_delta=1e-3, patience=5, verbose=1, mode='auto')\n",
    "model.fit(x_train, y_train, validation_data=(x_test,y_test), callbacks=[monitor], verbose=2, epochs=1000)\n",
    "\n",
    "print_rsme(model, x_test, y_test)"
   ]
  },
  {
   "cell_type": "markdown",
   "id": "9ea5f063",
   "metadata": {},
   "source": [
    "##### Smaller Number of Layers and Neurons"
   ]
  },
  {
   "cell_type": "code",
   "execution_count": 36,
   "id": "82621a98",
   "metadata": {},
   "outputs": [
    {
     "name": "stderr",
     "output_type": "stream",
     "text": [
      "c:\\Users\\rahgu\\anaconda3\\Lib\\site-packages\\keras\\src\\layers\\core\\dense.py:92: UserWarning: Do not pass an `input_shape`/`input_dim` argument to a layer. When using Sequential models, prefer using an `Input(shape)` object as the first layer in the model instead.\n",
      "  super().__init__(activity_regularizer=activity_regularizer, **kwargs)\n"
     ]
    },
    {
     "name": "stdout",
     "output_type": "stream",
     "text": [
      "Epoch 1/1000\n",
      "270/270 - 3s - 11ms/step - loss: 0.3153 - val_loss: 0.2108\n",
      "Epoch 2/1000\n",
      "270/270 - 2s - 6ms/step - loss: 0.1933 - val_loss: 0.2365\n",
      "Epoch 3/1000\n",
      "270/270 - 2s - 6ms/step - loss: 0.1331 - val_loss: 0.2242\n",
      "Epoch 4/1000\n",
      "270/270 - 2s - 6ms/step - loss: 0.0904 - val_loss: 0.2255\n",
      "Epoch 5/1000\n",
      "270/270 - 2s - 6ms/step - loss: 0.0689 - val_loss: 0.2278\n",
      "Epoch 6/1000\n",
      "270/270 - 2s - 6ms/step - loss: 0.0518 - val_loss: 0.2272\n",
      "Epoch 6: early stopping\n",
      "\u001b[1m68/68\u001b[0m \u001b[32m━━━━━━━━━━━━━━━━━━━━\u001b[0m\u001b[37m\u001b[0m \u001b[1m0s\u001b[0m 5ms/step\n",
      "RMSE Score: 0.4766763963276964\n"
     ]
    }
   ],
   "source": [
    "vectorizer = sk_text.TfidfVectorizer(stop_words='english', max_features=1000, min_df=1)\n",
    "\n",
    "x = vectorizer.fit_transform(df_grouped['all_reviews'])\n",
    "y = df_grouped[['stars']].to_numpy()\n",
    "\n",
    "x_train, x_test, y_train, y_test = train_test_split(x, y, test_size=0.2, random_state=42)\n",
    "\n",
    "model = Sequential()\n",
    "\n",
    "model.add(Dense(500, input_dim=x.shape[1], activation='relu'))\n",
    "model.add(Dense(250, activation='relu'))\n",
    "model.add(Dense(125, activation='relu'))\n",
    "model.add(Dense(1))\n",
    "\n",
    "adam_modified = optimizers.Adam(learning_rate=0.001)\n",
    "\n",
    "model.compile(loss='mean_squared_error', optimizer=adam_modified)\n",
    "\n",
    "# Early exit\n",
    "monitor = EarlyStopping(monitor='val_loss', min_delta=1e-3, patience=5, verbose=1, mode='auto')\n",
    "model.fit(x_train, y_train, validation_data=(x_test,y_test), callbacks=[monitor], verbose=2, epochs=1000)\n",
    "\n",
    "print_rsme(model, x_test, y_test)"
   ]
  },
  {
   "cell_type": "markdown",
   "id": "9cb712d6",
   "metadata": {},
   "source": [
    "##### Smaller Number of Layers and Neurons w/ Dropout\n",
    "Also using 2k words for vectorizer"
   ]
  },
  {
   "cell_type": "code",
   "execution_count": 45,
   "id": "cdc1f286",
   "metadata": {},
   "outputs": [
    {
     "name": "stderr",
     "output_type": "stream",
     "text": [
      "c:\\Users\\rahgu\\anaconda3\\Lib\\site-packages\\keras\\src\\layers\\core\\dense.py:92: UserWarning: Do not pass an `input_shape`/`input_dim` argument to a layer. When using Sequential models, prefer using an `Input(shape)` object as the first layer in the model instead.\n",
      "  super().__init__(activity_regularizer=activity_regularizer, **kwargs)\n"
     ]
    },
    {
     "name": "stdout",
     "output_type": "stream",
     "text": [
      "Epoch 1/1000\n",
      "270/270 - 5s - 18ms/step - loss: 0.3250 - val_loss: 0.2104\n",
      "Epoch 2/1000\n",
      "270/270 - 3s - 13ms/step - loss: 0.1786 - val_loss: 0.2184\n",
      "Epoch 3/1000\n",
      "270/270 - 3s - 12ms/step - loss: 0.1167 - val_loss: 0.2294\n",
      "Epoch 4/1000\n",
      "270/270 - 3s - 12ms/step - loss: 0.0834 - val_loss: 0.2159\n",
      "Epoch 5/1000\n",
      "270/270 - 3s - 12ms/step - loss: 0.0621 - val_loss: 0.2135\n",
      "Epoch 6/1000\n",
      "270/270 - 3s - 11ms/step - loss: 0.0481 - val_loss: 0.2219\n",
      "Epoch 6: early stopping\n",
      "\u001b[1m68/68\u001b[0m \u001b[32m━━━━━━━━━━━━━━━━━━━━\u001b[0m\u001b[37m\u001b[0m \u001b[1m0s\u001b[0m 6ms/step\n",
      "RMSE Score: 0.4710981124564769\n"
     ]
    }
   ],
   "source": [
    "vectorizer = sk_text.TfidfVectorizer(stop_words='english', max_features=2000, min_df=1)\n",
    "\n",
    "x = vectorizer.fit_transform(df_grouped['all_reviews'])\n",
    "y = df_grouped[['stars']].to_numpy()\n",
    "\n",
    "x_train, x_test, y_train, y_test = train_test_split(x, y, test_size=0.2, random_state=42)\n",
    "\n",
    "model = Sequential()\n",
    "\n",
    "model.add(Dense(500, input_dim=x.shape[1], activation='relu'))\n",
    "model.add(Dropout(0.1))\n",
    "model.add(Dense(250, activation='relu'))\n",
    "model.add(Dropout(0.1))\n",
    "model.add(Dense(125, activation='relu'))\n",
    "model.add(Dense(1))\n",
    "\n",
    "adam_modified = optimizers.Adam(learning_rate=0.001)\n",
    "\n",
    "model.compile(loss='mean_squared_error', optimizer=adam_modified)\n",
    "\n",
    "# Early exit\n",
    "monitor = EarlyStopping(monitor='val_loss', min_delta=0, patience=5, verbose=1, mode='auto')\n",
    "model.fit(x_train, y_train, validation_data=(x_test,y_test), callbacks=[monitor], verbose=2, epochs=1000)\n",
    "\n",
    "print_rsme(model, x_test, y_test)"
   ]
  },
  {
   "cell_type": "markdown",
   "id": "5ad2c287",
   "metadata": {},
   "source": [
    "##### Testing different dropout values"
   ]
  },
  {
   "cell_type": "code",
   "execution_count": 47,
   "id": "d2e5ced9",
   "metadata": {},
   "outputs": [
    {
     "name": "stderr",
     "output_type": "stream",
     "text": [
      "c:\\Users\\rahgu\\anaconda3\\Lib\\site-packages\\keras\\src\\layers\\core\\dense.py:92: UserWarning: Do not pass an `input_shape`/`input_dim` argument to a layer. When using Sequential models, prefer using an `Input(shape)` object as the first layer in the model instead.\n",
      "  super().__init__(activity_regularizer=activity_regularizer, **kwargs)\n"
     ]
    },
    {
     "name": "stdout",
     "output_type": "stream",
     "text": [
      "Epoch 1/1000\n",
      "270/270 - 5s - 18ms/step - loss: 0.3657 - val_loss: 0.2296\n",
      "Epoch 2/1000\n",
      "270/270 - 3s - 11ms/step - loss: 0.2198 - val_loss: 0.2260\n",
      "Epoch 3/1000\n",
      "270/270 - 3s - 11ms/step - loss: 0.1734 - val_loss: 0.2337\n",
      "Epoch 4/1000\n",
      "270/270 - 3s - 11ms/step - loss: 0.1438 - val_loss: 0.2079\n",
      "Epoch 5/1000\n",
      "270/270 - 3s - 11ms/step - loss: 0.1180 - val_loss: 0.2147\n",
      "Epoch 6/1000\n",
      "270/270 - 3s - 12ms/step - loss: 0.1000 - val_loss: 0.2149\n",
      "Epoch 7/1000\n",
      "270/270 - 3s - 12ms/step - loss: 0.0890 - val_loss: 0.2134\n",
      "Epoch 8/1000\n",
      "270/270 - 3s - 11ms/step - loss: 0.0798 - val_loss: 0.2138\n",
      "Epoch 9/1000\n",
      "270/270 - 4s - 15ms/step - loss: 0.0767 - val_loss: 0.2222\n",
      "Epoch 9: early stopping\n",
      "\u001b[1m68/68\u001b[0m \u001b[32m━━━━━━━━━━━━━━━━━━━━\u001b[0m\u001b[37m\u001b[0m \u001b[1m1s\u001b[0m 7ms/step\n",
      "RMSE Score: 0.4713762617153123\n"
     ]
    }
   ],
   "source": [
    "model = Sequential()\n",
    "\n",
    "model.add(Dense(500, input_dim=x.shape[1], activation='relu'))\n",
    "model.add(Dropout(0.5))\n",
    "model.add(Dense(250, activation='relu'))\n",
    "model.add(Dropout(0.3))\n",
    "model.add(Dense(125, activation='relu'))\n",
    "model.add(Dense(1))\n",
    "\n",
    "adam_modified = optimizers.Adam(learning_rate=0.001)\n",
    "\n",
    "model.compile(loss='mean_squared_error', optimizer=adam_modified)\n",
    "\n",
    "# Early exit\n",
    "monitor = EarlyStopping(monitor='val_loss', min_delta=0, patience=5, verbose=1, mode='auto')\n",
    "model.fit(x_train, y_train, validation_data=(x_test,y_test), callbacks=[monitor], verbose=2, epochs=1000)\n",
    "\n",
    "print_rsme(model, x_test, y_test)"
   ]
  },
  {
   "cell_type": "markdown",
   "id": "7caa543c",
   "metadata": {},
   "source": [
    "##### Reduce by 1 layer"
   ]
  },
  {
   "cell_type": "code",
   "execution_count": 48,
   "id": "326ed6ba",
   "metadata": {},
   "outputs": [
    {
     "name": "stderr",
     "output_type": "stream",
     "text": [
      "c:\\Users\\rahgu\\anaconda3\\Lib\\site-packages\\keras\\src\\layers\\core\\dense.py:92: UserWarning: Do not pass an `input_shape`/`input_dim` argument to a layer. When using Sequential models, prefer using an `Input(shape)` object as the first layer in the model instead.\n",
      "  super().__init__(activity_regularizer=activity_regularizer, **kwargs)\n"
     ]
    },
    {
     "name": "stdout",
     "output_type": "stream",
     "text": [
      "Epoch 1/1000\n",
      "270/270 - 4s - 15ms/step - loss: 0.3575 - val_loss: 0.2220\n",
      "Epoch 2/1000\n",
      "270/270 - 3s - 10ms/step - loss: 0.2232 - val_loss: 0.2098\n",
      "Epoch 3/1000\n",
      "270/270 - 3s - 10ms/step - loss: 0.1782 - val_loss: 0.2115\n",
      "Epoch 4/1000\n",
      "270/270 - 3s - 10ms/step - loss: 0.1471 - val_loss: 0.2121\n",
      "Epoch 5/1000\n",
      "270/270 - 3s - 10ms/step - loss: 0.1215 - val_loss: 0.2185\n",
      "Epoch 6/1000\n",
      "270/270 - 3s - 10ms/step - loss: 0.1087 - val_loss: 0.2176\n",
      "Epoch 7/1000\n",
      "270/270 - 3s - 10ms/step - loss: 0.0935 - val_loss: 0.2178\n",
      "Epoch 7: early stopping\n",
      "\u001b[1m68/68\u001b[0m \u001b[32m━━━━━━━━━━━━━━━━━━━━\u001b[0m\u001b[37m\u001b[0m \u001b[1m1s\u001b[0m 6ms/step\n",
      "RMSE Score: 0.46664243596131105\n"
     ]
    }
   ],
   "source": [
    "model = Sequential()\n",
    "\n",
    "model.add(Dense(500, input_dim=x.shape[1], activation='relu'))\n",
    "model.add(Dropout(0.5))\n",
    "model.add(Dense(125, activation='relu'))\n",
    "model.add(Dropout(0.3))\n",
    "model.add(Dense(1))\n",
    "\n",
    "adam_modified = optimizers.Adam(learning_rate=0.001)\n",
    "\n",
    "model.compile(loss='mean_squared_error', optimizer=adam_modified)\n",
    "\n",
    "# Early exit\n",
    "monitor = EarlyStopping(monitor='val_loss', min_delta=0, patience=5, verbose=1, mode='auto')\n",
    "model.fit(x_train, y_train, validation_data=(x_test,y_test), callbacks=[monitor], verbose=2, epochs=1000)\n",
    "\n",
    "print_rsme(model, x_test, y_test)"
   ]
  },
  {
   "cell_type": "markdown",
   "id": "d7643f79",
   "metadata": {},
   "source": [
    "##### 10k TFIDF Features w/ SGD"
   ]
  },
  {
   "cell_type": "code",
   "execution_count": 61,
   "id": "cf0f1e71",
   "metadata": {},
   "outputs": [],
   "source": [
    "vectorizer = sk_text.TfidfVectorizer(stop_words='english', max_features=10000, min_df=1)\n",
    "\n",
    "x = vectorizer.fit_transform(df_grouped['all_reviews'])\n",
    "y = df_grouped[['stars']].to_numpy()\n",
    "\n",
    "x_train, x_test, y_train, y_test = train_test_split(x, y, test_size=0.2, random_state=42)"
   ]
  },
  {
   "cell_type": "code",
   "execution_count": 62,
   "id": "3bd8f368",
   "metadata": {},
   "outputs": [
    {
     "name": "stderr",
     "output_type": "stream",
     "text": [
      "c:\\Users\\rahgu\\anaconda3\\Lib\\site-packages\\keras\\src\\layers\\core\\dense.py:92: UserWarning: Do not pass an `input_shape`/`input_dim` argument to a layer. When using Sequential models, prefer using an `Input(shape)` object as the first layer in the model instead.\n",
      "  super().__init__(activity_regularizer=activity_regularizer, **kwargs)\n"
     ]
    },
    {
     "name": "stdout",
     "output_type": "stream",
     "text": [
      "Epoch 1/1000\n",
      "270/270 - 5s - 18ms/step - loss: 1.0031 - val_loss: 0.9835\n",
      "Epoch 2/1000\n",
      "270/270 - 4s - 15ms/step - loss: 1.0005 - val_loss: 0.9800\n",
      "Epoch 3/1000\n",
      "270/270 - 4s - 15ms/step - loss: 0.9971 - val_loss: 0.9761\n",
      "Epoch 4/1000\n",
      "270/270 - 4s - 15ms/step - loss: 0.9937 - val_loss: 0.9718\n",
      "Epoch 5/1000\n",
      "270/270 - 4s - 15ms/step - loss: 0.9888 - val_loss: 0.9666\n",
      "Epoch 6/1000\n",
      "270/270 - 4s - 15ms/step - loss: 0.9836 - val_loss: 0.9607\n",
      "Epoch 7/1000\n",
      "270/270 - 4s - 15ms/step - loss: 0.9773 - val_loss: 0.9539\n",
      "Epoch 8/1000\n",
      "270/270 - 4s - 15ms/step - loss: 0.9707 - val_loss: 0.9466\n",
      "Epoch 9/1000\n",
      "270/270 - 4s - 15ms/step - loss: 0.9626 - val_loss: 0.9381\n",
      "Epoch 10/1000\n",
      "270/270 - 4s - 15ms/step - loss: 0.9562 - val_loss: 0.9286\n",
      "Epoch 11/1000\n",
      "270/270 - 4s - 15ms/step - loss: 0.9466 - val_loss: 0.9183\n",
      "Epoch 12/1000\n",
      "270/270 - 4s - 15ms/step - loss: 0.9377 - val_loss: 0.9074\n",
      "Epoch 13/1000\n",
      "270/270 - 4s - 15ms/step - loss: 0.9269 - val_loss: 0.8954\n",
      "Epoch 14/1000\n",
      "270/270 - 4s - 15ms/step - loss: 0.9137 - val_loss: 0.8820\n",
      "Epoch 15/1000\n",
      "270/270 - 4s - 15ms/step - loss: 0.8997 - val_loss: 0.8673\n",
      "Epoch 16/1000\n",
      "270/270 - 4s - 15ms/step - loss: 0.8832 - val_loss: 0.8512\n",
      "Epoch 17/1000\n",
      "270/270 - 4s - 15ms/step - loss: 0.8682 - val_loss: 0.8337\n",
      "Epoch 18/1000\n",
      "270/270 - 4s - 15ms/step - loss: 0.8535 - val_loss: 0.8143\n",
      "Epoch 19/1000\n",
      "270/270 - 4s - 15ms/step - loss: 0.8337 - val_loss: 0.7937\n",
      "Epoch 20/1000\n",
      "270/270 - 4s - 15ms/step - loss: 0.8131 - val_loss: 0.7712\n",
      "Epoch 21/1000\n",
      "270/270 - 5s - 17ms/step - loss: 0.7963 - val_loss: 0.7479\n",
      "Epoch 22/1000\n",
      "270/270 - 4s - 15ms/step - loss: 0.7712 - val_loss: 0.7232\n",
      "Epoch 23/1000\n",
      "270/270 - 4s - 15ms/step - loss: 0.7465 - val_loss: 0.6967\n",
      "Epoch 24/1000\n",
      "270/270 - 4s - 15ms/step - loss: 0.7199 - val_loss: 0.6689\n",
      "Epoch 25/1000\n",
      "270/270 - 4s - 15ms/step - loss: 0.6940 - val_loss: 0.6414\n",
      "Epoch 26/1000\n",
      "270/270 - 4s - 15ms/step - loss: 0.6659 - val_loss: 0.6120\n",
      "Epoch 27/1000\n",
      "270/270 - 4s - 15ms/step - loss: 0.6461 - val_loss: 0.5840\n",
      "Epoch 28/1000\n",
      "270/270 - 4s - 15ms/step - loss: 0.6161 - val_loss: 0.5556\n",
      "Epoch 29/1000\n",
      "270/270 - 4s - 15ms/step - loss: 0.5939 - val_loss: 0.5287\n",
      "Epoch 30/1000\n",
      "270/270 - 4s - 15ms/step - loss: 0.5660 - val_loss: 0.5030\n",
      "Epoch 31/1000\n",
      "270/270 - 4s - 15ms/step - loss: 0.5398 - val_loss: 0.4792\n",
      "Epoch 32/1000\n",
      "270/270 - 4s - 15ms/step - loss: 0.5298 - val_loss: 0.4572\n",
      "Epoch 33/1000\n",
      "270/270 - 4s - 15ms/step - loss: 0.5067 - val_loss: 0.4384\n",
      "Epoch 34/1000\n",
      "270/270 - 4s - 15ms/step - loss: 0.4913 - val_loss: 0.4203\n",
      "Epoch 35/1000\n",
      "270/270 - 4s - 15ms/step - loss: 0.4750 - val_loss: 0.4038\n",
      "Epoch 36/1000\n",
      "270/270 - 4s - 15ms/step - loss: 0.4609 - val_loss: 0.3903\n",
      "Epoch 37/1000\n",
      "270/270 - 4s - 15ms/step - loss: 0.4446 - val_loss: 0.3777\n",
      "Epoch 38/1000\n",
      "270/270 - 4s - 15ms/step - loss: 0.4418 - val_loss: 0.3664\n",
      "Epoch 39/1000\n",
      "270/270 - 4s - 15ms/step - loss: 0.4279 - val_loss: 0.3578\n",
      "Epoch 40/1000\n",
      "270/270 - 4s - 15ms/step - loss: 0.4220 - val_loss: 0.3485\n",
      "Epoch 41/1000\n",
      "270/270 - 4s - 15ms/step - loss: 0.4070 - val_loss: 0.3412\n",
      "Epoch 42/1000\n",
      "270/270 - 4s - 16ms/step - loss: 0.4055 - val_loss: 0.3341\n",
      "Epoch 43/1000\n",
      "270/270 - 4s - 15ms/step - loss: 0.3965 - val_loss: 0.3284\n",
      "Epoch 44/1000\n",
      "270/270 - 4s - 16ms/step - loss: 0.3894 - val_loss: 0.3232\n",
      "Epoch 45/1000\n",
      "270/270 - 4s - 15ms/step - loss: 0.3888 - val_loss: 0.3169\n",
      "Epoch 46/1000\n",
      "270/270 - 4s - 15ms/step - loss: 0.3797 - val_loss: 0.3121\n",
      "Epoch 47/1000\n",
      "270/270 - 4s - 15ms/step - loss: 0.3795 - val_loss: 0.3081\n",
      "Epoch 48/1000\n",
      "270/270 - 4s - 15ms/step - loss: 0.3702 - val_loss: 0.3039\n",
      "Epoch 49/1000\n",
      "270/270 - 4s - 15ms/step - loss: 0.3700 - val_loss: 0.3005\n",
      "Epoch 50/1000\n",
      "270/270 - 4s - 15ms/step - loss: 0.3604 - val_loss: 0.2973\n",
      "Epoch 51/1000\n",
      "270/270 - 4s - 15ms/step - loss: 0.3600 - val_loss: 0.2931\n",
      "Epoch 52/1000\n",
      "270/270 - 4s - 15ms/step - loss: 0.3561 - val_loss: 0.2901\n",
      "Epoch 53/1000\n",
      "270/270 - 4s - 15ms/step - loss: 0.3517 - val_loss: 0.2880\n",
      "Epoch 54/1000\n",
      "270/270 - 4s - 15ms/step - loss: 0.3466 - val_loss: 0.2861\n",
      "Epoch 55/1000\n",
      "270/270 - 4s - 15ms/step - loss: 0.3450 - val_loss: 0.2813\n",
      "Epoch 56/1000\n",
      "270/270 - 4s - 15ms/step - loss: 0.3415 - val_loss: 0.2820\n",
      "Epoch 57/1000\n",
      "270/270 - 4s - 15ms/step - loss: 0.3359 - val_loss: 0.2767\n",
      "Epoch 58/1000\n",
      "270/270 - 4s - 15ms/step - loss: 0.3331 - val_loss: 0.2757\n",
      "Epoch 59/1000\n",
      "270/270 - 4s - 15ms/step - loss: 0.3297 - val_loss: 0.2719\n",
      "Epoch 60/1000\n",
      "270/270 - 4s - 15ms/step - loss: 0.3252 - val_loss: 0.2691\n",
      "Epoch 61/1000\n",
      "270/270 - 4s - 15ms/step - loss: 0.3228 - val_loss: 0.2672\n",
      "Epoch 62/1000\n",
      "270/270 - 4s - 15ms/step - loss: 0.3223 - val_loss: 0.2660\n",
      "Epoch 63/1000\n",
      "270/270 - 4s - 15ms/step - loss: 0.3216 - val_loss: 0.2650\n",
      "Epoch 64/1000\n",
      "270/270 - 4s - 15ms/step - loss: 0.3159 - val_loss: 0.2613\n",
      "Epoch 65/1000\n",
      "270/270 - 4s - 15ms/step - loss: 0.3094 - val_loss: 0.2590\n",
      "Epoch 66/1000\n",
      "270/270 - 4s - 15ms/step - loss: 0.3117 - val_loss: 0.2576\n",
      "Epoch 67/1000\n",
      "270/270 - 4s - 15ms/step - loss: 0.3044 - val_loss: 0.2555\n",
      "Epoch 68/1000\n",
      "270/270 - 4s - 15ms/step - loss: 0.3021 - val_loss: 0.2560\n",
      "Epoch 69/1000\n",
      "270/270 - 4s - 15ms/step - loss: 0.3035 - val_loss: 0.2521\n",
      "Epoch 70/1000\n",
      "270/270 - 4s - 15ms/step - loss: 0.3028 - val_loss: 0.2508\n",
      "Epoch 71/1000\n",
      "270/270 - 4s - 15ms/step - loss: 0.2951 - val_loss: 0.2492\n",
      "Epoch 72/1000\n",
      "270/270 - 4s - 15ms/step - loss: 0.2984 - val_loss: 0.2479\n",
      "Epoch 73/1000\n",
      "270/270 - 4s - 15ms/step - loss: 0.2925 - val_loss: 0.2461\n",
      "Epoch 74/1000\n",
      "270/270 - 4s - 15ms/step - loss: 0.2892 - val_loss: 0.2509\n",
      "Epoch 75/1000\n",
      "270/270 - 4s - 15ms/step - loss: 0.2868 - val_loss: 0.2433\n",
      "Epoch 76/1000\n",
      "270/270 - 4s - 15ms/step - loss: 0.2843 - val_loss: 0.2422\n",
      "Epoch 77/1000\n",
      "270/270 - 4s - 15ms/step - loss: 0.2861 - val_loss: 0.2408\n",
      "Epoch 78/1000\n",
      "270/270 - 4s - 15ms/step - loss: 0.2856 - val_loss: 0.2416\n",
      "Epoch 79/1000\n",
      "270/270 - 4s - 15ms/step - loss: 0.2818 - val_loss: 0.2385\n",
      "Epoch 80/1000\n",
      "270/270 - 4s - 15ms/step - loss: 0.2810 - val_loss: 0.2374\n",
      "Epoch 81/1000\n",
      "270/270 - 5s - 19ms/step - loss: 0.2783 - val_loss: 0.2378\n",
      "Epoch 82/1000\n",
      "270/270 - 4s - 15ms/step - loss: 0.2759 - val_loss: 0.2347\n",
      "Epoch 83/1000\n",
      "270/270 - 4s - 15ms/step - loss: 0.2744 - val_loss: 0.2354\n",
      "Epoch 84/1000\n",
      "270/270 - 4s - 15ms/step - loss: 0.2755 - val_loss: 0.2332\n",
      "Epoch 85/1000\n",
      "270/270 - 4s - 15ms/step - loss: 0.2717 - val_loss: 0.2325\n",
      "Epoch 86/1000\n",
      "270/270 - 4s - 15ms/step - loss: 0.2704 - val_loss: 0.2311\n",
      "Epoch 87/1000\n",
      "270/270 - 4s - 15ms/step - loss: 0.2709 - val_loss: 0.2310\n",
      "Epoch 88/1000\n",
      "270/270 - 4s - 15ms/step - loss: 0.2684 - val_loss: 0.2298\n",
      "Epoch 89/1000\n",
      "270/270 - 4s - 15ms/step - loss: 0.2668 - val_loss: 0.2291\n",
      "Epoch 90/1000\n",
      "270/270 - 4s - 15ms/step - loss: 0.2698 - val_loss: 0.2313\n",
      "Epoch 91/1000\n",
      "270/270 - 4s - 15ms/step - loss: 0.2631 - val_loss: 0.2297\n",
      "Epoch 92/1000\n",
      "270/270 - 4s - 15ms/step - loss: 0.2594 - val_loss: 0.2261\n",
      "Epoch 93/1000\n",
      "270/270 - 4s - 15ms/step - loss: 0.2662 - val_loss: 0.2254\n",
      "Epoch 94/1000\n",
      "270/270 - 4s - 15ms/step - loss: 0.2602 - val_loss: 0.2266\n",
      "Epoch 95/1000\n",
      "270/270 - 4s - 15ms/step - loss: 0.2577 - val_loss: 0.2250\n",
      "Epoch 96/1000\n",
      "270/270 - 4s - 15ms/step - loss: 0.2590 - val_loss: 0.2238\n",
      "Epoch 97/1000\n",
      "270/270 - 4s - 15ms/step - loss: 0.2557 - val_loss: 0.2228\n",
      "Epoch 98/1000\n",
      "270/270 - 4s - 15ms/step - loss: 0.2564 - val_loss: 0.2220\n",
      "Epoch 99/1000\n",
      "270/270 - 4s - 15ms/step - loss: 0.2532 - val_loss: 0.2219\n",
      "Epoch 100/1000\n",
      "270/270 - 4s - 15ms/step - loss: 0.2490 - val_loss: 0.2218\n",
      "Epoch 101/1000\n",
      "270/270 - 4s - 15ms/step - loss: 0.2521 - val_loss: 0.2202\n",
      "Epoch 102/1000\n",
      "270/270 - 4s - 15ms/step - loss: 0.2503 - val_loss: 0.2208\n",
      "Epoch 103/1000\n",
      "270/270 - 4s - 15ms/step - loss: 0.2496 - val_loss: 0.2192\n",
      "Epoch 104/1000\n",
      "270/270 - 4s - 15ms/step - loss: 0.2450 - val_loss: 0.2186\n",
      "Epoch 105/1000\n",
      "270/270 - 4s - 15ms/step - loss: 0.2446 - val_loss: 0.2186\n",
      "Epoch 106/1000\n",
      "270/270 - 4s - 15ms/step - loss: 0.2424 - val_loss: 0.2184\n",
      "Epoch 107/1000\n",
      "270/270 - 4s - 15ms/step - loss: 0.2446 - val_loss: 0.2172\n",
      "Epoch 108/1000\n",
      "270/270 - 4s - 15ms/step - loss: 0.2418 - val_loss: 0.2169\n",
      "Epoch 109/1000\n",
      "270/270 - 4s - 16ms/step - loss: 0.2396 - val_loss: 0.2175\n",
      "Epoch 110/1000\n",
      "270/270 - 4s - 16ms/step - loss: 0.2375 - val_loss: 0.2157\n",
      "Epoch 111/1000\n",
      "270/270 - 4s - 15ms/step - loss: 0.2435 - val_loss: 0.2166\n",
      "Epoch 112/1000\n",
      "270/270 - 4s - 15ms/step - loss: 0.2421 - val_loss: 0.2149\n",
      "Epoch 113/1000\n",
      "270/270 - 4s - 15ms/step - loss: 0.2363 - val_loss: 0.2156\n",
      "Epoch 114/1000\n",
      "270/270 - 4s - 15ms/step - loss: 0.2441 - val_loss: 0.2141\n",
      "Epoch 115/1000\n",
      "270/270 - 4s - 15ms/step - loss: 0.2347 - val_loss: 0.2148\n",
      "Epoch 116/1000\n",
      "270/270 - 4s - 15ms/step - loss: 0.2376 - val_loss: 0.2140\n",
      "Epoch 117/1000\n",
      "270/270 - 4s - 15ms/step - loss: 0.2359 - val_loss: 0.2131\n",
      "Epoch 118/1000\n",
      "270/270 - 4s - 15ms/step - loss: 0.2313 - val_loss: 0.2128\n",
      "Epoch 119/1000\n",
      "270/270 - 4s - 15ms/step - loss: 0.2324 - val_loss: 0.2125\n",
      "Epoch 120/1000\n",
      "270/270 - 4s - 15ms/step - loss: 0.2283 - val_loss: 0.2120\n",
      "Epoch 121/1000\n",
      "270/270 - 4s - 15ms/step - loss: 0.2296 - val_loss: 0.2114\n",
      "Epoch 122/1000\n",
      "270/270 - 4s - 15ms/step - loss: 0.2311 - val_loss: 0.2113\n",
      "Epoch 123/1000\n",
      "270/270 - 4s - 15ms/step - loss: 0.2284 - val_loss: 0.2105\n",
      "Epoch 124/1000\n",
      "270/270 - 4s - 16ms/step - loss: 0.2303 - val_loss: 0.2129\n",
      "Epoch 125/1000\n",
      "270/270 - 4s - 15ms/step - loss: 0.2264 - val_loss: 0.2103\n",
      "Epoch 126/1000\n",
      "270/270 - 4s - 15ms/step - loss: 0.2237 - val_loss: 0.2104\n",
      "Epoch 127/1000\n",
      "270/270 - 4s - 15ms/step - loss: 0.2219 - val_loss: 0.2133\n",
      "Epoch 128/1000\n",
      "270/270 - 4s - 15ms/step - loss: 0.2254 - val_loss: 0.2096\n",
      "Epoch 129/1000\n",
      "270/270 - 4s - 15ms/step - loss: 0.2239 - val_loss: 0.2090\n",
      "Epoch 130/1000\n",
      "270/270 - 4s - 15ms/step - loss: 0.2244 - val_loss: 0.2085\n",
      "Epoch 131/1000\n",
      "270/270 - 4s - 15ms/step - loss: 0.2203 - val_loss: 0.2088\n",
      "Epoch 132/1000\n",
      "270/270 - 4s - 15ms/step - loss: 0.2194 - val_loss: 0.2081\n",
      "Epoch 133/1000\n",
      "270/270 - 4s - 15ms/step - loss: 0.2196 - val_loss: 0.2078\n",
      "Epoch 134/1000\n",
      "270/270 - 4s - 15ms/step - loss: 0.2216 - val_loss: 0.2082\n",
      "Epoch 135/1000\n",
      "270/270 - 4s - 15ms/step - loss: 0.2191 - val_loss: 0.2073\n",
      "Epoch 136/1000\n",
      "270/270 - 4s - 15ms/step - loss: 0.2175 - val_loss: 0.2074\n",
      "Epoch 137/1000\n",
      "270/270 - 4s - 15ms/step - loss: 0.2150 - val_loss: 0.2072\n",
      "Epoch 138/1000\n",
      "270/270 - 4s - 15ms/step - loss: 0.2153 - val_loss: 0.2066\n",
      "Epoch 139/1000\n",
      "270/270 - 4s - 15ms/step - loss: 0.2163 - val_loss: 0.2071\n",
      "Epoch 140/1000\n",
      "270/270 - 4s - 15ms/step - loss: 0.2158 - val_loss: 0.2060\n",
      "Epoch 141/1000\n",
      "270/270 - 4s - 15ms/step - loss: 0.2145 - val_loss: 0.2069\n",
      "Epoch 142/1000\n",
      "270/270 - 4s - 15ms/step - loss: 0.2141 - val_loss: 0.2066\n",
      "Epoch 143/1000\n",
      "270/270 - 4s - 15ms/step - loss: 0.2123 - val_loss: 0.2055\n",
      "Epoch 144/1000\n",
      "270/270 - 4s - 15ms/step - loss: 0.2110 - val_loss: 0.2053\n",
      "Epoch 145/1000\n",
      "270/270 - 4s - 15ms/step - loss: 0.2105 - val_loss: 0.2057\n",
      "Epoch 146/1000\n",
      "270/270 - 4s - 15ms/step - loss: 0.2110 - val_loss: 0.2070\n",
      "Epoch 147/1000\n",
      "270/270 - 4s - 15ms/step - loss: 0.2119 - val_loss: 0.2052\n",
      "Epoch 148/1000\n",
      "270/270 - 4s - 15ms/step - loss: 0.2073 - val_loss: 0.2043\n",
      "Epoch 149/1000\n",
      "270/270 - 4s - 15ms/step - loss: 0.2075 - val_loss: 0.2043\n",
      "Epoch 150/1000\n",
      "270/270 - 4s - 15ms/step - loss: 0.2076 - val_loss: 0.2042\n",
      "Epoch 151/1000\n",
      "270/270 - 4s - 15ms/step - loss: 0.2029 - val_loss: 0.2042\n",
      "Epoch 152/1000\n",
      "270/270 - 4s - 15ms/step - loss: 0.2093 - val_loss: 0.2037\n",
      "Epoch 153/1000\n",
      "270/270 - 4s - 15ms/step - loss: 0.2073 - val_loss: 0.2048\n",
      "Epoch 154/1000\n",
      "270/270 - 4s - 15ms/step - loss: 0.2016 - val_loss: 0.2035\n",
      "Epoch 155/1000\n",
      "270/270 - 4s - 15ms/step - loss: 0.2047 - val_loss: 0.2035\n",
      "Epoch 156/1000\n",
      "270/270 - 4s - 15ms/step - loss: 0.2020 - val_loss: 0.2028\n",
      "Epoch 157/1000\n",
      "270/270 - 4s - 15ms/step - loss: 0.1996 - val_loss: 0.2030\n",
      "Epoch 158/1000\n",
      "270/270 - 4s - 15ms/step - loss: 0.2032 - val_loss: 0.2025\n",
      "Epoch 159/1000\n",
      "270/270 - 4s - 15ms/step - loss: 0.2016 - val_loss: 0.2040\n",
      "Epoch 160/1000\n",
      "270/270 - 4s - 15ms/step - loss: 0.2017 - val_loss: 0.2022\n",
      "Epoch 161/1000\n",
      "270/270 - 4s - 15ms/step - loss: 0.1996 - val_loss: 0.2022\n",
      "Epoch 162/1000\n",
      "270/270 - 4s - 15ms/step - loss: 0.1983 - val_loss: 0.2021\n",
      "Epoch 163/1000\n",
      "270/270 - 4s - 15ms/step - loss: 0.1987 - val_loss: 0.2028\n",
      "Epoch 164/1000\n",
      "270/270 - 4s - 15ms/step - loss: 0.1970 - val_loss: 0.2022\n",
      "Epoch 165/1000\n",
      "270/270 - 4s - 15ms/step - loss: 0.1987 - val_loss: 0.2025\n",
      "Epoch 166/1000\n",
      "270/270 - 4s - 15ms/step - loss: 0.1946 - val_loss: 0.2022\n",
      "Epoch 167/1000\n",
      "270/270 - 4s - 15ms/step - loss: 0.1959 - val_loss: 0.2016\n",
      "Epoch 168/1000\n",
      "270/270 - 4s - 15ms/step - loss: 0.1952 - val_loss: 0.2013\n",
      "Epoch 169/1000\n",
      "270/270 - 4s - 15ms/step - loss: 0.1958 - val_loss: 0.2012\n",
      "Epoch 170/1000\n",
      "270/270 - 4s - 15ms/step - loss: 0.1941 - val_loss: 0.2013\n",
      "Epoch 171/1000\n",
      "270/270 - 4s - 15ms/step - loss: 0.1907 - val_loss: 0.2012\n",
      "Epoch 172/1000\n",
      "270/270 - 4s - 15ms/step - loss: 0.1940 - val_loss: 0.2009\n",
      "Epoch 173/1000\n",
      "270/270 - 4s - 15ms/step - loss: 0.1919 - val_loss: 0.2007\n",
      "Epoch 174/1000\n",
      "270/270 - 4s - 15ms/step - loss: 0.1925 - val_loss: 0.2005\n",
      "Epoch 175/1000\n",
      "270/270 - 4s - 15ms/step - loss: 0.1942 - val_loss: 0.2017\n",
      "Epoch 176/1000\n",
      "270/270 - 4s - 15ms/step - loss: 0.1897 - val_loss: 0.2004\n",
      "Epoch 177/1000\n",
      "270/270 - 4s - 15ms/step - loss: 0.1909 - val_loss: 0.2005\n",
      "Epoch 178/1000\n",
      "270/270 - 4s - 15ms/step - loss: 0.1898 - val_loss: 0.2002\n",
      "Epoch 179/1000\n",
      "270/270 - 4s - 15ms/step - loss: 0.1882 - val_loss: 0.1996\n",
      "Epoch 180/1000\n",
      "270/270 - 4s - 15ms/step - loss: 0.1860 - val_loss: 0.1998\n",
      "Epoch 181/1000\n",
      "270/270 - 4s - 15ms/step - loss: 0.1863 - val_loss: 0.1997\n",
      "Epoch 182/1000\n",
      "270/270 - 4s - 15ms/step - loss: 0.1860 - val_loss: 0.1993\n",
      "Epoch 183/1000\n",
      "270/270 - 4s - 15ms/step - loss: 0.1842 - val_loss: 0.2003\n",
      "Epoch 184/1000\n",
      "270/270 - 4s - 15ms/step - loss: 0.1845 - val_loss: 0.1993\n",
      "Epoch 185/1000\n",
      "270/270 - 4s - 15ms/step - loss: 0.1862 - val_loss: 0.1991\n",
      "Epoch 186/1000\n",
      "270/270 - 4s - 15ms/step - loss: 0.1823 - val_loss: 0.1993\n",
      "Epoch 187/1000\n",
      "270/270 - 4s - 15ms/step - loss: 0.1833 - val_loss: 0.1989\n",
      "Epoch 188/1000\n",
      "270/270 - 4s - 15ms/step - loss: 0.1810 - val_loss: 0.1991\n",
      "Epoch 189/1000\n",
      "270/270 - 4s - 15ms/step - loss: 0.1849 - val_loss: 0.1988\n",
      "Epoch 190/1000\n",
      "270/270 - 4s - 15ms/step - loss: 0.1805 - val_loss: 0.1995\n",
      "Epoch 191/1000\n",
      "270/270 - 4s - 15ms/step - loss: 0.1804 - val_loss: 0.1988\n",
      "Epoch 192/1000\n",
      "270/270 - 4s - 15ms/step - loss: 0.1797 - val_loss: 0.1986\n",
      "Epoch 193/1000\n",
      "270/270 - 4s - 15ms/step - loss: 0.1789 - val_loss: 0.1986\n",
      "Epoch 194/1000\n",
      "270/270 - 4s - 15ms/step - loss: 0.1793 - val_loss: 0.2001\n",
      "Epoch 195/1000\n",
      "270/270 - 4s - 15ms/step - loss: 0.1763 - val_loss: 0.1987\n",
      "Epoch 196/1000\n",
      "270/270 - 4s - 15ms/step - loss: 0.1763 - val_loss: 0.2009\n",
      "Epoch 197/1000\n",
      "270/270 - 4s - 15ms/step - loss: 0.1751 - val_loss: 0.1983\n",
      "Epoch 198/1000\n",
      "270/270 - 4s - 15ms/step - loss: 0.1794 - val_loss: 0.1983\n",
      "Epoch 199/1000\n",
      "270/270 - 4s - 15ms/step - loss: 0.1743 - val_loss: 0.1985\n",
      "Epoch 200/1000\n",
      "270/270 - 4s - 15ms/step - loss: 0.1758 - val_loss: 0.2035\n",
      "Epoch 201/1000\n",
      "270/270 - 4s - 15ms/step - loss: 0.1763 - val_loss: 0.1991\n",
      "Epoch 202/1000\n",
      "270/270 - 4s - 16ms/step - loss: 0.1747 - val_loss: 0.1982\n",
      "Epoch 203/1000\n",
      "270/270 - 4s - 15ms/step - loss: 0.1766 - val_loss: 0.2001\n",
      "Epoch 204/1000\n",
      "270/270 - 4s - 15ms/step - loss: 0.1752 - val_loss: 0.1988\n",
      "Epoch 205/1000\n",
      "270/270 - 4s - 15ms/step - loss: 0.1713 - val_loss: 0.1986\n",
      "Epoch 206/1000\n",
      "270/270 - 4s - 15ms/step - loss: 0.1732 - val_loss: 0.2004\n",
      "Epoch 207/1000\n",
      "270/270 - 4s - 15ms/step - loss: 0.1713 - val_loss: 0.1977\n",
      "Epoch 208/1000\n",
      "270/270 - 4s - 15ms/step - loss: 0.1707 - val_loss: 0.1976\n",
      "Epoch 209/1000\n",
      "270/270 - 4s - 15ms/step - loss: 0.1699 - val_loss: 0.1982\n",
      "Epoch 210/1000\n",
      "270/270 - 4s - 15ms/step - loss: 0.1697 - val_loss: 0.1976\n",
      "Epoch 211/1000\n",
      "270/270 - 4s - 15ms/step - loss: 0.1706 - val_loss: 0.1976\n",
      "Epoch 212/1000\n",
      "270/270 - 4s - 15ms/step - loss: 0.1685 - val_loss: 0.1980\n",
      "Epoch 213/1000\n",
      "270/270 - 4s - 16ms/step - loss: 0.1667 - val_loss: 0.1981\n",
      "Epoch 213: early stopping\n",
      "\u001b[1m68/68\u001b[0m \u001b[32m━━━━━━━━━━━━━━━━━━━━\u001b[0m\u001b[37m\u001b[0m \u001b[1m1s\u001b[0m 8ms/step\n",
      "RMSE Score: 0.445044872801398\n"
     ]
    }
   ],
   "source": [
    "model = Sequential()\n",
    "\n",
    "model.add(Dense(500, input_dim=x.shape[1], activation='relu'))\n",
    "model.add(Dropout(0.5))\n",
    "model.add(Dense(125, activation='relu'))\n",
    "model.add(Dropout(0.3))\n",
    "model.add(Dense(1))\n",
    "\n",
    "sgd_modified = optimizers.SGD(learning_rate=0.001)\n",
    "\n",
    "model.compile(loss='mean_squared_error', optimizer=sgd_modified)\n",
    "\n",
    "# Early exit\n",
    "monitor = EarlyStopping(monitor='val_loss', min_delta=0, patience=5, verbose=1, mode='auto')\n",
    "model.fit(x_train, y_train, validation_data=(x_test,y_test), callbacks=[monitor], verbose=2, epochs=1000)\n",
    "\n",
    "print_rsme(model, x_test, y_test)"
   ]
  },
  {
   "cell_type": "code",
   "execution_count": 63,
   "id": "50edf5ea",
   "metadata": {},
   "outputs": [],
   "source": [
    "model.save('model_sgd_dropout_044.keras')"
   ]
  },
  {
   "cell_type": "markdown",
   "id": "6010aac5",
   "metadata": {},
   "source": [
    "#### Evaluation"
   ]
  },
  {
   "cell_type": "code",
   "execution_count": 64,
   "id": "fa3f1696",
   "metadata": {},
   "outputs": [
    {
     "data": {
      "image/png": "[encoded data removed]",
      "text/plain": [
       "<Figure size 640x480 with 1 Axes>"
      ]
     },
     "metadata": {},
     "output_type": "display_data"
    }
   ],
   "source": [
    "chart_regression(None, y_test, sort=True)"
   ]
  },
  {
   "cell_type": "code",
   "execution_count": 65,
   "id": "2cb10cfb",
   "metadata": {},
   "outputs": [
    {
     "name": "stdout",
     "output_type": "stream",
     "text": [
      "\u001b[1m270/270\u001b[0m \u001b[32m━━━━━━━━━━━━━━━━━━━━\u001b[0m\u001b[37m\u001b[0m \u001b[1m2s\u001b[0m 6ms/step\n"
     ]
    },
    {
     "data": {
      "image/png": "[encoded data removed]",
      "text/plain": [
       "<Figure size 640x480 with 1 Axes>"
      ]
     },
     "metadata": {},
     "output_type": "display_data"
    }
   ],
   "source": [
    "train_pred = model.predict(x_train)\n",
    "chart_regression(train_pred.flatten(), y_train, sort=True)"
   ]
  },
  {
   "cell_type": "code",
   "execution_count": 66,
   "id": "7bce31e0",
   "metadata": {},
   "outputs": [
    {
     "name": "stdout",
     "output_type": "stream",
     "text": [
      "\u001b[1m68/68\u001b[0m \u001b[32m━━━━━━━━━━━━━━━━━━━━\u001b[0m\u001b[37m\u001b[0m \u001b[1m0s\u001b[0m 7ms/step\n"
     ]
    },
    {
     "data": {
      "image/png": "[encoded data removed]",
      "text/plain": [
       "<Figure size 640x480 with 1 Axes>"
      ]
     },
     "metadata": {},
     "output_type": "display_data"
    }
   ],
   "source": [
    "pred = model.predict(x_test)\n",
    "chart_regression(pred.flatten(), y_test, sort=True)"
   ]
  },
  {
   "cell_type": "markdown",
   "id": "6bd188dc",
   "metadata": {},
   "source": [
    "### Second Approach - Predict Review Scores\n",
    "\n",
    "Instead of processing all reviews at once, we can make a model that predicts the individual score for each review.\n",
    "\n",
    "Afterwards, we'll average all of the predicted review scores and predict the business's rating."
   ]
  },
  {
   "cell_type": "markdown",
   "id": "3b4cdc38",
   "metadata": {},
   "source": [
    "#### Applying TFIDF to Reviews\n",
    "Using individual reviews instead of grouped reviews."
   ]
  },
  {
   "cell_type": "code",
   "execution_count": 22,
   "id": "e1f91d83",
   "metadata": {},
   "outputs": [
    {
     "name": "stdout",
     "output_type": "stream",
     "text": [
      "(845219, 9)\n"
     ]
    },
    {
     "data": {
      "text/html": [
       "<div>\n",
       "<style scoped>\n",
       "    .dataframe tbody tr th:only-of-type {\n",
       "        vertical-align: middle;\n",
       "    }\n",
       "\n",
       "    .dataframe tbody tr th {\n",
       "        vertical-align: top;\n",
       "    }\n",
       "\n",
       "    .dataframe thead th {\n",
       "        text-align: right;\n",
       "    }\n",
       "</style>\n",
       "<table border=\"1\" class=\"dataframe\">\n",
       "  <thead>\n",
       "    <tr style=\"text-align: right;\">\n",
       "      <th></th>\n",
       "      <th>review_id</th>\n",
       "      <th>user_id</th>\n",
       "      <th>business_id</th>\n",
       "      <th>stars</th>\n",
       "      <th>useful</th>\n",
       "      <th>funny</th>\n",
       "      <th>cool</th>\n",
       "      <th>text</th>\n",
       "      <th>date</th>\n",
       "    </tr>\n",
       "  </thead>\n",
       "  <tbody>\n",
       "    <tr>\n",
       "      <th>0</th>\n",
       "      <td>KU_O5udG6zpxOg-VcAEodg</td>\n",
       "      <td>mh_-eMZ6K5RLWhZyISBhwA</td>\n",
       "      <td>XQfwVwDr-v0ZS3_CbbE5Xw</td>\n",
       "      <td>3</td>\n",
       "      <td>0</td>\n",
       "      <td>0</td>\n",
       "      <td>0</td>\n",
       "      <td>If you decide to eat here, just be aware it is...</td>\n",
       "      <td>2018-07-07 22:09:11</td>\n",
       "    </tr>\n",
       "    <tr>\n",
       "      <th>1</th>\n",
       "      <td>BiTunyQ73aT9WBnpR9DZGw</td>\n",
       "      <td>OyoGAe7OKpv6SyGZT5g77Q</td>\n",
       "      <td>7ATYjTIgM3jUlt4UM3IypQ</td>\n",
       "      <td>5</td>\n",
       "      <td>1</td>\n",
       "      <td>0</td>\n",
       "      <td>1</td>\n",
       "      <td>I've taken a lot of spin classes over the year...</td>\n",
       "      <td>2012-01-03 15:28:18</td>\n",
       "    </tr>\n",
       "    <tr>\n",
       "      <th>3</th>\n",
       "      <td>AqPFMleE6RsU23_auESxiA</td>\n",
       "      <td>_7bHUi9Uuf5__HHc_Q8guQ</td>\n",
       "      <td>kxX2SOes4o-D3ZQBkiMRfA</td>\n",
       "      <td>5</td>\n",
       "      <td>1</td>\n",
       "      <td>0</td>\n",
       "      <td>1</td>\n",
       "      <td>Wow!  Yummy, different,  delicious.   Our favo...</td>\n",
       "      <td>2015-01-04 00:01:03</td>\n",
       "    </tr>\n",
       "    <tr>\n",
       "      <th>4</th>\n",
       "      <td>Sx8TMOWLNuJBWer-0pcmoA</td>\n",
       "      <td>bcjbaE6dDog4jkNY91ncLQ</td>\n",
       "      <td>e4Vwtrqf-wpJfwesgvdgxQ</td>\n",
       "      <td>4</td>\n",
       "      <td>1</td>\n",
       "      <td>0</td>\n",
       "      <td>1</td>\n",
       "      <td>Cute interior and owner (?) gave us tour of up...</td>\n",
       "      <td>2017-01-14 20:54:15</td>\n",
       "    </tr>\n",
       "    <tr>\n",
       "      <th>5</th>\n",
       "      <td>JrIxlS1TzJ-iCu79ul40cQ</td>\n",
       "      <td>eUta8W_HdHMXPzLBBZhL1A</td>\n",
       "      <td>04UD14gamNjLY0IDYVhHJg</td>\n",
       "      <td>1</td>\n",
       "      <td>1</td>\n",
       "      <td>2</td>\n",
       "      <td>1</td>\n",
       "      <td>I am a long term frequent customer of this est...</td>\n",
       "      <td>2015-09-23 23:10:31</td>\n",
       "    </tr>\n",
       "  </tbody>\n",
       "</table>\n",
       "</div>"
      ],
      "text/plain": [
       "                review_id                 user_id             business_id  \\\n",
       "0  KU_O5udG6zpxOg-VcAEodg  mh_-eMZ6K5RLWhZyISBhwA  XQfwVwDr-v0ZS3_CbbE5Xw   \n",
       "1  BiTunyQ73aT9WBnpR9DZGw  OyoGAe7OKpv6SyGZT5g77Q  7ATYjTIgM3jUlt4UM3IypQ   \n",
       "3  AqPFMleE6RsU23_auESxiA  _7bHUi9Uuf5__HHc_Q8guQ  kxX2SOes4o-D3ZQBkiMRfA   \n",
       "4  Sx8TMOWLNuJBWer-0pcmoA  bcjbaE6dDog4jkNY91ncLQ  e4Vwtrqf-wpJfwesgvdgxQ   \n",
       "5  JrIxlS1TzJ-iCu79ul40cQ  eUta8W_HdHMXPzLBBZhL1A  04UD14gamNjLY0IDYVhHJg   \n",
       "\n",
       "   stars  useful  funny  cool  \\\n",
       "0      3       0      0     0   \n",
       "1      5       1      0     1   \n",
       "3      5       1      0     1   \n",
       "4      4       1      0     1   \n",
       "5      1       1      2     1   \n",
       "\n",
       "                                                text                date  \n",
       "0  If you decide to eat here, just be aware it is... 2018-07-07 22:09:11  \n",
       "1  I've taken a lot of spin classes over the year... 2012-01-03 15:28:18  \n",
       "3  Wow!  Yummy, different,  delicious.   Our favo... 2015-01-04 00:01:03  \n",
       "4  Cute interior and owner (?) gave us tour of up... 2017-01-14 20:54:15  \n",
       "5  I am a long term frequent customer of this est... 2015-09-23 23:10:31  "
      ]
     },
     "execution_count": 22,
     "metadata": {},
     "output_type": "execute_result"
    }
   ],
   "source": [
    "print(review_filtered.shape)\n",
    "review_filtered.head()"
   ]
  },
  {
   "cell_type": "code",
   "execution_count": 23,
   "id": "a9829f0b",
   "metadata": {},
   "outputs": [
    {
     "name": "stdout",
     "output_type": "stream",
     "text": [
      "(845219, 3)\n"
     ]
    },
    {
     "data": {
      "text/html": [
       "<div>\n",
       "<style scoped>\n",
       "    .dataframe tbody tr th:only-of-type {\n",
       "        vertical-align: middle;\n",
       "    }\n",
       "\n",
       "    .dataframe tbody tr th {\n",
       "        vertical-align: top;\n",
       "    }\n",
       "\n",
       "    .dataframe thead th {\n",
       "        text-align: right;\n",
       "    }\n",
       "</style>\n",
       "<table border=\"1\" class=\"dataframe\">\n",
       "  <thead>\n",
       "    <tr style=\"text-align: right;\">\n",
       "      <th></th>\n",
       "      <th>business_id</th>\n",
       "      <th>text</th>\n",
       "      <th>stars</th>\n",
       "    </tr>\n",
       "  </thead>\n",
       "  <tbody>\n",
       "    <tr>\n",
       "      <th>0</th>\n",
       "      <td>XQfwVwDr-v0ZS3_CbbE5Xw</td>\n",
       "      <td>If you decide to eat here, just be aware it is...</td>\n",
       "      <td>3</td>\n",
       "    </tr>\n",
       "    <tr>\n",
       "      <th>1</th>\n",
       "      <td>7ATYjTIgM3jUlt4UM3IypQ</td>\n",
       "      <td>I've taken a lot of spin classes over the year...</td>\n",
       "      <td>5</td>\n",
       "    </tr>\n",
       "    <tr>\n",
       "      <th>3</th>\n",
       "      <td>kxX2SOes4o-D3ZQBkiMRfA</td>\n",
       "      <td>Wow!  Yummy, different,  delicious.   Our favo...</td>\n",
       "      <td>5</td>\n",
       "    </tr>\n",
       "    <tr>\n",
       "      <th>4</th>\n",
       "      <td>e4Vwtrqf-wpJfwesgvdgxQ</td>\n",
       "      <td>Cute interior and owner (?) gave us tour of up...</td>\n",
       "      <td>4</td>\n",
       "    </tr>\n",
       "    <tr>\n",
       "      <th>5</th>\n",
       "      <td>04UD14gamNjLY0IDYVhHJg</td>\n",
       "      <td>I am a long term frequent customer of this est...</td>\n",
       "      <td>1</td>\n",
       "    </tr>\n",
       "  </tbody>\n",
       "</table>\n",
       "</div>"
      ],
      "text/plain": [
       "              business_id                                               text  \\\n",
       "0  XQfwVwDr-v0ZS3_CbbE5Xw  If you decide to eat here, just be aware it is...   \n",
       "1  7ATYjTIgM3jUlt4UM3IypQ  I've taken a lot of spin classes over the year...   \n",
       "3  kxX2SOes4o-D3ZQBkiMRfA  Wow!  Yummy, different,  delicious.   Our favo...   \n",
       "4  e4Vwtrqf-wpJfwesgvdgxQ  Cute interior and owner (?) gave us tour of up...   \n",
       "5  04UD14gamNjLY0IDYVhHJg  I am a long term frequent customer of this est...   \n",
       "\n",
       "   stars  \n",
       "0      3  \n",
       "1      5  \n",
       "3      5  \n",
       "4      4  \n",
       "5      1  "
      ]
     },
     "execution_count": 23,
     "metadata": {},
     "output_type": "execute_result"
    }
   ],
   "source": [
    "review_df = pd.DataFrame({\n",
    "    'business_id': review_filtered['business_id'],\n",
    "    'text': review_filtered['text'],\n",
    "    'stars': review_filtered['stars'],\n",
    "})\n",
    "\n",
    "print(review_df.shape)\n",
    "review_df.head()"
   ]
  },
  {
   "cell_type": "code",
   "execution_count": 24,
   "id": "24ed1137",
   "metadata": {},
   "outputs": [
    {
     "ename": "KeyboardInterrupt",
     "evalue": "",
     "output_type": "error",
     "traceback": [
      "\u001b[1;31m---------------------------------------------------------------------------\u001b[0m",
      "\u001b[1;31mKeyboardInterrupt\u001b[0m                         Traceback (most recent call last)",
      "Cell \u001b[1;32mIn[24], line 5\u001b[0m\n\u001b[0;32m      1\u001b[0m review_vectorizer \u001b[38;5;241m=\u001b[39m sk_text\u001b[38;5;241m.\u001b[39mTfidfVectorizer(stop_words\u001b[38;5;241m=\u001b[39m\u001b[38;5;124m'\u001b[39m\u001b[38;5;124menglish\u001b[39m\u001b[38;5;124m'\u001b[39m, max_features\u001b[38;5;241m=\u001b[39m\u001b[38;5;241m500\u001b[39m, min_df\u001b[38;5;241m=\u001b[39m\u001b[38;5;241m1\u001b[39m)\n\u001b[0;32m      3\u001b[0m review_df[\u001b[38;5;124m'\u001b[39m\u001b[38;5;124mstars\u001b[39m\u001b[38;5;124m'\u001b[39m] \u001b[38;5;241m=\u001b[39m zscore(review_df[\u001b[38;5;124m'\u001b[39m\u001b[38;5;124mstars\u001b[39m\u001b[38;5;124m'\u001b[39m])\n\u001b[1;32m----> 5\u001b[0m xr \u001b[38;5;241m=\u001b[39m review_vectorizer\u001b[38;5;241m.\u001b[39mfit_transform(review_df[\u001b[38;5;124m'\u001b[39m\u001b[38;5;124mtext\u001b[39m\u001b[38;5;124m'\u001b[39m])\n\u001b[0;32m      6\u001b[0m yr \u001b[38;5;241m=\u001b[39m review_df[[\u001b[38;5;124m'\u001b[39m\u001b[38;5;124mstars\u001b[39m\u001b[38;5;124m'\u001b[39m]]\u001b[38;5;241m.\u001b[39mto_numpy()\n",
      "File \u001b[1;32mc:\\Users\\rahgu\\anaconda3\\Lib\\site-packages\\sklearn\\feature_extraction\\text.py:2104\u001b[0m, in \u001b[0;36mTfidfVectorizer.fit_transform\u001b[1;34m(self, raw_documents, y)\u001b[0m\n\u001b[0;32m   2097\u001b[0m \u001b[38;5;28mself\u001b[39m\u001b[38;5;241m.\u001b[39m_check_params()\n\u001b[0;32m   2098\u001b[0m \u001b[38;5;28mself\u001b[39m\u001b[38;5;241m.\u001b[39m_tfidf \u001b[38;5;241m=\u001b[39m TfidfTransformer(\n\u001b[0;32m   2099\u001b[0m     norm\u001b[38;5;241m=\u001b[39m\u001b[38;5;28mself\u001b[39m\u001b[38;5;241m.\u001b[39mnorm,\n\u001b[0;32m   2100\u001b[0m     use_idf\u001b[38;5;241m=\u001b[39m\u001b[38;5;28mself\u001b[39m\u001b[38;5;241m.\u001b[39muse_idf,\n\u001b[0;32m   2101\u001b[0m     smooth_idf\u001b[38;5;241m=\u001b[39m\u001b[38;5;28mself\u001b[39m\u001b[38;5;241m.\u001b[39msmooth_idf,\n\u001b[0;32m   2102\u001b[0m     sublinear_tf\u001b[38;5;241m=\u001b[39m\u001b[38;5;28mself\u001b[39m\u001b[38;5;241m.\u001b[39msublinear_tf,\n\u001b[0;32m   2103\u001b[0m )\n\u001b[1;32m-> 2104\u001b[0m X \u001b[38;5;241m=\u001b[39m \u001b[38;5;28msuper\u001b[39m()\u001b[38;5;241m.\u001b[39mfit_transform(raw_documents)\n\u001b[0;32m   2105\u001b[0m \u001b[38;5;28mself\u001b[39m\u001b[38;5;241m.\u001b[39m_tfidf\u001b[38;5;241m.\u001b[39mfit(X)\n\u001b[0;32m   2106\u001b[0m \u001b[38;5;66;03m# X is already a transformed view of raw_documents so\u001b[39;00m\n\u001b[0;32m   2107\u001b[0m \u001b[38;5;66;03m# we set copy to False\u001b[39;00m\n",
      "File \u001b[1;32mc:\\Users\\rahgu\\anaconda3\\Lib\\site-packages\\sklearn\\base.py:1389\u001b[0m, in \u001b[0;36m_fit_context.<locals>.decorator.<locals>.wrapper\u001b[1;34m(estimator, *args, **kwargs)\u001b[0m\n\u001b[0;32m   1382\u001b[0m     estimator\u001b[38;5;241m.\u001b[39m_validate_params()\n\u001b[0;32m   1384\u001b[0m \u001b[38;5;28;01mwith\u001b[39;00m config_context(\n\u001b[0;32m   1385\u001b[0m     skip_parameter_validation\u001b[38;5;241m=\u001b[39m(\n\u001b[0;32m   1386\u001b[0m         prefer_skip_nested_validation \u001b[38;5;129;01mor\u001b[39;00m global_skip_validation\n\u001b[0;32m   1387\u001b[0m     )\n\u001b[0;32m   1388\u001b[0m ):\n\u001b[1;32m-> 1389\u001b[0m     \u001b[38;5;28;01mreturn\u001b[39;00m fit_method(estimator, \u001b[38;5;241m*\u001b[39margs, \u001b[38;5;241m*\u001b[39m\u001b[38;5;241m*\u001b[39mkwargs)\n",
      "File \u001b[1;32mc:\\Users\\rahgu\\anaconda3\\Lib\\site-packages\\sklearn\\feature_extraction\\text.py:1376\u001b[0m, in \u001b[0;36mCountVectorizer.fit_transform\u001b[1;34m(self, raw_documents, y)\u001b[0m\n\u001b[0;32m   1368\u001b[0m             warnings\u001b[38;5;241m.\u001b[39mwarn(\n\u001b[0;32m   1369\u001b[0m                 \u001b[38;5;124m\"\u001b[39m\u001b[38;5;124mUpper case characters found in\u001b[39m\u001b[38;5;124m\"\u001b[39m\n\u001b[0;32m   1370\u001b[0m                 \u001b[38;5;124m\"\u001b[39m\u001b[38;5;124m vocabulary while \u001b[39m\u001b[38;5;124m'\u001b[39m\u001b[38;5;124mlowercase\u001b[39m\u001b[38;5;124m'\u001b[39m\u001b[38;5;124m\"\u001b[39m\n\u001b[0;32m   1371\u001b[0m                 \u001b[38;5;124m\"\u001b[39m\u001b[38;5;124m is True. These entries will not\u001b[39m\u001b[38;5;124m\"\u001b[39m\n\u001b[0;32m   1372\u001b[0m                 \u001b[38;5;124m\"\u001b[39m\u001b[38;5;124m be matched with any documents\u001b[39m\u001b[38;5;124m\"\u001b[39m\n\u001b[0;32m   1373\u001b[0m             )\n\u001b[0;32m   1374\u001b[0m             \u001b[38;5;28;01mbreak\u001b[39;00m\n\u001b[1;32m-> 1376\u001b[0m vocabulary, X \u001b[38;5;241m=\u001b[39m \u001b[38;5;28mself\u001b[39m\u001b[38;5;241m.\u001b[39m_count_vocab(raw_documents, \u001b[38;5;28mself\u001b[39m\u001b[38;5;241m.\u001b[39mfixed_vocabulary_)\n\u001b[0;32m   1378\u001b[0m \u001b[38;5;28;01mif\u001b[39;00m \u001b[38;5;28mself\u001b[39m\u001b[38;5;241m.\u001b[39mbinary:\n\u001b[0;32m   1379\u001b[0m     X\u001b[38;5;241m.\u001b[39mdata\u001b[38;5;241m.\u001b[39mfill(\u001b[38;5;241m1\u001b[39m)\n",
      "File \u001b[1;32mc:\\Users\\rahgu\\anaconda3\\Lib\\site-packages\\sklearn\\feature_extraction\\text.py:1263\u001b[0m, in \u001b[0;36mCountVectorizer._count_vocab\u001b[1;34m(self, raw_documents, fixed_vocab)\u001b[0m\n\u001b[0;32m   1261\u001b[0m \u001b[38;5;28;01mfor\u001b[39;00m doc \u001b[38;5;129;01min\u001b[39;00m raw_documents:\n\u001b[0;32m   1262\u001b[0m     feature_counter \u001b[38;5;241m=\u001b[39m {}\n\u001b[1;32m-> 1263\u001b[0m     \u001b[38;5;28;01mfor\u001b[39;00m feature \u001b[38;5;129;01min\u001b[39;00m analyze(doc):\n\u001b[0;32m   1264\u001b[0m         \u001b[38;5;28;01mtry\u001b[39;00m:\n\u001b[0;32m   1265\u001b[0m             feature_idx \u001b[38;5;241m=\u001b[39m vocabulary[feature]\n",
      "File \u001b[1;32mc:\\Users\\rahgu\\anaconda3\\Lib\\site-packages\\sklearn\\feature_extraction\\text.py:109\u001b[0m, in \u001b[0;36m_analyze\u001b[1;34m(doc, analyzer, tokenizer, ngrams, preprocessor, decoder, stop_words)\u001b[0m\n\u001b[0;32m    107\u001b[0m \u001b[38;5;28;01mif\u001b[39;00m ngrams \u001b[38;5;129;01mis\u001b[39;00m \u001b[38;5;129;01mnot\u001b[39;00m \u001b[38;5;28;01mNone\u001b[39;00m:\n\u001b[0;32m    108\u001b[0m     \u001b[38;5;28;01mif\u001b[39;00m stop_words \u001b[38;5;129;01mis\u001b[39;00m \u001b[38;5;129;01mnot\u001b[39;00m \u001b[38;5;28;01mNone\u001b[39;00m:\n\u001b[1;32m--> 109\u001b[0m         doc \u001b[38;5;241m=\u001b[39m ngrams(doc, stop_words)\n\u001b[0;32m    110\u001b[0m     \u001b[38;5;28;01melse\u001b[39;00m:\n\u001b[0;32m    111\u001b[0m         doc \u001b[38;5;241m=\u001b[39m ngrams(doc)\n",
      "File \u001b[1;32mc:\\Users\\rahgu\\anaconda3\\Lib\\site-packages\\sklearn\\feature_extraction\\text.py:238\u001b[0m, in \u001b[0;36m_VectorizerMixin._word_ngrams\u001b[1;34m(self, tokens, stop_words)\u001b[0m\n\u001b[0;32m    232\u001b[0m         \u001b[38;5;28;01mraise\u001b[39;00m \u001b[38;5;167;01mValueError\u001b[39;00m(\n\u001b[0;32m    233\u001b[0m             \u001b[38;5;124m\"\u001b[39m\u001b[38;5;124mnp.nan is an invalid document, expected byte or unicode string.\u001b[39m\u001b[38;5;124m\"\u001b[39m\n\u001b[0;32m    234\u001b[0m         )\n\u001b[0;32m    236\u001b[0m     \u001b[38;5;28;01mreturn\u001b[39;00m doc\n\u001b[1;32m--> 238\u001b[0m \u001b[38;5;28;01mdef\u001b[39;00m\u001b[38;5;250m \u001b[39m\u001b[38;5;21m_word_ngrams\u001b[39m(\u001b[38;5;28mself\u001b[39m, tokens, stop_words\u001b[38;5;241m=\u001b[39m\u001b[38;5;28;01mNone\u001b[39;00m):\n\u001b[0;32m    239\u001b[0m \u001b[38;5;250m    \u001b[39m\u001b[38;5;124;03m\"\"\"Turn tokens into a sequence of n-grams after stop words filtering\"\"\"\u001b[39;00m\n\u001b[0;32m    240\u001b[0m     \u001b[38;5;66;03m# handle stop words\u001b[39;00m\n",
      "\u001b[1;31mKeyboardInterrupt\u001b[0m: "
     ]
    }
   ],
   "source": [
    "review_vectorizer = sk_text.TfidfVectorizer(stop_words='english', max_features=500, min_df=1)\n",
    "\n",
    "review_df['stars'] = zscore(review_df['stars'])\n",
    "\n",
    "xr = review_vectorizer.fit_transform(review_df['text'])\n",
    "yr = review_df[['stars']].to_numpy()"
   ]
  },
  {
   "cell_type": "code",
   "execution_count": null,
   "id": "9aa342de",
   "metadata": {},
   "outputs": [
    {
     "data": {
      "text/plain": [
       "array(['10', '15', '20', '30', '50', 'able', 'absolutely', 'actually',\n",
       "       'add', 'ago', 'amazing', 'ambiance', 'appetizer', 'area',\n",
       "       'arrived', 'ask', 'asked', 'ate', 'atmosphere', 'attentive',\n",
       "       'authentic', 'available', 'average', 'away', 'awesome', 'bacon',\n",
       "       'bad', 'bar', 'bartender', 'bbq', 'beans', 'beautiful', 'beef',\n",
       "       'beer', 'beers', 'believe', 'best', 'better', 'big', 'birthday'],\n",
       "      dtype=object)"
      ]
     },
     "execution_count": 55,
     "metadata": {},
     "output_type": "execute_result"
    }
   ],
   "source": [
    "review_vectorizer.get_feature_names_out()[:40]"
   ]
  },
  {
   "cell_type": "code",
   "execution_count": null,
   "id": "14b44883",
   "metadata": {},
   "outputs": [
    {
     "ename": "IndexError",
     "evalue": "Index dimension must be 1 or 2",
     "output_type": "error",
     "traceback": [
      "\u001b[1;31m---------------------------------------------------------------------------\u001b[0m",
      "\u001b[1;31mIndexError\u001b[0m                                Traceback (most recent call last)",
      "Cell \u001b[1;32mIn[51], line 5\u001b[0m\n\u001b[0;32m      2\u001b[0m xr_train, xr_test, yr_train, yr_test \u001b[38;5;241m=\u001b[39m train_test_split(xr, yr, test_size\u001b[38;5;241m=\u001b[39m\u001b[38;5;241m0.2\u001b[39m, random_state\u001b[38;5;241m=\u001b[39m\u001b[38;5;241m42\u001b[39m)\n\u001b[0;32m      4\u001b[0m \u001b[38;5;66;03m# Separate business IDs from text\u001b[39;00m\n\u001b[1;32m----> 5\u001b[0m xr_train_ids \u001b[38;5;241m=\u001b[39m xr_train[\u001b[38;5;124m'\u001b[39m\u001b[38;5;124mbusiness_id\u001b[39m\u001b[38;5;124m'\u001b[39m]\n\u001b[0;32m      6\u001b[0m xr_test_ids \u001b[38;5;241m=\u001b[39m xr_test[\u001b[38;5;124m'\u001b[39m\u001b[38;5;124mbusiness_id\u001b[39m\u001b[38;5;124m'\u001b[39m]\n\u001b[0;32m      8\u001b[0m xr_train \u001b[38;5;241m=\u001b[39m xr_train[\u001b[38;5;124m'\u001b[39m\u001b[38;5;124mtext\u001b[39m\u001b[38;5;124m'\u001b[39m]\n",
      "File \u001b[1;32mc:\\Users\\rahgu\\anaconda3\\Lib\\site-packages\\scipy\\sparse\\_index.py:30\u001b[0m, in \u001b[0;36mIndexMixin.__getitem__\u001b[1;34m(self, key)\u001b[0m\n\u001b[0;32m     29\u001b[0m \u001b[38;5;28;01mdef\u001b[39;00m\u001b[38;5;250m \u001b[39m\u001b[38;5;21m__getitem__\u001b[39m(\u001b[38;5;28mself\u001b[39m, key):\n\u001b[1;32m---> 30\u001b[0m     index, new_shape \u001b[38;5;241m=\u001b[39m \u001b[38;5;28mself\u001b[39m\u001b[38;5;241m.\u001b[39m_validate_indices(key)\n\u001b[0;32m     32\u001b[0m     \u001b[38;5;66;03m# 1D array\u001b[39;00m\n\u001b[0;32m     33\u001b[0m     \u001b[38;5;28;01mif\u001b[39;00m \u001b[38;5;28mlen\u001b[39m(index) \u001b[38;5;241m==\u001b[39m \u001b[38;5;241m1\u001b[39m:\n",
      "File \u001b[1;32mc:\\Users\\rahgu\\anaconda3\\Lib\\site-packages\\scipy\\sparse\\_index.py:288\u001b[0m, in \u001b[0;36mIndexMixin._validate_indices\u001b[1;34m(self, key)\u001b[0m\n\u001b[0;32m    286\u001b[0m \u001b[38;5;28;01melse\u001b[39;00m:  \u001b[38;5;66;03m# dense array\u001b[39;00m\n\u001b[0;32m    287\u001b[0m     N \u001b[38;5;241m=\u001b[39m \u001b[38;5;28mself\u001b[39m\u001b[38;5;241m.\u001b[39m_shape[index_ndim]\n\u001b[1;32m--> 288\u001b[0m     idx \u001b[38;5;241m=\u001b[39m \u001b[38;5;28mself\u001b[39m\u001b[38;5;241m.\u001b[39m_asindices(idx, N)\n\u001b[0;32m    289\u001b[0m     index\u001b[38;5;241m.\u001b[39mappend(idx)\n\u001b[0;32m    290\u001b[0m     array_indices\u001b[38;5;241m.\u001b[39mappend(index_ndim)\n",
      "File \u001b[1;32mc:\\Users\\rahgu\\anaconda3\\Lib\\site-packages\\scipy\\sparse\\_index.py:324\u001b[0m, in \u001b[0;36mIndexMixin._asindices\u001b[1;34m(self, idx, length)\u001b[0m\n\u001b[0;32m    321\u001b[0m     \u001b[38;5;28;01mraise\u001b[39;00m \u001b[38;5;167;01mIndexError\u001b[39;00m(\u001b[38;5;124m'\u001b[39m\u001b[38;5;124minvalid index\u001b[39m\u001b[38;5;124m'\u001b[39m) \u001b[38;5;28;01mfrom\u001b[39;00m\u001b[38;5;250m \u001b[39m\u001b[38;5;21;01me\u001b[39;00m\n\u001b[0;32m    323\u001b[0m \u001b[38;5;28;01mif\u001b[39;00m x\u001b[38;5;241m.\u001b[39mndim \u001b[38;5;129;01mnot\u001b[39;00m \u001b[38;5;129;01min\u001b[39;00m (\u001b[38;5;241m1\u001b[39m, \u001b[38;5;241m2\u001b[39m):\n\u001b[1;32m--> 324\u001b[0m     \u001b[38;5;28;01mraise\u001b[39;00m \u001b[38;5;167;01mIndexError\u001b[39;00m(\u001b[38;5;124m'\u001b[39m\u001b[38;5;124mIndex dimension must be 1 or 2\u001b[39m\u001b[38;5;124m'\u001b[39m)\n\u001b[0;32m    326\u001b[0m \u001b[38;5;28;01mif\u001b[39;00m x\u001b[38;5;241m.\u001b[39msize \u001b[38;5;241m==\u001b[39m \u001b[38;5;241m0\u001b[39m:\n\u001b[0;32m    327\u001b[0m     \u001b[38;5;28;01mreturn\u001b[39;00m x\n",
      "\u001b[1;31mIndexError\u001b[0m: Index dimension must be 1 or 2"
     ]
    }
   ],
   "source": [
    "# Train/test split 80/20\n",
    "xr_train, xr_test, yr_train, yr_test = train_test_split(xr, yr, test_size=0.2, random_state=42)"
   ]
  },
  {
   "cell_type": "code",
   "execution_count": null,
   "id": "7c9ac6db",
   "metadata": {},
   "outputs": [
    {
     "name": "stderr",
     "output_type": "stream",
     "text": [
      "c:\\Users\\rahgu\\anaconda3\\Lib\\site-packages\\keras\\src\\layers\\core\\dense.py:92: UserWarning: Do not pass an `input_shape`/`input_dim` argument to a layer. When using Sequential models, prefer using an `Input(shape)` object as the first layer in the model instead.\n",
      "  super().__init__(activity_regularizer=activity_regularizer, **kwargs)\n"
     ]
    },
    {
     "name": "stdout",
     "output_type": "stream",
     "text": [
      "Epoch 1/1000\n",
      "21131/21131 - 154s - 7ms/step - loss: 0.3510 - val_loss: 0.3382\n",
      "Epoch 2/1000\n",
      "21131/21131 - 154s - 7ms/step - loss: 0.3091 - val_loss: 0.3261\n",
      "Epoch 3/1000\n",
      "21131/21131 - 157s - 7ms/step - loss: 0.2737 - val_loss: 0.3262\n",
      "Epoch 4/1000\n",
      "21131/21131 - 158s - 7ms/step - loss: 0.2393 - val_loss: 0.3404\n",
      "Epoch 5/1000\n",
      "21131/21131 - 157s - 7ms/step - loss: 0.2101 - val_loss: 0.3469\n",
      "Epoch 6/1000\n",
      "21131/21131 - 159s - 8ms/step - loss: 0.1861 - val_loss: 0.3582\n",
      "Epoch 7/1000\n",
      "21131/21131 - 160s - 8ms/step - loss: 0.1662 - val_loss: 0.3677\n",
      "Epoch 7: early stopping\n"
     ]
    },
    {
     "data": {
      "text/plain": [
       "<keras.src.callbacks.history.History at 0x1e3b81f28b0>"
      ]
     },
     "execution_count": 48,
     "metadata": {},
     "output_type": "execute_result"
    }
   ],
   "source": [
    "# Make the model\n",
    "\n",
    "review_model = Sequential()\n",
    "review_model.add(Dense(1000, input_dim=xr.shape[1], activation='relu'))\n",
    "review_model.add(Dense(500, activation='relu'))\n",
    "review_model.add(Dense(250, activation='relu'))\n",
    "review_model.add(Dense(125, activation='relu'))\n",
    "review_model.add(Dense(60, activation='relu'))\n",
    "review_model.add(Dense(30, activation='relu'))\n",
    "review_model.add(Dense(15, activation='relu'))\n",
    "review_model.add(Dense(1))\n",
    "\n",
    "review_model.compile(loss='mean_squared_error', optimizer='adam')\n",
    "\n",
    "# Early exit\n",
    "monitor = EarlyStopping(monitor='val_loss', min_delta=1e-3, patience=5, verbose=1, mode='auto')\n",
    "review_model.fit(xr_train, yr_train, validation_data=(xr_test,yr_test), callbacks=[monitor], verbose=2, epochs=1000)"
   ]
  },
  {
   "cell_type": "code",
   "execution_count": null,
   "id": "bd378e3e",
   "metadata": {},
   "outputs": [
    {
     "name": "stdout",
     "output_type": "stream",
     "text": [
      "\u001b[1m5283/5283\u001b[0m \u001b[32m━━━━━━━━━━━━━━━━━━━━\u001b[0m\u001b[37m\u001b[0m \u001b[1m14s\u001b[0m 3ms/step\n",
      "RMSE Score: 0.6063734276401712\n"
     ]
    }
   ],
   "source": [
    "print_rsme(review_model, xr_test, yr_test)"
   ]
  },
  {
   "cell_type": "code",
   "execution_count": null,
   "id": "9288f3e3",
   "metadata": {},
   "outputs": [
    {
     "name": "stdout",
     "output_type": "stream",
     "text": [
      "\u001b[1m5283/5283\u001b[0m \u001b[32m━━━━━━━━━━━━━━━━━━━━\u001b[0m\u001b[37m\u001b[0m \u001b[1m13s\u001b[0m 2ms/step\n"
     ]
    },
    {
     "data": {
      "image/png": "[encoded data removed]",
      "text/plain": [
       "<Figure size 640x480 with 1 Axes>"
      ]
     },
     "metadata": {},
     "output_type": "display_data"
    }
   ],
   "source": [
    "pred_r = review_model.predict(xr_test)\n",
    "chart_regression(pred_r.flatten()[:100], yr_test[:100], sort=True)"
   ]
  },
  {
   "cell_type": "code",
   "execution_count": null,
   "id": "636f351c",
   "metadata": {},
   "outputs": [],
   "source": [
    "# Get all predicted reviews and average them by business ID\n"
   ]
  },
  {
   "cell_type": "markdown",
   "id": "146c9f4d",
   "metadata": {},
   "source": [
    "# TODO LIST\n",
    "\n",
    "Tuning the following hyperparameters when training neural networks using Tensorflow and\n",
    "\n",
    "tabulate all the results of each model on how they affect performance in your report. Also,\n",
    "\n",
    "save all the models you have tried as a proof in your notebook.\n",
    "\n",
    "\n",
    "(see notes)\n",
    "\n",
    "Activation: relu, sigmoid, tanh\n",
    "\n",
    "- Number of layers and neuron count for each layer\n",
    "- Optimizer: adam and sgd"
   ]
  },
  {
   "cell_type": "markdown",
   "id": "a9bce1fb",
   "metadata": {},
   "source": []
  }
 ],
 "metadata": {
  "kernelspec": {
   "display_name": "base",
   "language": "python",
   "name": "python3"
  },
  "language_info": {
   "codemirror_mode": {
    "name": "ipython",
    "version": 3
   },
   "file_extension": ".py",
   "mimetype": "text/x-python",
   "name": "python",
   "nbconvert_exporter": "python",
   "pygments_lexer": "ipython3",
   "version": "3.13.5"
  }
 },
 "nbformat": 4,
 "nbformat_minor": 5
}
