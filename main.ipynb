{
 "cells": [
  {
   "cell_type": "markdown",
   "id": "1948d138",
   "metadata": {},
   "source": [
    "## Yelp Rating Prediction FCNN\n",
    "\n",
    "Author: Rahul Gupta\n",
    "\n",
    "Goal of the project is to develop an FCNN (Fully Connected Neural Network) to predict Yelp rating scores based on the text data from user-written reviews."
   ]
  },
  {
   "cell_type": "markdown",
   "id": "7c6ac496",
   "metadata": {},
   "source": [
    "### Data Loading\n",
    "Need to first load, understand, and preprocess data for the neural network."
   ]
  },
  {
   "cell_type": "code",
   "execution_count": 1,
   "id": "96d89bb3",
   "metadata": {},
   "outputs": [],
   "source": [
    "import numpy as np\n",
    "import pandas as pd\n",
    "\n",
    "# Starter code\n",
    "review = pd.read_json('./data/yelp_academic_dataset_review.json', lines=True, nrows= 1000000)\n",
    "business = pd.read_json('./data/yelp_academic_dataset_business.json', lines=True, nrows= 1000000)"
   ]
  },
  {
   "cell_type": "code",
   "execution_count": 2,
   "id": "c6aa5775",
   "metadata": {},
   "outputs": [
    {
     "name": "stdout",
     "output_type": "stream",
     "text": [
      "(1000000, 9)\n"
     ]
    }
   ],
   "source": [
    "review.dropna(inplace=True)\n",
    "review.head()\n",
    "print(review.shape)"
   ]
  },
  {
   "cell_type": "code",
   "execution_count": 3,
   "id": "2c31b205",
   "metadata": {},
   "outputs": [
    {
     "name": "stdout",
     "output_type": "stream",
     "text": [
      "(117618, 14)\n"
     ]
    },
    {
     "data": {
      "text/html": [
       "<div>\n",
       "<style scoped>\n",
       "    .dataframe tbody tr th:only-of-type {\n",
       "        vertical-align: middle;\n",
       "    }\n",
       "\n",
       "    .dataframe tbody tr th {\n",
       "        vertical-align: top;\n",
       "    }\n",
       "\n",
       "    .dataframe thead th {\n",
       "        text-align: right;\n",
       "    }\n",
       "</style>\n",
       "<table border=\"1\" class=\"dataframe\">\n",
       "  <thead>\n",
       "    <tr style=\"text-align: right;\">\n",
       "      <th></th>\n",
       "      <th>business_id</th>\n",
       "      <th>name</th>\n",
       "      <th>address</th>\n",
       "      <th>city</th>\n",
       "      <th>state</th>\n",
       "      <th>postal_code</th>\n",
       "      <th>latitude</th>\n",
       "      <th>longitude</th>\n",
       "      <th>stars</th>\n",
       "      <th>review_count</th>\n",
       "      <th>is_open</th>\n",
       "      <th>attributes</th>\n",
       "      <th>categories</th>\n",
       "      <th>hours</th>\n",
       "    </tr>\n",
       "  </thead>\n",
       "  <tbody>\n",
       "    <tr>\n",
       "      <th>1</th>\n",
       "      <td>mpf3x-BjTdTEA3yCZrAYPw</td>\n",
       "      <td>The UPS Store</td>\n",
       "      <td>87 Grasso Plaza Shopping Center</td>\n",
       "      <td>Affton</td>\n",
       "      <td>MO</td>\n",
       "      <td>63123</td>\n",
       "      <td>38.551126</td>\n",
       "      <td>-90.335695</td>\n",
       "      <td>3.0</td>\n",
       "      <td>15</td>\n",
       "      <td>1</td>\n",
       "      <td>{'BusinessAcceptsCreditCards': 'True'}</td>\n",
       "      <td>Shipping Centers, Local Services, Notaries, Ma...</td>\n",
       "      <td>{'Monday': '0:0-0:0', 'Tuesday': '8:0-18:30', ...</td>\n",
       "    </tr>\n",
       "    <tr>\n",
       "      <th>2</th>\n",
       "      <td>tUFrWirKiKi_TAnsVWINQQ</td>\n",
       "      <td>Target</td>\n",
       "      <td>5255 E Broadway Blvd</td>\n",
       "      <td>Tucson</td>\n",
       "      <td>AZ</td>\n",
       "      <td>85711</td>\n",
       "      <td>32.223236</td>\n",
       "      <td>-110.880452</td>\n",
       "      <td>3.5</td>\n",
       "      <td>22</td>\n",
       "      <td>0</td>\n",
       "      <td>{'BikeParking': 'True', 'BusinessAcceptsCredit...</td>\n",
       "      <td>Department Stores, Shopping, Fashion, Home &amp; G...</td>\n",
       "      <td>{'Monday': '8:0-22:0', 'Tuesday': '8:0-22:0', ...</td>\n",
       "    </tr>\n",
       "    <tr>\n",
       "      <th>3</th>\n",
       "      <td>MTSW4McQd7CbVtyjqoe9mw</td>\n",
       "      <td>St Honore Pastries</td>\n",
       "      <td>935 Race St</td>\n",
       "      <td>Philadelphia</td>\n",
       "      <td>PA</td>\n",
       "      <td>19107</td>\n",
       "      <td>39.955505</td>\n",
       "      <td>-75.155564</td>\n",
       "      <td>4.0</td>\n",
       "      <td>80</td>\n",
       "      <td>1</td>\n",
       "      <td>{'RestaurantsDelivery': 'False', 'OutdoorSeati...</td>\n",
       "      <td>Restaurants, Food, Bubble Tea, Coffee &amp; Tea, B...</td>\n",
       "      <td>{'Monday': '7:0-20:0', 'Tuesday': '7:0-20:0', ...</td>\n",
       "    </tr>\n",
       "    <tr>\n",
       "      <th>4</th>\n",
       "      <td>mWMc6_wTdE0EUBKIGXDVfA</td>\n",
       "      <td>Perkiomen Valley Brewery</td>\n",
       "      <td>101 Walnut St</td>\n",
       "      <td>Green Lane</td>\n",
       "      <td>PA</td>\n",
       "      <td>18054</td>\n",
       "      <td>40.338183</td>\n",
       "      <td>-75.471659</td>\n",
       "      <td>4.5</td>\n",
       "      <td>13</td>\n",
       "      <td>1</td>\n",
       "      <td>{'BusinessAcceptsCreditCards': 'True', 'Wheelc...</td>\n",
       "      <td>Brewpubs, Breweries, Food</td>\n",
       "      <td>{'Wednesday': '14:0-22:0', 'Thursday': '16:0-2...</td>\n",
       "    </tr>\n",
       "    <tr>\n",
       "      <th>5</th>\n",
       "      <td>CF33F8-E6oudUQ46HnavjQ</td>\n",
       "      <td>Sonic Drive-In</td>\n",
       "      <td>615 S Main St</td>\n",
       "      <td>Ashland City</td>\n",
       "      <td>TN</td>\n",
       "      <td>37015</td>\n",
       "      <td>36.269593</td>\n",
       "      <td>-87.058943</td>\n",
       "      <td>2.0</td>\n",
       "      <td>6</td>\n",
       "      <td>1</td>\n",
       "      <td>{'BusinessParking': 'None', 'BusinessAcceptsCr...</td>\n",
       "      <td>Burgers, Fast Food, Sandwiches, Food, Ice Crea...</td>\n",
       "      <td>{'Monday': '0:0-0:0', 'Tuesday': '6:0-22:0', '...</td>\n",
       "    </tr>\n",
       "  </tbody>\n",
       "</table>\n",
       "</div>"
      ],
      "text/plain": [
       "              business_id                      name  \\\n",
       "1  mpf3x-BjTdTEA3yCZrAYPw             The UPS Store   \n",
       "2  tUFrWirKiKi_TAnsVWINQQ                    Target   \n",
       "3  MTSW4McQd7CbVtyjqoe9mw        St Honore Pastries   \n",
       "4  mWMc6_wTdE0EUBKIGXDVfA  Perkiomen Valley Brewery   \n",
       "5  CF33F8-E6oudUQ46HnavjQ            Sonic Drive-In   \n",
       "\n",
       "                           address          city state postal_code   latitude  \\\n",
       "1  87 Grasso Plaza Shopping Center        Affton    MO       63123  38.551126   \n",
       "2             5255 E Broadway Blvd        Tucson    AZ       85711  32.223236   \n",
       "3                      935 Race St  Philadelphia    PA       19107  39.955505   \n",
       "4                    101 Walnut St    Green Lane    PA       18054  40.338183   \n",
       "5                    615 S Main St  Ashland City    TN       37015  36.269593   \n",
       "\n",
       "    longitude  stars  review_count  is_open  \\\n",
       "1  -90.335695    3.0            15        1   \n",
       "2 -110.880452    3.5            22        0   \n",
       "3  -75.155564    4.0            80        1   \n",
       "4  -75.471659    4.5            13        1   \n",
       "5  -87.058943    2.0             6        1   \n",
       "\n",
       "                                          attributes  \\\n",
       "1             {'BusinessAcceptsCreditCards': 'True'}   \n",
       "2  {'BikeParking': 'True', 'BusinessAcceptsCredit...   \n",
       "3  {'RestaurantsDelivery': 'False', 'OutdoorSeati...   \n",
       "4  {'BusinessAcceptsCreditCards': 'True', 'Wheelc...   \n",
       "5  {'BusinessParking': 'None', 'BusinessAcceptsCr...   \n",
       "\n",
       "                                          categories  \\\n",
       "1  Shipping Centers, Local Services, Notaries, Ma...   \n",
       "2  Department Stores, Shopping, Fashion, Home & G...   \n",
       "3  Restaurants, Food, Bubble Tea, Coffee & Tea, B...   \n",
       "4                          Brewpubs, Breweries, Food   \n",
       "5  Burgers, Fast Food, Sandwiches, Food, Ice Crea...   \n",
       "\n",
       "                                               hours  \n",
       "1  {'Monday': '0:0-0:0', 'Tuesday': '8:0-18:30', ...  \n",
       "2  {'Monday': '8:0-22:0', 'Tuesday': '8:0-22:0', ...  \n",
       "3  {'Monday': '7:0-20:0', 'Tuesday': '7:0-20:0', ...  \n",
       "4  {'Wednesday': '14:0-22:0', 'Thursday': '16:0-2...  \n",
       "5  {'Monday': '0:0-0:0', 'Tuesday': '6:0-22:0', '...  "
      ]
     },
     "execution_count": 3,
     "metadata": {},
     "output_type": "execute_result"
    }
   ],
   "source": [
    "business.dropna(inplace=True)\n",
    "print(business.shape)\n",
    "business.head()"
   ]
  },
  {
   "cell_type": "code",
   "execution_count": 4,
   "id": "659f0420",
   "metadata": {},
   "outputs": [],
   "source": [
    "# Drop businesses with less than 20 reviews\n",
    "business_to_drop = business[business['review_count'] < 20]\n",
    "\n",
    "business_filtered = business[business['review_count'] >= 20]\n",
    "\n",
    "# Remove reviews for businesses that aren't in business_filtered\n",
    "review_filtered = review[review['business_id'].isin(business_filtered['business_id']) == True]"
   ]
  },
  {
   "cell_type": "markdown",
   "id": "d7f8f95a",
   "metadata": {},
   "source": [
    "### First Approach - Group all reviews\n",
    "Join the tables together such that we have a business and all the reviews for each business in one row.\n",
    "\n",
    "We'll use TFIDF on all the reviews for a business to predict the business's rating."
   ]
  },
  {
   "cell_type": "code",
   "execution_count": 5,
   "id": "3b490be8",
   "metadata": {},
   "outputs": [
    {
     "name": "stdout",
     "output_type": "stream",
     "text": [
      "(10769, 3)\n"
     ]
    },
    {
     "data": {
      "text/html": [
       "<div>\n",
       "<style scoped>\n",
       "    .dataframe tbody tr th:only-of-type {\n",
       "        vertical-align: middle;\n",
       "    }\n",
       "\n",
       "    .dataframe tbody tr th {\n",
       "        vertical-align: top;\n",
       "    }\n",
       "\n",
       "    .dataframe thead th {\n",
       "        text-align: right;\n",
       "    }\n",
       "</style>\n",
       "<table border=\"1\" class=\"dataframe\">\n",
       "  <thead>\n",
       "    <tr style=\"text-align: right;\">\n",
       "      <th></th>\n",
       "      <th>business_id</th>\n",
       "      <th>all_reviews</th>\n",
       "      <th>stars</th>\n",
       "    </tr>\n",
       "  </thead>\n",
       "  <tbody>\n",
       "    <tr>\n",
       "      <th>0</th>\n",
       "      <td>--ZVrH2X2QXBFdCilbirsw</td>\n",
       "      <td>This place is sadly perm closed. I was hoping ...</td>\n",
       "      <td>1.055696</td>\n",
       "    </tr>\n",
       "    <tr>\n",
       "      <th>1</th>\n",
       "      <td>-02xFuruu85XmDn2xiynJw</td>\n",
       "      <td>Dr. Curtis Dechant has an excellent chair-side...</td>\n",
       "      <td>1.055696</td>\n",
       "    </tr>\n",
       "    <tr>\n",
       "      <th>2</th>\n",
       "      <td>-06OYKiIzxsdymBMDAKZug</td>\n",
       "      <td>Had catalytic converters replaced on our Subur...</td>\n",
       "      <td>1.055696</td>\n",
       "    </tr>\n",
       "    <tr>\n",
       "      <th>3</th>\n",
       "      <td>-06ngMH_Ejkm_6HQBYxB7g</td>\n",
       "      <td>I have an old main line that really should be ...</td>\n",
       "      <td>0.442790</td>\n",
       "    </tr>\n",
       "    <tr>\n",
       "      <th>4</th>\n",
       "      <td>-0E7laYjwZxEAQPhFJXxow</td>\n",
       "      <td>I recently visited this dealership because the...</td>\n",
       "      <td>-0.170116</td>\n",
       "    </tr>\n",
       "  </tbody>\n",
       "</table>\n",
       "</div>"
      ],
      "text/plain": [
       "              business_id                                        all_reviews  \\\n",
       "0  --ZVrH2X2QXBFdCilbirsw  This place is sadly perm closed. I was hoping ...   \n",
       "1  -02xFuruu85XmDn2xiynJw  Dr. Curtis Dechant has an excellent chair-side...   \n",
       "2  -06OYKiIzxsdymBMDAKZug  Had catalytic converters replaced on our Subur...   \n",
       "3  -06ngMH_Ejkm_6HQBYxB7g  I have an old main line that really should be ...   \n",
       "4  -0E7laYjwZxEAQPhFJXxow  I recently visited this dealership because the...   \n",
       "\n",
       "      stars  \n",
       "0  1.055696  \n",
       "1  1.055696  \n",
       "2  1.055696  \n",
       "3  0.442790  \n",
       "4 -0.170116  "
      ]
     },
     "execution_count": 5,
     "metadata": {},
     "output_type": "execute_result"
    }
   ],
   "source": [
    "from scipy.stats import zscore\n",
    "\n",
    "df_review_agg = review_filtered.groupby('business_id')['text'].sum()\n",
    "\n",
    "df_grouped = pd.DataFrame({\n",
    "    'business_id': df_review_agg.index, \n",
    "    'all_reviews': df_review_agg.values,\n",
    "    })\n",
    "\n",
    "# Join the business star ratings w/ business IDs\n",
    "# Normalize the star ratings\n",
    "df_grouped = df_grouped.merge(business_filtered[['business_id', 'stars']], on='business_id', how='inner')\n",
    "df_grouped['stars'] = zscore(df_grouped['stars'])\n",
    "\n",
    "print(df_grouped.shape)\n",
    "df_grouped.head()"
   ]
  },
  {
   "cell_type": "markdown",
   "id": "80a433ee",
   "metadata": {},
   "source": [
    "#### Applying TFIDF\n",
    "Use TFIDF on review text to extract relevant features. Ignore stop words."
   ]
  },
  {
   "cell_type": "code",
   "execution_count": 6,
   "id": "f2011685",
   "metadata": {},
   "outputs": [],
   "source": [
    "import sklearn.feature_extraction.text as sk_text\n",
    "\n",
    "vectorizer = sk_text.TfidfVectorizer(stop_words='english', max_features=250, min_df=1)\n",
    "\n",
    "x = vectorizer.fit_transform(df_grouped['all_reviews'])\n",
    "y = df_grouped[['stars']].to_numpy()"
   ]
  },
  {
   "cell_type": "code",
   "execution_count": 7,
   "id": "b0fda085",
   "metadata": {},
   "outputs": [
    {
     "data": {
      "text/plain": [
       "array(['10', '20', '30', 'able', 'absolutely', 'actually', 'amazing',\n",
       "       'area', 'ask', 'asked', 'atmosphere', 'attentive', 'away',\n",
       "       'awesome', 'bad', 'bar', 'beef', 'beer', 'best', 'better', 'big',\n",
       "       'bit', 'bread', 'breakfast', 'burger', 'business', 'busy',\n",
       "       'called', 'came', 'car', 'care', 'check', 'cheese', 'chicken',\n",
       "       'city', 'clean', 'coffee', 'cold', 'come', 'coming'], dtype=object)"
      ]
     },
     "execution_count": 7,
     "metadata": {},
     "output_type": "execute_result"
    }
   ],
   "source": [
    "vectorizer.get_feature_names_out()[:40]"
   ]
  },
  {
   "cell_type": "markdown",
   "id": "fe8d85af",
   "metadata": {},
   "source": [
    "#### Train Test Split\n",
    "Splitting the training and resting data (80/20)"
   ]
  },
  {
   "cell_type": "code",
   "execution_count": 8,
   "id": "dfc95d02",
   "metadata": {},
   "outputs": [],
   "source": [
    "from sklearn.model_selection import train_test_split\n",
    "\n",
    "x_train, x_test, y_train, y_test = train_test_split(x, y, test_size=0.2, random_state=42)"
   ]
  },
  {
   "cell_type": "markdown",
   "id": "8c689599",
   "metadata": {},
   "source": [
    "#### RSME Function"
   ]
  },
  {
   "cell_type": "code",
   "execution_count": 9,
   "id": "25af83c0",
   "metadata": {},
   "outputs": [],
   "source": [
    "from sklearn import metrics\n",
    "\n",
    "# Predict and measure RMSE\n",
    "def print_rsme(model, x_test, y_test):\n",
    "    pred = model.predict(x_test)\n",
    "    score = np.sqrt(metrics.mean_squared_error(pred,y_test))\n",
    "    \n",
    "    print(\"RMSE Score: {}\".format(score))\n"
   ]
  },
  {
   "cell_type": "markdown",
   "id": "70da283c",
   "metadata": {},
   "source": [
    "#### Lift Chart Function"
   ]
  },
  {
   "cell_type": "code",
   "execution_count": 10,
   "id": "62500685",
   "metadata": {},
   "outputs": [],
   "source": [
    "# Function from lab #4\n",
    "import matplotlib.pyplot as plt\n",
    "\n",
    "# Regression chart.\n",
    "def chart_regression(pred,y,sort=True):\n",
    "    t = pd.DataFrame({'pred' : pred, 'y' : y.flatten()})\n",
    "    if sort:\n",
    "        t.sort_values(by=['y'],inplace=True)\n",
    "    a = plt.plot(t['y'].tolist(),label='expected')\n",
    "    b = plt.plot(t['pred'].tolist(),label='prediction')\n",
    "    plt.ylabel('output')\n",
    "    plt.legend()\n",
    "    plt.show()\n",
    "\n",
    "# Plot the chart\n",
    "# chart_regression(pred.flatten(),y_test, sort=True)"
   ]
  },
  {
   "cell_type": "markdown",
   "id": "9eb95737",
   "metadata": {},
   "source": [
    "#### Basic FCNN\n",
    "No dropout layers, just a basic fully connected neural network."
   ]
  },
  {
   "cell_type": "code",
   "execution_count": 11,
   "id": "c9a23e7e",
   "metadata": {},
   "outputs": [
    {
     "name": "stderr",
     "output_type": "stream",
     "text": [
      "c:\\Users\\rahgu\\anaconda3\\Lib\\site-packages\\keras\\src\\layers\\core\\dense.py:92: UserWarning: Do not pass an `input_shape`/`input_dim` argument to a layer. When using Sequential models, prefer using an `Input(shape)` object as the first layer in the model instead.\n",
      "  super().__init__(activity_regularizer=activity_regularizer, **kwargs)\n"
     ]
    },
    {
     "name": "stdout",
     "output_type": "stream",
     "text": [
      "Epoch 1/1000\n",
      "270/270 - 3s - 12ms/step - loss: 0.3641 - val_loss: 0.2427\n",
      "Epoch 2/1000\n",
      "270/270 - 1s - 4ms/step - loss: 0.2560 - val_loss: 0.2393\n",
      "Epoch 3/1000\n",
      "270/270 - 1s - 4ms/step - loss: 0.2181 - val_loss: 0.2585\n",
      "Epoch 4/1000\n",
      "270/270 - 1s - 4ms/step - loss: 0.1779 - val_loss: 0.2416\n",
      "Epoch 5/1000\n",
      "270/270 - 1s - 4ms/step - loss: 0.1431 - val_loss: 0.2541\n",
      "Epoch 6/1000\n",
      "270/270 - 1s - 3ms/step - loss: 0.1217 - val_loss: 0.2407\n",
      "Epoch 7/1000\n",
      "270/270 - 1s - 4ms/step - loss: 0.1027 - val_loss: 0.2543\n",
      "Epoch 7: early stopping\n"
     ]
    },
    {
     "data": {
      "text/plain": [
       "<keras.src.callbacks.history.History at 0x1e364f4c2f0>"
      ]
     },
     "execution_count": 11,
     "metadata": {},
     "output_type": "execute_result"
    }
   ],
   "source": [
    "from tensorflow.keras.models import Sequential\n",
    "from tensorflow.keras.layers import Dense\n",
    "from tensorflow.keras.callbacks import EarlyStopping\n",
    "\n",
    "basic_fcnn_model = Sequential()\n",
    "\n",
    "basic_fcnn_model.add(Dense(500, input_dim=x.shape[1], activation='relu'))\n",
    "basic_fcnn_model.add(Dense(250, activation='relu'))\n",
    "basic_fcnn_model.add(Dense(125, activation='relu'))\n",
    "basic_fcnn_model.add(Dense(60, activation='relu'))\n",
    "basic_fcnn_model.add(Dense(30, activation='relu'))\n",
    "basic_fcnn_model.add(Dense(15, activation='relu'))\n",
    "basic_fcnn_model.add(Dense(1))\n",
    "\n",
    "basic_fcnn_model.compile(loss='mean_squared_error', optimizer='adam')\n",
    "\n",
    "# Early exit\n",
    "monitor = EarlyStopping(monitor='val_loss', min_delta=1e-3, patience=5, verbose=1, mode='auto')\n",
    "basic_fcnn_model.fit(x_train, y_train, validation_data=(x_test,y_test), callbacks=[monitor], verbose=2, epochs=1000)\n",
    "\n"
   ]
  },
  {
   "cell_type": "code",
   "execution_count": 12,
   "id": "22c18c10",
   "metadata": {},
   "outputs": [
    {
     "name": "stdout",
     "output_type": "stream",
     "text": [
      "\u001b[1m68/68\u001b[0m \u001b[32m━━━━━━━━━━━━━━━━━━━━\u001b[0m\u001b[37m\u001b[0m \u001b[1m0s\u001b[0m 3ms/step\n",
      "RMSE Score: 0.5042945869058632\n"
     ]
    }
   ],
   "source": [
    "print_rsme(basic_fcnn_model, x_test, y_test)"
   ]
  },
  {
   "cell_type": "markdown",
   "id": "41985425",
   "metadata": {},
   "source": [
    "#### Slower Learning Rate\n",
    "Basic FCNN but using a slower learning rate."
   ]
  },
  {
   "cell_type": "code",
   "execution_count": 13,
   "id": "aca3246e",
   "metadata": {},
   "outputs": [
    {
     "name": "stdout",
     "output_type": "stream",
     "text": [
      "Epoch 1/1000\n"
     ]
    },
    {
     "name": "stderr",
     "output_type": "stream",
     "text": [
      "c:\\Users\\rahgu\\anaconda3\\Lib\\site-packages\\keras\\src\\layers\\core\\dense.py:92: UserWarning: Do not pass an `input_shape`/`input_dim` argument to a layer. When using Sequential models, prefer using an `Input(shape)` object as the first layer in the model instead.\n",
      "  super().__init__(activity_regularizer=activity_regularizer, **kwargs)\n"
     ]
    },
    {
     "name": "stdout",
     "output_type": "stream",
     "text": [
      "270/270 - 3s - 10ms/step - loss: 0.6069 - val_loss: 0.2862\n",
      "Epoch 2/1000\n",
      "270/270 - 1s - 4ms/step - loss: 0.2969 - val_loss: 0.2603\n",
      "Epoch 3/1000\n",
      "270/270 - 1s - 4ms/step - loss: 0.2657 - val_loss: 0.2488\n",
      "Epoch 4/1000\n",
      "270/270 - 1s - 4ms/step - loss: 0.2441 - val_loss: 0.2370\n",
      "Epoch 5/1000\n",
      "270/270 - 1s - 4ms/step - loss: 0.2291 - val_loss: 0.2333\n",
      "Epoch 6/1000\n",
      "270/270 - 1s - 4ms/step - loss: 0.2127 - val_loss: 0.2371\n",
      "Epoch 7/1000\n",
      "270/270 - 1s - 4ms/step - loss: 0.2005 - val_loss: 0.2377\n",
      "Epoch 8/1000\n",
      "270/270 - 1s - 4ms/step - loss: 0.1844 - val_loss: 0.2349\n",
      "Epoch 9/1000\n",
      "270/270 - 1s - 4ms/step - loss: 0.1660 - val_loss: 0.2422\n",
      "Epoch 10/1000\n",
      "270/270 - 1s - 4ms/step - loss: 0.1504 - val_loss: 0.2418\n",
      "Epoch 10: early stopping\n"
     ]
    },
    {
     "data": {
      "text/plain": [
       "<keras.src.callbacks.history.History at 0x1e364f55810>"
      ]
     },
     "execution_count": 13,
     "metadata": {},
     "output_type": "execute_result"
    }
   ],
   "source": [
    "from tensorflow.keras import optimizers\n",
    "\n",
    "slow_fcnn_model = Sequential()\n",
    "\n",
    "slow_fcnn_model.add(Dense(500, input_dim=x.shape[1], activation='relu'))\n",
    "slow_fcnn_model.add(Dense(250, activation='relu'))\n",
    "slow_fcnn_model.add(Dense(125, activation='relu'))\n",
    "slow_fcnn_model.add(Dense(60, activation='relu'))\n",
    "slow_fcnn_model.add(Dense(30, activation='relu'))\n",
    "slow_fcnn_model.add(Dense(15, activation='relu'))\n",
    "slow_fcnn_model.add(Dense(1))\n",
    "\n",
    "adam_modified = optimizers.Adam(learning_rate=0.0001)\n",
    "\n",
    "slow_fcnn_model.compile(loss='mean_squared_error', optimizer=adam_modified)\n",
    "\n",
    "# Early exit\n",
    "monitor = EarlyStopping(monitor='val_loss', min_delta=1e-3, patience=5, verbose=1, mode='auto')\n",
    "slow_fcnn_model.fit(x_train, y_train, validation_data=(x_test,y_test), callbacks=[monitor], verbose=2, epochs=1000)"
   ]
  },
  {
   "cell_type": "code",
   "execution_count": 14,
   "id": "469e7792",
   "metadata": {},
   "outputs": [
    {
     "name": "stdout",
     "output_type": "stream",
     "text": [
      "\u001b[1m68/68\u001b[0m \u001b[32m━━━━━━━━━━━━━━━━━━━━\u001b[0m\u001b[37m\u001b[0m \u001b[1m0s\u001b[0m 3ms/step\n",
      "RMSE Score: 0.49176793057386037\n"
     ]
    }
   ],
   "source": [
    "print_rsme(slow_fcnn_model, x_test, y_test)"
   ]
  },
  {
   "cell_type": "markdown",
   "id": "41307167",
   "metadata": {},
   "source": [
    "#### Dropout FCNN\n",
    "Same model as the basic fcnn, just with dropout layers implemented in between. Ideally, this will generalize the model more"
   ]
  },
  {
   "cell_type": "code",
   "execution_count": 15,
   "id": "78077e64",
   "metadata": {},
   "outputs": [
    {
     "name": "stderr",
     "output_type": "stream",
     "text": [
      "c:\\Users\\rahgu\\anaconda3\\Lib\\site-packages\\keras\\src\\layers\\core\\dense.py:92: UserWarning: Do not pass an `input_shape`/`input_dim` argument to a layer. When using Sequential models, prefer using an `Input(shape)` object as the first layer in the model instead.\n",
      "  super().__init__(activity_regularizer=activity_regularizer, **kwargs)\n"
     ]
    },
    {
     "name": "stdout",
     "output_type": "stream",
     "text": [
      "Epoch 1/1000\n",
      "270/270 - 3s - 12ms/step - loss: 0.4053 - val_loss: 0.2751\n",
      "Epoch 2/1000\n",
      "270/270 - 1s - 4ms/step - loss: 0.2856 - val_loss: 0.2375\n",
      "Epoch 3/1000\n",
      "270/270 - 1s - 5ms/step - loss: 0.2444 - val_loss: 0.2450\n",
      "Epoch 4/1000\n",
      "270/270 - 1s - 4ms/step - loss: 0.2191 - val_loss: 0.2468\n",
      "Epoch 5/1000\n",
      "270/270 - 1s - 5ms/step - loss: 0.1886 - val_loss: 0.2294\n",
      "Epoch 6/1000\n",
      "270/270 - 1s - 4ms/step - loss: 0.1638 - val_loss: 0.2411\n",
      "Epoch 7/1000\n",
      "270/270 - 1s - 4ms/step - loss: 0.1403 - val_loss: 0.2456\n",
      "Epoch 8/1000\n",
      "270/270 - 1s - 4ms/step - loss: 0.1266 - val_loss: 0.2395\n",
      "Epoch 9/1000\n",
      "270/270 - 1s - 5ms/step - loss: 0.1115 - val_loss: 0.2421\n",
      "Epoch 10/1000\n",
      "270/270 - 1s - 4ms/step - loss: 0.1019 - val_loss: 0.2690\n",
      "Epoch 10: early stopping\n"
     ]
    },
    {
     "data": {
      "text/plain": [
       "<keras.src.callbacks.history.History at 0x1e364f54410>"
      ]
     },
     "execution_count": 15,
     "metadata": {},
     "output_type": "execute_result"
    }
   ],
   "source": [
    "# Add dropout layers\n",
    "from tensorflow.keras.layers import Dropout\n",
    "\n",
    "dropout_fcnn_model = Sequential()\n",
    "\n",
    "dropout_fcnn_model.add(Dense(500, input_dim=x.shape[1], activation='relu'))\n",
    "dropout_fcnn_model.add(Dropout(0.1))\n",
    "dropout_fcnn_model.add(Dense(250, activation='relu'))\n",
    "dropout_fcnn_model.add(Dropout(0.1))\n",
    "dropout_fcnn_model.add(Dense(125, activation='relu'))\n",
    "dropout_fcnn_model.add(Dropout(0.1))\n",
    "dropout_fcnn_model.add(Dense(60, activation='relu'))\n",
    "dropout_fcnn_model.add(Dropout(0.1))\n",
    "dropout_fcnn_model.add(Dense(30, activation='relu'))\n",
    "dropout_fcnn_model.add(Dropout(0.1))\n",
    "dropout_fcnn_model.add(Dense(15, activation='relu'))\n",
    "dropout_fcnn_model.add(Dense(1))\n",
    "\n",
    "dropout_fcnn_model.compile(loss='mean_squared_error', optimizer='adam')\n",
    "\n",
    "# Early exit\n",
    "monitor = EarlyStopping(monitor='val_loss', min_delta=1e-3, patience=5, verbose=1, mode='auto')\n",
    "dropout_fcnn_model.fit(x_train, y_train, validation_data=(x_test,y_test), callbacks=[monitor], verbose=2, epochs=1000)"
   ]
  },
  {
   "cell_type": "code",
   "execution_count": 16,
   "id": "e13c126e",
   "metadata": {},
   "outputs": [
    {
     "name": "stdout",
     "output_type": "stream",
     "text": [
      "\u001b[1m68/68\u001b[0m \u001b[32m━━━━━━━━━━━━━━━━━━━━\u001b[0m\u001b[37m\u001b[0m \u001b[1m0s\u001b[0m 3ms/step\n",
      "RMSE Score: 0.5186877993274409\n"
     ]
    }
   ],
   "source": [
    "print_rsme(dropout_fcnn_model, x_test, y_test)"
   ]
  },
  {
   "cell_type": "markdown",
   "id": "5590b877",
   "metadata": {},
   "source": [
    "#### Adjusting Hyperparameters\n",
    "We'll be using the slower learning rate adam optimizer from before, since it yielded slightly lower RSME.\n"
   ]
  },
  {
   "cell_type": "markdown",
   "id": "61f0c211",
   "metadata": {},
   "source": [
    "##### Changing Max Features\n",
    "Adjusting the max number of features for TFIDF"
   ]
  },
  {
   "cell_type": "code",
   "execution_count": 17,
   "id": "1b30391d",
   "metadata": {},
   "outputs": [
    {
     "name": "stderr",
     "output_type": "stream",
     "text": [
      "c:\\Users\\rahgu\\anaconda3\\Lib\\site-packages\\keras\\src\\layers\\core\\dense.py:92: UserWarning: Do not pass an `input_shape`/`input_dim` argument to a layer. When using Sequential models, prefer using an `Input(shape)` object as the first layer in the model instead.\n",
      "  super().__init__(activity_regularizer=activity_regularizer, **kwargs)\n"
     ]
    },
    {
     "name": "stdout",
     "output_type": "stream",
     "text": [
      "Epoch 1/1000\n",
      "270/270 - 4s - 13ms/step - loss: 0.4828 - val_loss: 0.2358\n",
      "Epoch 2/1000\n",
      "270/270 - 2s - 8ms/step - loss: 0.2471 - val_loss: 0.2160\n",
      "Epoch 3/1000\n",
      "270/270 - 2s - 8ms/step - loss: 0.2083 - val_loss: 0.2134\n",
      "Epoch 4/1000\n",
      "270/270 - 2s - 8ms/step - loss: 0.1777 - val_loss: 0.2034\n",
      "Epoch 5/1000\n",
      "270/270 - 2s - 8ms/step - loss: 0.1468 - val_loss: 0.2073\n",
      "Epoch 6/1000\n",
      "270/270 - 2s - 8ms/step - loss: 0.1158 - val_loss: 0.2061\n",
      "Epoch 7/1000\n",
      "270/270 - 2s - 8ms/step - loss: 0.0920 - val_loss: 0.2157\n",
      "Epoch 8/1000\n",
      "270/270 - 2s - 8ms/step - loss: 0.0724 - val_loss: 0.2567\n",
      "Epoch 9/1000\n",
      "270/270 - 2s - 8ms/step - loss: 0.0565 - val_loss: 0.2183\n",
      "Epoch 9: early stopping\n",
      "\u001b[1m68/68\u001b[0m \u001b[32m━━━━━━━━━━━━━━━━━━━━\u001b[0m\u001b[37m\u001b[0m \u001b[1m0s\u001b[0m 4ms/step\n",
      "RMSE Score: 0.46717785558954356\n"
     ]
    }
   ],
   "source": [
    "vectorizer = sk_text.TfidfVectorizer(stop_words='english', max_features=500, min_df=1)\n",
    "\n",
    "x = vectorizer.fit_transform(df_grouped['all_reviews'])\n",
    "y = df_grouped[['stars']].to_numpy()\n",
    "\n",
    "x_train, x_test, y_train, y_test = train_test_split(x, y, test_size=0.2, random_state=42)\n",
    "\n",
    "model = Sequential()\n",
    "\n",
    "model.add(Dense(1000, input_dim=x.shape[1], activation='relu'))\n",
    "model.add(Dense(500, activation='relu'))\n",
    "model.add(Dense(250, activation='relu'))\n",
    "model.add(Dense(125, activation='relu'))\n",
    "model.add(Dense(60, activation='relu'))\n",
    "model.add(Dense(30, activation='relu'))\n",
    "model.add(Dense(15, activation='relu'))\n",
    "model.add(Dense(1))\n",
    "\n",
    "adam_modified = optimizers.Adam(learning_rate=0.0001)\n",
    "\n",
    "model.compile(loss='mean_squared_error', optimizer=adam_modified)\n",
    "\n",
    "# Early exit\n",
    "monitor = EarlyStopping(monitor='val_loss', min_delta=1e-3, patience=5, verbose=1, mode='auto')\n",
    "model.fit(x_train, y_train, validation_data=(x_test,y_test), callbacks=[monitor], verbose=2, epochs=1000)\n",
    "\n",
    "print_rsme(model, x_test, y_test)"
   ]
  },
  {
   "cell_type": "markdown",
   "id": "d2d0e5d9",
   "metadata": {},
   "source": [
    "##### Changing Number of Neurons and Number of Layers\n",
    "Adjusting layer and neuron count to see if there's any noticeable change"
   ]
  },
  {
   "cell_type": "code",
   "execution_count": null,
   "id": "08800933",
   "metadata": {},
   "outputs": [],
   "source": []
  },
  {
   "cell_type": "markdown",
   "id": "6bd188dc",
   "metadata": {},
   "source": [
    "### Second Approach - Predict Review Scores\n",
    "\n",
    "Instead of processing all reviews at once, we can make a model that predicts the individual score for each review.\n",
    "\n",
    "Afterwards, we'll average all of the predicted review scores and predict the business's rating."
   ]
  },
  {
   "cell_type": "markdown",
   "id": "3b4cdc38",
   "metadata": {},
   "source": []
  }
 ],
 "metadata": {
  "kernelspec": {
   "display_name": "base",
   "language": "python",
   "name": "python3"
  },
  "language_info": {
   "codemirror_mode": {
    "name": "ipython",
    "version": 3
   },
   "file_extension": ".py",
   "mimetype": "text/x-python",
   "name": "python",
   "nbconvert_exporter": "python",
   "pygments_lexer": "ipython3",
   "version": "3.13.5"
  }
 },
 "nbformat": 4,
 "nbformat_minor": 5
}
