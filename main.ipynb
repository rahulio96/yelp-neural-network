{
 "cells": [
  {
   "cell_type": "markdown",
   "id": "1948d138",
   "metadata": {},
   "source": [
    "# Yelp Rating Prediction FCNN\n",
    "\n",
    "Author: Rahul Gupta\n",
    "\n",
    "Goal of the project is to develop an FCNN (Fully Connected Neural Network) to predict Yelp rating scores based on the text data from user-written reviews."
   ]
  },
  {
   "cell_type": "markdown",
   "id": "7c6ac496",
   "metadata": {},
   "source": [
    "## Data Loading\n",
    "Need to first load, understand, and preprocess data for the neural network."
   ]
  },
  {
   "cell_type": "code",
   "execution_count": 1,
   "id": "96d89bb3",
   "metadata": {},
   "outputs": [],
   "source": [
    "import numpy as np\n",
    "import pandas as pd\n",
    "\n",
    "# Starter code\n",
    "review = pd.read_json('./data/yelp_academic_dataset_review.json', lines=True, nrows= 1000000)\n",
    "business = pd.read_json('./data/yelp_academic_dataset_business.json', lines=True, nrows= 1000000)"
   ]
  },
  {
   "cell_type": "code",
   "execution_count": 2,
   "id": "c6aa5775",
   "metadata": {},
   "outputs": [
    {
     "name": "stdout",
     "output_type": "stream",
     "text": [
      "(1000000, 9)\n"
     ]
    },
    {
     "data": {
      "text/html": [
       "<div>\n",
       "<style scoped>\n",
       "    .dataframe tbody tr th:only-of-type {\n",
       "        vertical-align: middle;\n",
       "    }\n",
       "\n",
       "    .dataframe tbody tr th {\n",
       "        vertical-align: top;\n",
       "    }\n",
       "\n",
       "    .dataframe thead th {\n",
       "        text-align: right;\n",
       "    }\n",
       "</style>\n",
       "<table border=\"1\" class=\"dataframe\">\n",
       "  <thead>\n",
       "    <tr style=\"text-align: right;\">\n",
       "      <th></th>\n",
       "      <th>review_id</th>\n",
       "      <th>user_id</th>\n",
       "      <th>business_id</th>\n",
       "      <th>stars</th>\n",
       "      <th>useful</th>\n",
       "      <th>funny</th>\n",
       "      <th>cool</th>\n",
       "      <th>text</th>\n",
       "      <th>date</th>\n",
       "    </tr>\n",
       "  </thead>\n",
       "  <tbody>\n",
       "    <tr>\n",
       "      <th>0</th>\n",
       "      <td>KU_O5udG6zpxOg-VcAEodg</td>\n",
       "      <td>mh_-eMZ6K5RLWhZyISBhwA</td>\n",
       "      <td>XQfwVwDr-v0ZS3_CbbE5Xw</td>\n",
       "      <td>3</td>\n",
       "      <td>0</td>\n",
       "      <td>0</td>\n",
       "      <td>0</td>\n",
       "      <td>If you decide to eat here, just be aware it is...</td>\n",
       "      <td>2018-07-07 22:09:11</td>\n",
       "    </tr>\n",
       "    <tr>\n",
       "      <th>1</th>\n",
       "      <td>BiTunyQ73aT9WBnpR9DZGw</td>\n",
       "      <td>OyoGAe7OKpv6SyGZT5g77Q</td>\n",
       "      <td>7ATYjTIgM3jUlt4UM3IypQ</td>\n",
       "      <td>5</td>\n",
       "      <td>1</td>\n",
       "      <td>0</td>\n",
       "      <td>1</td>\n",
       "      <td>I've taken a lot of spin classes over the year...</td>\n",
       "      <td>2012-01-03 15:28:18</td>\n",
       "    </tr>\n",
       "    <tr>\n",
       "      <th>2</th>\n",
       "      <td>saUsX_uimxRlCVr67Z4Jig</td>\n",
       "      <td>8g_iMtfSiwikVnbP2etR0A</td>\n",
       "      <td>YjUWPpI6HXG530lwP-fb2A</td>\n",
       "      <td>3</td>\n",
       "      <td>0</td>\n",
       "      <td>0</td>\n",
       "      <td>0</td>\n",
       "      <td>Family diner. Had the buffet. Eclectic assortm...</td>\n",
       "      <td>2014-02-05 20:30:30</td>\n",
       "    </tr>\n",
       "    <tr>\n",
       "      <th>3</th>\n",
       "      <td>AqPFMleE6RsU23_auESxiA</td>\n",
       "      <td>_7bHUi9Uuf5__HHc_Q8guQ</td>\n",
       "      <td>kxX2SOes4o-D3ZQBkiMRfA</td>\n",
       "      <td>5</td>\n",
       "      <td>1</td>\n",
       "      <td>0</td>\n",
       "      <td>1</td>\n",
       "      <td>Wow!  Yummy, different,  delicious.   Our favo...</td>\n",
       "      <td>2015-01-04 00:01:03</td>\n",
       "    </tr>\n",
       "    <tr>\n",
       "      <th>4</th>\n",
       "      <td>Sx8TMOWLNuJBWer-0pcmoA</td>\n",
       "      <td>bcjbaE6dDog4jkNY91ncLQ</td>\n",
       "      <td>e4Vwtrqf-wpJfwesgvdgxQ</td>\n",
       "      <td>4</td>\n",
       "      <td>1</td>\n",
       "      <td>0</td>\n",
       "      <td>1</td>\n",
       "      <td>Cute interior and owner (?) gave us tour of up...</td>\n",
       "      <td>2017-01-14 20:54:15</td>\n",
       "    </tr>\n",
       "  </tbody>\n",
       "</table>\n",
       "</div>"
      ],
      "text/plain": [
       "                review_id                 user_id             business_id  \\\n",
       "0  KU_O5udG6zpxOg-VcAEodg  mh_-eMZ6K5RLWhZyISBhwA  XQfwVwDr-v0ZS3_CbbE5Xw   \n",
       "1  BiTunyQ73aT9WBnpR9DZGw  OyoGAe7OKpv6SyGZT5g77Q  7ATYjTIgM3jUlt4UM3IypQ   \n",
       "2  saUsX_uimxRlCVr67Z4Jig  8g_iMtfSiwikVnbP2etR0A  YjUWPpI6HXG530lwP-fb2A   \n",
       "3  AqPFMleE6RsU23_auESxiA  _7bHUi9Uuf5__HHc_Q8guQ  kxX2SOes4o-D3ZQBkiMRfA   \n",
       "4  Sx8TMOWLNuJBWer-0pcmoA  bcjbaE6dDog4jkNY91ncLQ  e4Vwtrqf-wpJfwesgvdgxQ   \n",
       "\n",
       "   stars  useful  funny  cool  \\\n",
       "0      3       0      0     0   \n",
       "1      5       1      0     1   \n",
       "2      3       0      0     0   \n",
       "3      5       1      0     1   \n",
       "4      4       1      0     1   \n",
       "\n",
       "                                                text                date  \n",
       "0  If you decide to eat here, just be aware it is... 2018-07-07 22:09:11  \n",
       "1  I've taken a lot of spin classes over the year... 2012-01-03 15:28:18  \n",
       "2  Family diner. Had the buffet. Eclectic assortm... 2014-02-05 20:30:30  \n",
       "3  Wow!  Yummy, different,  delicious.   Our favo... 2015-01-04 00:01:03  \n",
       "4  Cute interior and owner (?) gave us tour of up... 2017-01-14 20:54:15  "
      ]
     },
     "execution_count": 2,
     "metadata": {},
     "output_type": "execute_result"
    }
   ],
   "source": [
    "review.dropna(inplace=True)\n",
    "print(review.shape)\n",
    "review.head()"
   ]
  },
  {
   "cell_type": "code",
   "execution_count": 3,
   "id": "2c31b205",
   "metadata": {},
   "outputs": [
    {
     "name": "stdout",
     "output_type": "stream",
     "text": [
      "(117618, 14)\n"
     ]
    },
    {
     "data": {
      "text/html": [
       "<div>\n",
       "<style scoped>\n",
       "    .dataframe tbody tr th:only-of-type {\n",
       "        vertical-align: middle;\n",
       "    }\n",
       "\n",
       "    .dataframe tbody tr th {\n",
       "        vertical-align: top;\n",
       "    }\n",
       "\n",
       "    .dataframe thead th {\n",
       "        text-align: right;\n",
       "    }\n",
       "</style>\n",
       "<table border=\"1\" class=\"dataframe\">\n",
       "  <thead>\n",
       "    <tr style=\"text-align: right;\">\n",
       "      <th></th>\n",
       "      <th>business_id</th>\n",
       "      <th>name</th>\n",
       "      <th>address</th>\n",
       "      <th>city</th>\n",
       "      <th>state</th>\n",
       "      <th>postal_code</th>\n",
       "      <th>latitude</th>\n",
       "      <th>longitude</th>\n",
       "      <th>stars</th>\n",
       "      <th>review_count</th>\n",
       "      <th>is_open</th>\n",
       "      <th>attributes</th>\n",
       "      <th>categories</th>\n",
       "      <th>hours</th>\n",
       "    </tr>\n",
       "  </thead>\n",
       "  <tbody>\n",
       "    <tr>\n",
       "      <th>1</th>\n",
       "      <td>mpf3x-BjTdTEA3yCZrAYPw</td>\n",
       "      <td>The UPS Store</td>\n",
       "      <td>87 Grasso Plaza Shopping Center</td>\n",
       "      <td>Affton</td>\n",
       "      <td>MO</td>\n",
       "      <td>63123</td>\n",
       "      <td>38.551126</td>\n",
       "      <td>-90.335695</td>\n",
       "      <td>3.0</td>\n",
       "      <td>15</td>\n",
       "      <td>1</td>\n",
       "      <td>{'BusinessAcceptsCreditCards': 'True'}</td>\n",
       "      <td>Shipping Centers, Local Services, Notaries, Ma...</td>\n",
       "      <td>{'Monday': '0:0-0:0', 'Tuesday': '8:0-18:30', ...</td>\n",
       "    </tr>\n",
       "    <tr>\n",
       "      <th>2</th>\n",
       "      <td>tUFrWirKiKi_TAnsVWINQQ</td>\n",
       "      <td>Target</td>\n",
       "      <td>5255 E Broadway Blvd</td>\n",
       "      <td>Tucson</td>\n",
       "      <td>AZ</td>\n",
       "      <td>85711</td>\n",
       "      <td>32.223236</td>\n",
       "      <td>-110.880452</td>\n",
       "      <td>3.5</td>\n",
       "      <td>22</td>\n",
       "      <td>0</td>\n",
       "      <td>{'BikeParking': 'True', 'BusinessAcceptsCredit...</td>\n",
       "      <td>Department Stores, Shopping, Fashion, Home &amp; G...</td>\n",
       "      <td>{'Monday': '8:0-22:0', 'Tuesday': '8:0-22:0', ...</td>\n",
       "    </tr>\n",
       "    <tr>\n",
       "      <th>3</th>\n",
       "      <td>MTSW4McQd7CbVtyjqoe9mw</td>\n",
       "      <td>St Honore Pastries</td>\n",
       "      <td>935 Race St</td>\n",
       "      <td>Philadelphia</td>\n",
       "      <td>PA</td>\n",
       "      <td>19107</td>\n",
       "      <td>39.955505</td>\n",
       "      <td>-75.155564</td>\n",
       "      <td>4.0</td>\n",
       "      <td>80</td>\n",
       "      <td>1</td>\n",
       "      <td>{'RestaurantsDelivery': 'False', 'OutdoorSeati...</td>\n",
       "      <td>Restaurants, Food, Bubble Tea, Coffee &amp; Tea, B...</td>\n",
       "      <td>{'Monday': '7:0-20:0', 'Tuesday': '7:0-20:0', ...</td>\n",
       "    </tr>\n",
       "    <tr>\n",
       "      <th>4</th>\n",
       "      <td>mWMc6_wTdE0EUBKIGXDVfA</td>\n",
       "      <td>Perkiomen Valley Brewery</td>\n",
       "      <td>101 Walnut St</td>\n",
       "      <td>Green Lane</td>\n",
       "      <td>PA</td>\n",
       "      <td>18054</td>\n",
       "      <td>40.338183</td>\n",
       "      <td>-75.471659</td>\n",
       "      <td>4.5</td>\n",
       "      <td>13</td>\n",
       "      <td>1</td>\n",
       "      <td>{'BusinessAcceptsCreditCards': 'True', 'Wheelc...</td>\n",
       "      <td>Brewpubs, Breweries, Food</td>\n",
       "      <td>{'Wednesday': '14:0-22:0', 'Thursday': '16:0-2...</td>\n",
       "    </tr>\n",
       "    <tr>\n",
       "      <th>5</th>\n",
       "      <td>CF33F8-E6oudUQ46HnavjQ</td>\n",
       "      <td>Sonic Drive-In</td>\n",
       "      <td>615 S Main St</td>\n",
       "      <td>Ashland City</td>\n",
       "      <td>TN</td>\n",
       "      <td>37015</td>\n",
       "      <td>36.269593</td>\n",
       "      <td>-87.058943</td>\n",
       "      <td>2.0</td>\n",
       "      <td>6</td>\n",
       "      <td>1</td>\n",
       "      <td>{'BusinessParking': 'None', 'BusinessAcceptsCr...</td>\n",
       "      <td>Burgers, Fast Food, Sandwiches, Food, Ice Crea...</td>\n",
       "      <td>{'Monday': '0:0-0:0', 'Tuesday': '6:0-22:0', '...</td>\n",
       "    </tr>\n",
       "  </tbody>\n",
       "</table>\n",
       "</div>"
      ],
      "text/plain": [
       "              business_id                      name  \\\n",
       "1  mpf3x-BjTdTEA3yCZrAYPw             The UPS Store   \n",
       "2  tUFrWirKiKi_TAnsVWINQQ                    Target   \n",
       "3  MTSW4McQd7CbVtyjqoe9mw        St Honore Pastries   \n",
       "4  mWMc6_wTdE0EUBKIGXDVfA  Perkiomen Valley Brewery   \n",
       "5  CF33F8-E6oudUQ46HnavjQ            Sonic Drive-In   \n",
       "\n",
       "                           address          city state postal_code   latitude  \\\n",
       "1  87 Grasso Plaza Shopping Center        Affton    MO       63123  38.551126   \n",
       "2             5255 E Broadway Blvd        Tucson    AZ       85711  32.223236   \n",
       "3                      935 Race St  Philadelphia    PA       19107  39.955505   \n",
       "4                    101 Walnut St    Green Lane    PA       18054  40.338183   \n",
       "5                    615 S Main St  Ashland City    TN       37015  36.269593   \n",
       "\n",
       "    longitude  stars  review_count  is_open  \\\n",
       "1  -90.335695    3.0            15        1   \n",
       "2 -110.880452    3.5            22        0   \n",
       "3  -75.155564    4.0            80        1   \n",
       "4  -75.471659    4.5            13        1   \n",
       "5  -87.058943    2.0             6        1   \n",
       "\n",
       "                                          attributes  \\\n",
       "1             {'BusinessAcceptsCreditCards': 'True'}   \n",
       "2  {'BikeParking': 'True', 'BusinessAcceptsCredit...   \n",
       "3  {'RestaurantsDelivery': 'False', 'OutdoorSeati...   \n",
       "4  {'BusinessAcceptsCreditCards': 'True', 'Wheelc...   \n",
       "5  {'BusinessParking': 'None', 'BusinessAcceptsCr...   \n",
       "\n",
       "                                          categories  \\\n",
       "1  Shipping Centers, Local Services, Notaries, Ma...   \n",
       "2  Department Stores, Shopping, Fashion, Home & G...   \n",
       "3  Restaurants, Food, Bubble Tea, Coffee & Tea, B...   \n",
       "4                          Brewpubs, Breweries, Food   \n",
       "5  Burgers, Fast Food, Sandwiches, Food, Ice Crea...   \n",
       "\n",
       "                                               hours  \n",
       "1  {'Monday': '0:0-0:0', 'Tuesday': '8:0-18:30', ...  \n",
       "2  {'Monday': '8:0-22:0', 'Tuesday': '8:0-22:0', ...  \n",
       "3  {'Monday': '7:0-20:0', 'Tuesday': '7:0-20:0', ...  \n",
       "4  {'Wednesday': '14:0-22:0', 'Thursday': '16:0-2...  \n",
       "5  {'Monday': '0:0-0:0', 'Tuesday': '6:0-22:0', '...  "
      ]
     },
     "execution_count": 3,
     "metadata": {},
     "output_type": "execute_result"
    }
   ],
   "source": [
    "business.dropna(inplace=True)\n",
    "print(business.shape)\n",
    "business.head()"
   ]
  },
  {
   "cell_type": "code",
   "execution_count": 4,
   "id": "659f0420",
   "metadata": {},
   "outputs": [],
   "source": [
    "# Drop businesses with less than 20 reviews\n",
    "business_to_drop = business[business['review_count'] < 20]\n",
    "\n",
    "business_filtered = business[business['review_count'] >= 20]\n",
    "\n",
    "# Remove reviews for businesses that aren't in business_filtered\n",
    "review_filtered = review[review['business_id'].isin(business_filtered['business_id']) == True]"
   ]
  },
  {
   "cell_type": "markdown",
   "id": "d7f8f95a",
   "metadata": {},
   "source": [
    "## Preprocess\n",
    "\n",
    "Join the tables together such that we have a business and all the reviews for each business in one row.\n",
    "\n",
    "We'll use TFIDF on all the reviews for a business to predict the business's rating."
   ]
  },
  {
   "cell_type": "code",
   "execution_count": 5,
   "id": "3b490be8",
   "metadata": {},
   "outputs": [
    {
     "name": "stdout",
     "output_type": "stream",
     "text": [
      "(10769, 3)\n"
     ]
    },
    {
     "data": {
      "text/html": [
       "<div>\n",
       "<style scoped>\n",
       "    .dataframe tbody tr th:only-of-type {\n",
       "        vertical-align: middle;\n",
       "    }\n",
       "\n",
       "    .dataframe tbody tr th {\n",
       "        vertical-align: top;\n",
       "    }\n",
       "\n",
       "    .dataframe thead th {\n",
       "        text-align: right;\n",
       "    }\n",
       "</style>\n",
       "<table border=\"1\" class=\"dataframe\">\n",
       "  <thead>\n",
       "    <tr style=\"text-align: right;\">\n",
       "      <th></th>\n",
       "      <th>business_id</th>\n",
       "      <th>all_reviews</th>\n",
       "      <th>stars</th>\n",
       "    </tr>\n",
       "  </thead>\n",
       "  <tbody>\n",
       "    <tr>\n",
       "      <th>0</th>\n",
       "      <td>--ZVrH2X2QXBFdCilbirsw</td>\n",
       "      <td>This place is sadly perm closed. I was hoping ...</td>\n",
       "      <td>1.055696</td>\n",
       "    </tr>\n",
       "    <tr>\n",
       "      <th>1</th>\n",
       "      <td>-02xFuruu85XmDn2xiynJw</td>\n",
       "      <td>Dr. Curtis Dechant has an excellent chair-side...</td>\n",
       "      <td>1.055696</td>\n",
       "    </tr>\n",
       "    <tr>\n",
       "      <th>2</th>\n",
       "      <td>-06OYKiIzxsdymBMDAKZug</td>\n",
       "      <td>Had catalytic converters replaced on our Subur...</td>\n",
       "      <td>1.055696</td>\n",
       "    </tr>\n",
       "    <tr>\n",
       "      <th>3</th>\n",
       "      <td>-06ngMH_Ejkm_6HQBYxB7g</td>\n",
       "      <td>I have an old main line that really should be ...</td>\n",
       "      <td>0.442790</td>\n",
       "    </tr>\n",
       "    <tr>\n",
       "      <th>4</th>\n",
       "      <td>-0E7laYjwZxEAQPhFJXxow</td>\n",
       "      <td>I recently visited this dealership because the...</td>\n",
       "      <td>-0.170116</td>\n",
       "    </tr>\n",
       "  </tbody>\n",
       "</table>\n",
       "</div>"
      ],
      "text/plain": [
       "              business_id                                        all_reviews  \\\n",
       "0  --ZVrH2X2QXBFdCilbirsw  This place is sadly perm closed. I was hoping ...   \n",
       "1  -02xFuruu85XmDn2xiynJw  Dr. Curtis Dechant has an excellent chair-side...   \n",
       "2  -06OYKiIzxsdymBMDAKZug  Had catalytic converters replaced on our Subur...   \n",
       "3  -06ngMH_Ejkm_6HQBYxB7g  I have an old main line that really should be ...   \n",
       "4  -0E7laYjwZxEAQPhFJXxow  I recently visited this dealership because the...   \n",
       "\n",
       "      stars  \n",
       "0  1.055696  \n",
       "1  1.055696  \n",
       "2  1.055696  \n",
       "3  0.442790  \n",
       "4 -0.170116  "
      ]
     },
     "execution_count": 5,
     "metadata": {},
     "output_type": "execute_result"
    }
   ],
   "source": [
    "from scipy.stats import zscore\n",
    "\n",
    "df_review_agg = review_filtered.groupby('business_id')['text'].sum()\n",
    "\n",
    "df_grouped = pd.DataFrame({\n",
    "    'business_id': df_review_agg.index, \n",
    "    'all_reviews': df_review_agg.values,\n",
    "    })\n",
    "\n",
    "# Join the business star ratings w/ business IDs\n",
    "# Normalize the star ratings\n",
    "df_grouped = df_grouped.merge(business_filtered[['business_id', 'stars']], on='business_id', how='inner')\n",
    "df_grouped['stars'] = zscore(df_grouped['stars'])\n",
    "\n",
    "print(df_grouped.shape)\n",
    "df_grouped.head()"
   ]
  },
  {
   "cell_type": "markdown",
   "id": "80a433ee",
   "metadata": {},
   "source": [
    "## Applying TFIDF\n",
    "Use TFIDF on review text to extract relevant features. Ignore stop words."
   ]
  },
  {
   "cell_type": "code",
   "execution_count": 6,
   "id": "f2011685",
   "metadata": {},
   "outputs": [],
   "source": [
    "import sklearn.feature_extraction.text as sk_text\n",
    "\n",
    "vectorizer = sk_text.TfidfVectorizer(stop_words='english', max_features=250, min_df=1)\n",
    "\n",
    "x = vectorizer.fit_transform(df_grouped['all_reviews'])\n",
    "y = df_grouped[['stars']].to_numpy()"
   ]
  },
  {
   "cell_type": "code",
   "execution_count": 7,
   "id": "b0fda085",
   "metadata": {},
   "outputs": [
    {
     "data": {
      "text/plain": [
       "array(['10', '20', '30', 'able', 'absolutely', 'actually', 'amazing',\n",
       "       'area', 'ask', 'asked', 'atmosphere', 'attentive', 'away',\n",
       "       'awesome', 'bad', 'bar', 'beef', 'beer', 'best', 'better', 'big',\n",
       "       'bit', 'bread', 'breakfast', 'burger', 'business', 'busy',\n",
       "       'called', 'came', 'car', 'care', 'check', 'cheese', 'chicken',\n",
       "       'city', 'clean', 'coffee', 'cold', 'come', 'coming'], dtype=object)"
      ]
     },
     "execution_count": 7,
     "metadata": {},
     "output_type": "execute_result"
    }
   ],
   "source": [
    "vectorizer.get_feature_names_out()[:40]"
   ]
  },
  {
   "cell_type": "markdown",
   "id": "fe8d85af",
   "metadata": {},
   "source": [
    "## Train Test Split\n",
    "Splitting the training and resting data (80/20)"
   ]
  },
  {
   "cell_type": "code",
   "execution_count": 8,
   "id": "dfc95d02",
   "metadata": {},
   "outputs": [],
   "source": [
    "from sklearn.model_selection import train_test_split\n",
    "\n",
    "x_train, x_test, y_train, y_test = train_test_split(x, y, test_size=0.2, random_state=42)"
   ]
  },
  {
   "cell_type": "markdown",
   "id": "8c689599",
   "metadata": {},
   "source": [
    "## RMSE Function"
   ]
  },
  {
   "cell_type": "code",
   "execution_count": 9,
   "id": "25af83c0",
   "metadata": {},
   "outputs": [],
   "source": [
    "from sklearn import metrics\n",
    "\n",
    "# Predict and measure RMSE\n",
    "def print_rsme(model, x_test, y_test):\n",
    "    pred = model.predict(x_test)\n",
    "    score = np.sqrt(metrics.mean_squared_error(pred,y_test))\n",
    "    \n",
    "    print(\"RMSE Score: {}\".format(score))\n"
   ]
  },
  {
   "cell_type": "markdown",
   "id": "70da283c",
   "metadata": {},
   "source": [
    "## Lift Chart Function"
   ]
  },
  {
   "cell_type": "code",
   "execution_count": 10,
   "id": "62500685",
   "metadata": {},
   "outputs": [],
   "source": [
    "# Function from lab #4\n",
    "import matplotlib.pyplot as plt\n",
    "\n",
    "# Regression chart.\n",
    "def chart_regression(pred,y,sort=True):\n",
    "    t = pd.DataFrame({'pred' : pred, 'y' : y.flatten()})\n",
    "    if sort:\n",
    "        t.sort_values(by=['y'],inplace=True)\n",
    "    a = plt.plot(t['y'].tolist(),label='expected')\n",
    "    b = plt.plot(t['pred'].tolist(),label='prediction')\n",
    "    plt.ylabel('output')\n",
    "    plt.legend()\n",
    "    plt.show()\n",
    "\n",
    "# Plot the chart\n",
    "# chart_regression(pred.flatten(),y_test, sort=True)"
   ]
  },
  {
   "cell_type": "markdown",
   "id": "9eb95737",
   "metadata": {},
   "source": [
    "## Basic FCNN\n",
    "No dropout layers, just a basic fully connected neural network."
   ]
  },
  {
   "cell_type": "code",
   "execution_count": 11,
   "id": "c9a23e7e",
   "metadata": {},
   "outputs": [
    {
     "name": "stderr",
     "output_type": "stream",
     "text": [
      "c:\\Users\\rahgu\\anaconda3\\Lib\\site-packages\\keras\\src\\layers\\core\\dense.py:92: UserWarning: Do not pass an `input_shape`/`input_dim` argument to a layer. When using Sequential models, prefer using an `Input(shape)` object as the first layer in the model instead.\n",
      "  super().__init__(activity_regularizer=activity_regularizer, **kwargs)\n"
     ]
    },
    {
     "name": "stdout",
     "output_type": "stream",
     "text": [
      "Epoch 1/1000\n",
      "270/270 - 4s - 14ms/step - loss: 0.3677 - val_loss: 0.2763\n",
      "Epoch 2/1000\n",
      "270/270 - 2s - 6ms/step - loss: 0.2578 - val_loss: 0.2476\n",
      "Epoch 3/1000\n",
      "270/270 - 1s - 6ms/step - loss: 0.2170 - val_loss: 0.2376\n",
      "Epoch 4/1000\n",
      "270/270 - 2s - 6ms/step - loss: 0.1781 - val_loss: 0.2580\n",
      "Epoch 5/1000\n",
      "270/270 - 2s - 6ms/step - loss: 0.1517 - val_loss: 0.2514\n",
      "Epoch 6/1000\n",
      "270/270 - 2s - 6ms/step - loss: 0.1252 - val_loss: 0.2346\n",
      "Epoch 7/1000\n",
      "270/270 - 2s - 7ms/step - loss: 0.1029 - val_loss: 0.2367\n",
      "Epoch 8/1000\n",
      "270/270 - 2s - 6ms/step - loss: 0.0885 - val_loss: 0.2360\n",
      "Epoch 9/1000\n",
      "270/270 - 2s - 6ms/step - loss: 0.0756 - val_loss: 0.2483\n",
      "Epoch 10/1000\n",
      "270/270 - 2s - 6ms/step - loss: 0.0668 - val_loss: 0.2456\n",
      "Epoch 11/1000\n",
      "270/270 - 2s - 6ms/step - loss: 0.0577 - val_loss: 0.2480\n",
      "Epoch 11: early stopping\n"
     ]
    },
    {
     "data": {
      "text/plain": [
       "<keras.src.callbacks.history.History at 0x1fd2efa42f0>"
      ]
     },
     "execution_count": 11,
     "metadata": {},
     "output_type": "execute_result"
    }
   ],
   "source": [
    "from tensorflow.keras.models import Sequential\n",
    "from tensorflow.keras.layers import Dense\n",
    "from tensorflow.keras.callbacks import EarlyStopping\n",
    "\n",
    "basic_fcnn_model = Sequential()\n",
    "\n",
    "basic_fcnn_model.add(Dense(500, input_dim=x.shape[1], activation='relu'))\n",
    "basic_fcnn_model.add(Dense(250, activation='relu'))\n",
    "basic_fcnn_model.add(Dense(125, activation='relu'))\n",
    "basic_fcnn_model.add(Dense(60, activation='relu'))\n",
    "basic_fcnn_model.add(Dense(30, activation='relu'))\n",
    "basic_fcnn_model.add(Dense(15, activation='relu'))\n",
    "basic_fcnn_model.add(Dense(1))\n",
    "\n",
    "basic_fcnn_model.compile(loss='mean_squared_error', optimizer='adam')\n",
    "\n",
    "# Early exit\n",
    "monitor = EarlyStopping(monitor='val_loss', min_delta=1e-3, patience=5, verbose=1, mode='auto')\n",
    "basic_fcnn_model.fit(x_train, y_train, validation_data=(x_test,y_test), callbacks=[monitor], verbose=2, epochs=1000)\n",
    "\n"
   ]
  },
  {
   "cell_type": "code",
   "execution_count": 12,
   "id": "22c18c10",
   "metadata": {},
   "outputs": [
    {
     "name": "stdout",
     "output_type": "stream",
     "text": [
      "\u001b[1m68/68\u001b[0m \u001b[32m━━━━━━━━━━━━━━━━━━━━\u001b[0m\u001b[37m\u001b[0m \u001b[1m0s\u001b[0m 5ms/step\n",
      "RMSE Score: 0.498018004491008\n"
     ]
    }
   ],
   "source": [
    "print_rsme(basic_fcnn_model, x_test, y_test)"
   ]
  },
  {
   "cell_type": "markdown",
   "id": "5590b877",
   "metadata": {},
   "source": [
    "## Adjusting Hyperparameters\n",
    "We'll be using the slower learning rate adam optimizer from before, since it yielded slightly lower RSME.\n"
   ]
  },
  {
   "cell_type": "markdown",
   "id": "61f0c211",
   "metadata": {},
   "source": [
    "### Changing Max Features\n",
    "Adjusting the max number of features for TFIDF"
   ]
  },
  {
   "cell_type": "code",
   "execution_count": 15,
   "id": "1b30391d",
   "metadata": {},
   "outputs": [
    {
     "name": "stderr",
     "output_type": "stream",
     "text": [
      "c:\\Users\\rahgu\\anaconda3\\Lib\\site-packages\\keras\\src\\layers\\core\\dense.py:92: UserWarning: Do not pass an `input_shape`/`input_dim` argument to a layer. When using Sequential models, prefer using an `Input(shape)` object as the first layer in the model instead.\n",
      "  super().__init__(activity_regularizer=activity_regularizer, **kwargs)\n"
     ]
    },
    {
     "name": "stdout",
     "output_type": "stream",
     "text": [
      "Epoch 1/1000\n",
      "270/270 - 5s - 18ms/step - loss: 0.4403 - val_loss: 0.2279\n",
      "Epoch 2/1000\n",
      "270/270 - 3s - 10ms/step - loss: 0.2397 - val_loss: 0.2316\n",
      "Epoch 3/1000\n",
      "270/270 - 3s - 11ms/step - loss: 0.2007 - val_loss: 0.2199\n",
      "Epoch 4/1000\n",
      "270/270 - 3s - 10ms/step - loss: 0.1738 - val_loss: 0.2543\n",
      "Epoch 5/1000\n",
      "270/270 - 3s - 10ms/step - loss: 0.1422 - val_loss: 0.2225\n",
      "Epoch 6/1000\n",
      "270/270 - 3s - 10ms/step - loss: 0.1117 - val_loss: 0.2124\n",
      "Epoch 7/1000\n",
      "270/270 - 3s - 10ms/step - loss: 0.0909 - val_loss: 0.2219\n",
      "Epoch 8/1000\n",
      "270/270 - 3s - 10ms/step - loss: 0.0718 - val_loss: 0.2334\n",
      "Epoch 9/1000\n",
      "270/270 - 3s - 11ms/step - loss: 0.0561 - val_loss: 0.2268\n",
      "Epoch 10/1000\n",
      "270/270 - 3s - 10ms/step - loss: 0.0468 - val_loss: 0.2208\n",
      "Epoch 11/1000\n",
      "270/270 - 3s - 10ms/step - loss: 0.0384 - val_loss: 0.2291\n",
      "Epoch 11: early stopping\n",
      "\u001b[1m68/68\u001b[0m \u001b[32m━━━━━━━━━━━━━━━━━━━━\u001b[0m\u001b[37m\u001b[0m \u001b[1m1s\u001b[0m 7ms/step\n",
      "RMSE Score: 0.47859797158249917\n"
     ]
    }
   ],
   "source": [
    "vectorizer = sk_text.TfidfVectorizer(stop_words='english', max_features=500, min_df=1)\n",
    "\n",
    "x = vectorizer.fit_transform(df_grouped['all_reviews'])\n",
    "y = df_grouped[['stars']].to_numpy()\n",
    "\n",
    "x_train, x_test, y_train, y_test = train_test_split(x, y, test_size=0.2, random_state=42)\n",
    "\n",
    "model = Sequential()\n",
    "\n",
    "model.add(Dense(1000, input_dim=x.shape[1], activation='relu'))\n",
    "model.add(Dense(500, activation='relu'))\n",
    "model.add(Dense(250, activation='relu'))\n",
    "model.add(Dense(125, activation='relu'))\n",
    "model.add(Dense(60, activation='relu'))\n",
    "model.add(Dense(30, activation='relu'))\n",
    "model.add(Dense(15, activation='relu'))\n",
    "model.add(Dense(1))\n",
    "\n",
    "adam_modified = optimizers.Adam(learning_rate=0.0001)\n",
    "\n",
    "model.compile(loss='mean_squared_error', optimizer=adam_modified)\n",
    "\n",
    "# Early exit\n",
    "monitor = EarlyStopping(monitor='val_loss', min_delta=1e-3, patience=5, verbose=1, mode='auto')\n",
    "model.fit(x_train, y_train, validation_data=(x_test,y_test), callbacks=[monitor], verbose=2, epochs=1000)\n",
    "\n",
    "print_rsme(model, x_test, y_test)"
   ]
  },
  {
   "cell_type": "markdown",
   "id": "9c2a4799",
   "metadata": {},
   "source": [
    "### Use SGD"
   ]
  },
  {
   "cell_type": "code",
   "execution_count": null,
   "id": "eecdaff2",
   "metadata": {},
   "outputs": [
    {
     "name": "stderr",
     "output_type": "stream",
     "text": [
      "c:\\Users\\rahgu\\anaconda3\\Lib\\site-packages\\keras\\src\\layers\\core\\dense.py:92: UserWarning: Do not pass an `input_shape`/`input_dim` argument to a layer. When using Sequential models, prefer using an `Input(shape)` object as the first layer in the model instead.\n",
      "  super().__init__(activity_regularizer=activity_regularizer, **kwargs)\n"
     ]
    },
    {
     "name": "stdout",
     "output_type": "stream",
     "text": [
      "Epoch 1/1000\n",
      "270/270 - 3s - 11ms/step - loss: 1.0019 - val_loss: 0.9832\n",
      "Epoch 2/1000\n",
      "270/270 - 2s - 8ms/step - loss: 0.9988 - val_loss: 0.9782\n",
      "Epoch 3/1000\n",
      "270/270 - 2s - 9ms/step - loss: 0.9878 - val_loss: 0.9607\n",
      "Epoch 4/1000\n",
      "270/270 - 2s - 9ms/step - loss: 0.9675 - val_loss: 0.9376\n",
      "Epoch 5/1000\n",
      "270/270 - 2s - 8ms/step - loss: 0.9418 - val_loss: 0.9073\n",
      "Epoch 6/1000\n",
      "270/270 - 2s - 9ms/step - loss: 0.9053 - val_loss: 0.8644\n",
      "Epoch 7/1000\n",
      "270/270 - 2s - 8ms/step - loss: 0.8530 - val_loss: 0.8026\n",
      "Epoch 8/1000\n",
      "270/270 - 2s - 8ms/step - loss: 0.7804 - val_loss: 0.7148\n",
      "Epoch 9/1000\n",
      "270/270 - 2s - 8ms/step - loss: 0.6850 - val_loss: 0.6080\n",
      "Epoch 10/1000\n",
      "270/270 - 2s - 8ms/step - loss: 0.5740 - val_loss: 0.5029\n",
      "Epoch 11/1000\n",
      "270/270 - 2s - 8ms/step - loss: 0.4703 - val_loss: 0.4032\n",
      "Epoch 12/1000\n",
      "270/270 - 2s - 9ms/step - loss: 0.3974 - val_loss: 0.3447\n",
      "Epoch 13/1000\n",
      "270/270 - 2s - 8ms/step - loss: 0.3554 - val_loss: 0.3279\n",
      "Epoch 14/1000\n",
      "270/270 - 2s - 8ms/step - loss: 0.3312 - val_loss: 0.3008\n",
      "Epoch 15/1000\n",
      "270/270 - 2s - 8ms/step - loss: 0.3140 - val_loss: 0.2827\n",
      "Epoch 16/1000\n",
      "270/270 - 2s - 8ms/step - loss: 0.3013 - val_loss: 0.2882\n",
      "Epoch 17/1000\n",
      "270/270 - 2s - 7ms/step - loss: 0.2905 - val_loss: 0.3075\n",
      "Epoch 18/1000\n",
      "270/270 - 2s - 9ms/step - loss: 0.2832 - val_loss: 0.2605\n",
      "Epoch 19/1000\n",
      "270/270 - 2s - 8ms/step - loss: 0.2757 - val_loss: 0.2833\n",
      "Epoch 20/1000\n",
      "270/270 - 2s - 8ms/step - loss: 0.2689 - val_loss: 0.2535\n",
      "Epoch 21/1000\n",
      "270/270 - 2s - 8ms/step - loss: 0.2638 - val_loss: 0.2905\n",
      "Epoch 22/1000\n",
      "270/270 - 2s - 9ms/step - loss: 0.2588 - val_loss: 0.2424\n",
      "Epoch 23/1000\n",
      "270/270 - 2s - 8ms/step - loss: 0.2546 - val_loss: 0.2535\n",
      "Epoch 24/1000\n",
      "270/270 - 2s - 8ms/step - loss: 0.2503 - val_loss: 0.2377\n",
      "Epoch 25/1000\n",
      "270/270 - 2s - 8ms/step - loss: 0.2458 - val_loss: 0.2475\n",
      "Epoch 26/1000\n",
      "270/270 - 2s - 8ms/step - loss: 0.2433 - val_loss: 0.2345\n",
      "Epoch 27/1000\n",
      "270/270 - 2s - 8ms/step - loss: 0.2387 - val_loss: 0.2451\n",
      "Epoch 28/1000\n",
      "270/270 - 2s - 8ms/step - loss: 0.2356 - val_loss: 0.2311\n",
      "Epoch 29/1000\n",
      "270/270 - 2s - 8ms/step - loss: 0.2327 - val_loss: 0.2310\n",
      "Epoch 30/1000\n",
      "270/270 - 2s - 8ms/step - loss: 0.2310 - val_loss: 0.2311\n",
      "Epoch 31/1000\n",
      "270/270 - 2s - 8ms/step - loss: 0.2278 - val_loss: 0.2262\n",
      "Epoch 32/1000\n",
      "270/270 - 2s - 8ms/step - loss: 0.2257 - val_loss: 0.2815\n",
      "Epoch 33/1000\n",
      "270/270 - 2s - 9ms/step - loss: 0.2235 - val_loss: 0.2271\n",
      "Epoch 34/1000\n",
      "270/270 - 2s - 9ms/step - loss: 0.2206 - val_loss: 0.2277\n",
      "Epoch 35/1000\n",
      "270/270 - 2s - 9ms/step - loss: 0.2188 - val_loss: 0.2231\n",
      "Epoch 36/1000\n",
      "270/270 - 2s - 9ms/step - loss: 0.2164 - val_loss: 0.2580\n",
      "Epoch 37/1000\n",
      "270/270 - 2s - 8ms/step - loss: 0.2152 - val_loss: 0.2216\n",
      "Epoch 38/1000\n",
      "270/270 - 2s - 8ms/step - loss: 0.2133 - val_loss: 0.3672\n",
      "Epoch 39/1000\n",
      "270/270 - 2s - 9ms/step - loss: 0.2104 - val_loss: 0.2307\n",
      "Epoch 40/1000\n",
      "270/270 - 2s - 8ms/step - loss: 0.2077 - val_loss: 0.2397\n",
      "Epoch 41/1000\n",
      "270/270 - 2s - 8ms/step - loss: 0.2061 - val_loss: 0.2194\n",
      "Epoch 42/1000\n",
      "270/270 - 2s - 9ms/step - loss: 0.2042 - val_loss: 0.2214\n",
      "Epoch 43/1000\n",
      "270/270 - 2s - 8ms/step - loss: 0.2020 - val_loss: 0.2260\n",
      "Epoch 44/1000\n",
      "270/270 - 2s - 9ms/step - loss: 0.2003 - val_loss: 0.2505\n",
      "Epoch 45/1000\n",
      "270/270 - 2s - 8ms/step - loss: 0.1982 - val_loss: 0.2438\n",
      "Epoch 46/1000\n",
      "270/270 - 2s - 8ms/step - loss: 0.1975 - val_loss: 0.2234\n",
      "Epoch 46: early stopping\n",
      "\u001b[1m68/68\u001b[0m \u001b[32m━━━━━━━━━━━━━━━━━━━━\u001b[0m\u001b[37m\u001b[0m \u001b[1m1s\u001b[0m 6ms/step\n",
      "RMSE Score: 0.4726502296675807\n"
     ]
    }
   ],
   "source": [
    "# Using SGD instead of Adam\n",
    "\n",
    "vectorizer = sk_text.TfidfVectorizer(stop_words='english', max_features=500, min_df=1)\n",
    "\n",
    "x = vectorizer.fit_transform(df_grouped['all_reviews'])\n",
    "y = df_grouped[['stars']].to_numpy()\n",
    "\n",
    "x_train, x_test, y_train, y_test = train_test_split(x, y, test_size=0.2, random_state=42)\n",
    "\n",
    "model = Sequential()\n",
    "\n",
    "model.add(Dense(1000, input_dim=x.shape[1], activation='relu'))\n",
    "model.add(Dense(500, activation='relu'))\n",
    "model.add(Dense(250, activation='relu'))\n",
    "model.add(Dense(125, activation='relu'))\n",
    "model.add(Dense(60, activation='relu'))\n",
    "model.add(Dense(30, activation='relu'))\n",
    "model.add(Dense(15, activation='relu'))\n",
    "model.add(Dense(1))\n",
    "\n",
    "sgd_modified = optimizers.SGD(learning_rate=0.001)\n",
    "\n",
    "model.compile(loss='mean_squared_error', optimizer=sgd_modified)\n",
    "\n",
    "# Early exit\n",
    "monitor = EarlyStopping(monitor='val_loss', min_delta=1e-3, patience=5, verbose=1, mode='auto')\n",
    "model.fit(x_train, y_train, validation_data=(x_test,y_test), callbacks=[monitor], verbose=2, epochs=1000)\n",
    "\n",
    "print_rsme(model, x_test, y_test)"
   ]
  },
  {
   "cell_type": "markdown",
   "id": "5994f268",
   "metadata": {},
   "source": [
    "### Tanh Instead of RELU\n",
    "Changing the activation function"
   ]
  },
  {
   "cell_type": "code",
   "execution_count": 38,
   "id": "5058450d",
   "metadata": {},
   "outputs": [
    {
     "name": "stderr",
     "output_type": "stream",
     "text": [
      "c:\\Users\\rahgu\\anaconda3\\Lib\\site-packages\\keras\\src\\layers\\core\\dense.py:92: UserWarning: Do not pass an `input_shape`/`input_dim` argument to a layer. When using Sequential models, prefer using an `Input(shape)` object as the first layer in the model instead.\n",
      "  super().__init__(activity_regularizer=activity_regularizer, **kwargs)\n"
     ]
    },
    {
     "name": "stdout",
     "output_type": "stream",
     "text": [
      "Epoch 1/1000\n",
      "270/270 - 6s - 23ms/step - loss: 0.3451 - val_loss: 0.2492\n",
      "Epoch 2/1000\n",
      "270/270 - 4s - 13ms/step - loss: 0.2462 - val_loss: 0.2325\n",
      "Epoch 3/1000\n",
      "270/270 - 4s - 13ms/step - loss: 0.2255 - val_loss: 0.2407\n",
      "Epoch 4/1000\n",
      "270/270 - 4s - 13ms/step - loss: 0.2046 - val_loss: 0.2592\n",
      "Epoch 5/1000\n",
      "270/270 - 3s - 13ms/step - loss: 0.2039 - val_loss: 0.2389\n",
      "Epoch 6/1000\n",
      "270/270 - 4s - 14ms/step - loss: 0.1844 - val_loss: 0.2461\n",
      "Epoch 7/1000\n",
      "270/270 - 4s - 13ms/step - loss: 0.1795 - val_loss: 0.2538\n",
      "Epoch 7: early stopping\n",
      "\u001b[1m68/68\u001b[0m \u001b[32m━━━━━━━━━━━━━━━━━━━━\u001b[0m\u001b[37m\u001b[0m \u001b[1m0s\u001b[0m 6ms/step\n",
      "RMSE Score: 0.5037813976571462\n"
     ]
    }
   ],
   "source": [
    "model = Sequential()\n",
    "\n",
    "model.add(Dense(1000, input_dim=x.shape[1], activation='tanh'))\n",
    "model.add(Dense(500, activation='tanh'))\n",
    "model.add(Dense(250, activation='tanh'))\n",
    "model.add(Dense(125, activation='tanh'))\n",
    "model.add(Dense(60, activation='tanh'))\n",
    "model.add(Dense(30, activation='tanh'))\n",
    "model.add(Dense(15, activation='tanh'))\n",
    "model.add(Dense(1))\n",
    "\n",
    "model.compile(loss='mean_squared_error', optimizer='adam')\n",
    "\n",
    "# Early exit\n",
    "monitor = EarlyStopping(monitor='val_loss', min_delta=1e-3, patience=5, verbose=1, mode='auto')\n",
    "model.fit(x_train, y_train, validation_data=(x_test,y_test), callbacks=[monitor], verbose=2, epochs=1000)\n",
    "\n",
    "print_rsme(model, x_test, y_test)"
   ]
  },
  {
   "cell_type": "markdown",
   "id": "9ea5f063",
   "metadata": {},
   "source": [
    "### Smaller Number of Layers and Neurons"
   ]
  },
  {
   "cell_type": "code",
   "execution_count": 17,
   "id": "82621a98",
   "metadata": {},
   "outputs": [
    {
     "name": "stderr",
     "output_type": "stream",
     "text": [
      "c:\\Users\\rahgu\\anaconda3\\Lib\\site-packages\\keras\\src\\layers\\core\\dense.py:92: UserWarning: Do not pass an `input_shape`/`input_dim` argument to a layer. When using Sequential models, prefer using an `Input(shape)` object as the first layer in the model instead.\n",
      "  super().__init__(activity_regularizer=activity_regularizer, **kwargs)\n"
     ]
    },
    {
     "name": "stdout",
     "output_type": "stream",
     "text": [
      "Epoch 1/1000\n",
      "270/270 - 3s - 12ms/step - loss: 0.3140 - val_loss: 0.2256\n",
      "Epoch 2/1000\n",
      "270/270 - 2s - 7ms/step - loss: 0.1888 - val_loss: 0.2178\n",
      "Epoch 3/1000\n",
      "270/270 - 2s - 7ms/step - loss: 0.1381 - val_loss: 0.2256\n",
      "Epoch 4/1000\n",
      "270/270 - 2s - 7ms/step - loss: 0.0951 - val_loss: 0.2319\n",
      "Epoch 5/1000\n",
      "270/270 - 2s - 7ms/step - loss: 0.0700 - val_loss: 0.2290\n",
      "Epoch 6/1000\n",
      "270/270 - 2s - 7ms/step - loss: 0.0509 - val_loss: 0.2437\n",
      "Epoch 7/1000\n",
      "270/270 - 2s - 7ms/step - loss: 0.0375 - val_loss: 0.2308\n",
      "Epoch 7: early stopping\n",
      "\u001b[1m68/68\u001b[0m \u001b[32m━━━━━━━━━━━━━━━━━━━━\u001b[0m\u001b[37m\u001b[0m \u001b[1m0s\u001b[0m 5ms/step\n",
      "RMSE Score: 0.48042382537307265\n"
     ]
    }
   ],
   "source": [
    "vectorizer = sk_text.TfidfVectorizer(stop_words='english', max_features=1000, min_df=1)\n",
    "\n",
    "x = vectorizer.fit_transform(df_grouped['all_reviews'])\n",
    "y = df_grouped[['stars']].to_numpy()\n",
    "\n",
    "x_train, x_test, y_train, y_test = train_test_split(x, y, test_size=0.2, random_state=42)\n",
    "\n",
    "model = Sequential()\n",
    "\n",
    "model.add(Dense(500, input_dim=x.shape[1], activation='relu'))\n",
    "model.add(Dense(250, activation='relu'))\n",
    "model.add(Dense(125, activation='relu'))\n",
    "model.add(Dense(1))\n",
    "\n",
    "adam_modified = optimizers.Adam(learning_rate=0.001)\n",
    "\n",
    "model.compile(loss='mean_squared_error', optimizer=adam_modified)\n",
    "\n",
    "# Early exit\n",
    "monitor = EarlyStopping(monitor='val_loss', min_delta=1e-3, patience=5, verbose=1, mode='auto')\n",
    "model.fit(x_train, y_train, validation_data=(x_test,y_test), callbacks=[monitor], verbose=2, epochs=1000)\n",
    "\n",
    "print_rsme(model, x_test, y_test)"
   ]
  },
  {
   "cell_type": "markdown",
   "id": "9cb712d6",
   "metadata": {},
   "source": [
    "### Smaller Number of Layers and Neurons w/ Dropout\n",
    "Also using 2k words for vectorizer"
   ]
  },
  {
   "cell_type": "code",
   "execution_count": 18,
   "id": "cdc1f286",
   "metadata": {},
   "outputs": [
    {
     "name": "stderr",
     "output_type": "stream",
     "text": [
      "c:\\Users\\rahgu\\anaconda3\\Lib\\site-packages\\keras\\src\\layers\\core\\dense.py:92: UserWarning: Do not pass an `input_shape`/`input_dim` argument to a layer. When using Sequential models, prefer using an `Input(shape)` object as the first layer in the model instead.\n",
      "  super().__init__(activity_regularizer=activity_regularizer, **kwargs)\n"
     ]
    },
    {
     "name": "stdout",
     "output_type": "stream",
     "text": [
      "Epoch 1/1000\n",
      "270/270 - 4s - 17ms/step - loss: 0.3300 - val_loss: 0.2212\n",
      "Epoch 2/1000\n",
      "270/270 - 3s - 11ms/step - loss: 0.1842 - val_loss: 0.2147\n",
      "Epoch 3/1000\n",
      "270/270 - 3s - 11ms/step - loss: 0.1239 - val_loss: 0.2213\n",
      "Epoch 4/1000\n",
      "270/270 - 3s - 11ms/step - loss: 0.0865 - val_loss: 0.2188\n",
      "Epoch 5/1000\n",
      "270/270 - 3s - 11ms/step - loss: 0.0615 - val_loss: 0.2213\n",
      "Epoch 6/1000\n",
      "270/270 - 3s - 11ms/step - loss: 0.0494 - val_loss: 0.2194\n",
      "Epoch 7/1000\n",
      "270/270 - 3s - 11ms/step - loss: 0.0400 - val_loss: 0.2225\n",
      "Epoch 7: early stopping\n",
      "\u001b[1m68/68\u001b[0m \u001b[32m━━━━━━━━━━━━━━━━━━━━\u001b[0m\u001b[37m\u001b[0m \u001b[1m0s\u001b[0m 5ms/step\n",
      "RMSE Score: 0.4716776706986138\n"
     ]
    }
   ],
   "source": [
    "from tensorflow.keras.layers import Dropout\n",
    "\n",
    "vectorizer = sk_text.TfidfVectorizer(stop_words='english', max_features=2000, min_df=1)\n",
    "\n",
    "x = vectorizer.fit_transform(df_grouped['all_reviews'])\n",
    "y = df_grouped[['stars']].to_numpy()\n",
    "\n",
    "x_train, x_test, y_train, y_test = train_test_split(x, y, test_size=0.2, random_state=42)\n",
    "\n",
    "model = Sequential()\n",
    "\n",
    "model.add(Dense(500, input_dim=x.shape[1], activation='relu'))\n",
    "model.add(Dropout(0.1))\n",
    "model.add(Dense(250, activation='relu'))\n",
    "model.add(Dropout(0.1))\n",
    "model.add(Dense(125, activation='relu'))\n",
    "model.add(Dense(1))\n",
    "\n",
    "adam_modified = optimizers.Adam(learning_rate=0.001)\n",
    "\n",
    "model.compile(loss='mean_squared_error', optimizer=adam_modified)\n",
    "\n",
    "# Early exit\n",
    "monitor = EarlyStopping(monitor='val_loss', min_delta=0, patience=5, verbose=1, mode='auto')\n",
    "model.fit(x_train, y_train, validation_data=(x_test,y_test), callbacks=[monitor], verbose=2, epochs=1000)\n",
    "\n",
    "print_rsme(model, x_test, y_test)"
   ]
  },
  {
   "cell_type": "markdown",
   "id": "5ad2c287",
   "metadata": {},
   "source": [
    "### Testing different dropout values"
   ]
  },
  {
   "cell_type": "code",
   "execution_count": 19,
   "id": "d2e5ced9",
   "metadata": {},
   "outputs": [
    {
     "name": "stderr",
     "output_type": "stream",
     "text": [
      "c:\\Users\\rahgu\\anaconda3\\Lib\\site-packages\\keras\\src\\layers\\core\\dense.py:92: UserWarning: Do not pass an `input_shape`/`input_dim` argument to a layer. When using Sequential models, prefer using an `Input(shape)` object as the first layer in the model instead.\n",
      "  super().__init__(activity_regularizer=activity_regularizer, **kwargs)\n"
     ]
    },
    {
     "name": "stdout",
     "output_type": "stream",
     "text": [
      "Epoch 1/1000\n",
      "270/270 - 4s - 16ms/step - loss: 0.3634 - val_loss: 0.2094\n",
      "Epoch 2/1000\n",
      "270/270 - 3s - 11ms/step - loss: 0.2176 - val_loss: 0.2018\n",
      "Epoch 3/1000\n",
      "270/270 - 3s - 11ms/step - loss: 0.1759 - val_loss: 0.2085\n",
      "Epoch 4/1000\n",
      "270/270 - 3s - 10ms/step - loss: 0.1376 - val_loss: 0.2203\n",
      "Epoch 5/1000\n",
      "270/270 - 3s - 10ms/step - loss: 0.1182 - val_loss: 0.2156\n",
      "Epoch 6/1000\n",
      "270/270 - 3s - 11ms/step - loss: 0.1014 - val_loss: 0.2301\n",
      "Epoch 7/1000\n",
      "270/270 - 3s - 10ms/step - loss: 0.0895 - val_loss: 0.2186\n",
      "Epoch 7: early stopping\n",
      "\u001b[1m68/68\u001b[0m \u001b[32m━━━━━━━━━━━━━━━━━━━━\u001b[0m\u001b[37m\u001b[0m \u001b[1m0s\u001b[0m 6ms/step\n",
      "RMSE Score: 0.46753157969092063\n"
     ]
    }
   ],
   "source": [
    "model = Sequential()\n",
    "\n",
    "model.add(Dense(500, input_dim=x.shape[1], activation='relu'))\n",
    "model.add(Dropout(0.5))\n",
    "model.add(Dense(250, activation='relu'))\n",
    "model.add(Dropout(0.3))\n",
    "model.add(Dense(125, activation='relu'))\n",
    "model.add(Dense(1))\n",
    "\n",
    "adam_modified = optimizers.Adam(learning_rate=0.001)\n",
    "\n",
    "model.compile(loss='mean_squared_error', optimizer=adam_modified)\n",
    "\n",
    "# Early exit\n",
    "monitor = EarlyStopping(monitor='val_loss', min_delta=0, patience=5, verbose=1, mode='auto')\n",
    "model.fit(x_train, y_train, validation_data=(x_test,y_test), callbacks=[monitor], verbose=2, epochs=1000)\n",
    "\n",
    "print_rsme(model, x_test, y_test)"
   ]
  },
  {
   "cell_type": "markdown",
   "id": "7caa543c",
   "metadata": {},
   "source": [
    "### Reduce by 1 layer"
   ]
  },
  {
   "cell_type": "code",
   "execution_count": 20,
   "id": "326ed6ba",
   "metadata": {},
   "outputs": [
    {
     "name": "stderr",
     "output_type": "stream",
     "text": [
      "c:\\Users\\rahgu\\anaconda3\\Lib\\site-packages\\keras\\src\\layers\\core\\dense.py:92: UserWarning: Do not pass an `input_shape`/`input_dim` argument to a layer. When using Sequential models, prefer using an `Input(shape)` object as the first layer in the model instead.\n",
      "  super().__init__(activity_regularizer=activity_regularizer, **kwargs)\n"
     ]
    },
    {
     "name": "stdout",
     "output_type": "stream",
     "text": [
      "Epoch 1/1000\n",
      "270/270 - 4s - 14ms/step - loss: 0.3612 - val_loss: 0.2094\n",
      "Epoch 2/1000\n",
      "270/270 - 3s - 10ms/step - loss: 0.2214 - val_loss: 0.2040\n",
      "Epoch 3/1000\n",
      "270/270 - 3s - 10ms/step - loss: 0.1752 - val_loss: 0.2191\n",
      "Epoch 4/1000\n",
      "270/270 - 3s - 10ms/step - loss: 0.1453 - val_loss: 0.2127\n",
      "Epoch 5/1000\n",
      "270/270 - 3s - 10ms/step - loss: 0.1215 - val_loss: 0.2079\n",
      "Epoch 6/1000\n",
      "270/270 - 3s - 10ms/step - loss: 0.1061 - val_loss: 0.2157\n",
      "Epoch 7/1000\n",
      "270/270 - 3s - 10ms/step - loss: 0.0935 - val_loss: 0.2129\n",
      "Epoch 7: early stopping\n",
      "\u001b[1m68/68\u001b[0m \u001b[32m━━━━━━━━━━━━━━━━━━━━\u001b[0m\u001b[37m\u001b[0m \u001b[1m0s\u001b[0m 5ms/step\n",
      "RMSE Score: 0.46142682447009553\n"
     ]
    }
   ],
   "source": [
    "model = Sequential()\n",
    "\n",
    "model.add(Dense(500, input_dim=x.shape[1], activation='relu'))\n",
    "model.add(Dropout(0.5))\n",
    "model.add(Dense(125, activation='relu'))\n",
    "model.add(Dropout(0.3))\n",
    "model.add(Dense(1))\n",
    "\n",
    "adam_modified = optimizers.Adam(learning_rate=0.001)\n",
    "\n",
    "model.compile(loss='mean_squared_error', optimizer=adam_modified)\n",
    "\n",
    "# Early exit\n",
    "monitor = EarlyStopping(monitor='val_loss', min_delta=0, patience=5, verbose=1, mode='auto')\n",
    "model.fit(x_train, y_train, validation_data=(x_test,y_test), callbacks=[monitor], verbose=2, epochs=1000)\n",
    "\n",
    "print_rsme(model, x_test, y_test)"
   ]
  },
  {
   "cell_type": "markdown",
   "id": "d7643f79",
   "metadata": {},
   "source": [
    "### 10k TFIDF Features w/ SGD"
   ]
  },
  {
   "cell_type": "code",
   "execution_count": 21,
   "id": "cf0f1e71",
   "metadata": {},
   "outputs": [],
   "source": [
    "vectorizer = sk_text.TfidfVectorizer(stop_words='english', max_features=10000, min_df=1)\n",
    "\n",
    "x = vectorizer.fit_transform(df_grouped['all_reviews'])\n",
    "y = df_grouped[['stars']].to_numpy()\n",
    "\n",
    "x_train, x_test, y_train, y_test = train_test_split(x, y, test_size=0.2, random_state=42)"
   ]
  },
  {
   "cell_type": "code",
   "execution_count": 22,
   "id": "3bd8f368",
   "metadata": {},
   "outputs": [
    {
     "name": "stderr",
     "output_type": "stream",
     "text": [
      "c:\\Users\\rahgu\\anaconda3\\Lib\\site-packages\\keras\\src\\layers\\core\\dense.py:92: UserWarning: Do not pass an `input_shape`/`input_dim` argument to a layer. When using Sequential models, prefer using an `Input(shape)` object as the first layer in the model instead.\n",
      "  super().__init__(activity_regularizer=activity_regularizer, **kwargs)\n"
     ]
    },
    {
     "name": "stdout",
     "output_type": "stream",
     "text": [
      "Epoch 1/1000\n",
      "270/270 - 5s - 17ms/step - loss: 1.0050 - val_loss: 0.9843\n",
      "Epoch 2/1000\n",
      "270/270 - 4s - 14ms/step - loss: 1.0021 - val_loss: 0.9811\n",
      "Epoch 3/1000\n",
      "270/270 - 4s - 15ms/step - loss: 0.9978 - val_loss: 0.9773\n",
      "Epoch 4/1000\n",
      "270/270 - 4s - 14ms/step - loss: 0.9953 - val_loss: 0.9730\n",
      "Epoch 5/1000\n",
      "270/270 - 4s - 15ms/step - loss: 0.9903 - val_loss: 0.9678\n",
      "Epoch 6/1000\n",
      "270/270 - 4s - 14ms/step - loss: 0.9873 - val_loss: 0.9624\n",
      "Epoch 7/1000\n",
      "270/270 - 4s - 14ms/step - loss: 0.9809 - val_loss: 0.9561\n",
      "Epoch 8/1000\n",
      "270/270 - 4s - 15ms/step - loss: 0.9752 - val_loss: 0.9489\n",
      "Epoch 9/1000\n",
      "270/270 - 4s - 15ms/step - loss: 0.9665 - val_loss: 0.9410\n",
      "Epoch 10/1000\n",
      "270/270 - 4s - 14ms/step - loss: 0.9591 - val_loss: 0.9323\n",
      "Epoch 11/1000\n",
      "270/270 - 4s - 14ms/step - loss: 0.9507 - val_loss: 0.9225\n",
      "Epoch 12/1000\n",
      "270/270 - 4s - 15ms/step - loss: 0.9406 - val_loss: 0.9116\n",
      "Epoch 13/1000\n",
      "270/270 - 4s - 14ms/step - loss: 0.9305 - val_loss: 0.8997\n",
      "Epoch 14/1000\n",
      "270/270 - 4s - 15ms/step - loss: 0.9199 - val_loss: 0.8865\n",
      "Epoch 15/1000\n",
      "270/270 - 4s - 14ms/step - loss: 0.9059 - val_loss: 0.8720\n",
      "Epoch 16/1000\n",
      "270/270 - 4s - 15ms/step - loss: 0.8911 - val_loss: 0.8561\n",
      "Epoch 17/1000\n",
      "270/270 - 4s - 14ms/step - loss: 0.8778 - val_loss: 0.8394\n",
      "Epoch 18/1000\n",
      "270/270 - 4s - 14ms/step - loss: 0.8600 - val_loss: 0.8205\n",
      "Epoch 19/1000\n",
      "270/270 - 4s - 15ms/step - loss: 0.8419 - val_loss: 0.8010\n",
      "Epoch 20/1000\n",
      "270/270 - 4s - 14ms/step - loss: 0.8209 - val_loss: 0.7792\n",
      "Epoch 21/1000\n",
      "270/270 - 4s - 14ms/step - loss: 0.8001 - val_loss: 0.7564\n",
      "Epoch 22/1000\n",
      "270/270 - 4s - 15ms/step - loss: 0.7783 - val_loss: 0.7320\n",
      "Epoch 23/1000\n",
      "270/270 - 4s - 15ms/step - loss: 0.7584 - val_loss: 0.7074\n",
      "Epoch 24/1000\n",
      "270/270 - 4s - 15ms/step - loss: 0.7313 - val_loss: 0.6801\n",
      "Epoch 25/1000\n",
      "270/270 - 4s - 15ms/step - loss: 0.7078 - val_loss: 0.6538\n",
      "Epoch 26/1000\n",
      "270/270 - 4s - 14ms/step - loss: 0.6811 - val_loss: 0.6249\n",
      "Epoch 27/1000\n",
      "270/270 - 4s - 14ms/step - loss: 0.6567 - val_loss: 0.5971\n",
      "Epoch 28/1000\n",
      "270/270 - 4s - 15ms/step - loss: 0.6332 - val_loss: 0.5698\n",
      "Epoch 29/1000\n",
      "270/270 - 4s - 14ms/step - loss: 0.6114 - val_loss: 0.5437\n",
      "Epoch 30/1000\n",
      "270/270 - 4s - 14ms/step - loss: 0.5894 - val_loss: 0.5190\n",
      "Epoch 31/1000\n",
      "270/270 - 4s - 15ms/step - loss: 0.5605 - val_loss: 0.4980\n",
      "Epoch 32/1000\n",
      "270/270 - 4s - 15ms/step - loss: 0.5422 - val_loss: 0.4733\n",
      "Epoch 33/1000\n",
      "270/270 - 4s - 15ms/step - loss: 0.5199 - val_loss: 0.4515\n",
      "Epoch 34/1000\n",
      "270/270 - 4s - 15ms/step - loss: 0.5058 - val_loss: 0.4329\n",
      "Epoch 35/1000\n",
      "270/270 - 4s - 14ms/step - loss: 0.4910 - val_loss: 0.4166\n",
      "Epoch 36/1000\n",
      "270/270 - 4s - 15ms/step - loss: 0.4761 - val_loss: 0.4016\n",
      "Epoch 37/1000\n",
      "270/270 - 4s - 15ms/step - loss: 0.4624 - val_loss: 0.3884\n",
      "Epoch 38/1000\n",
      "270/270 - 4s - 14ms/step - loss: 0.4493 - val_loss: 0.3766\n",
      "Epoch 39/1000\n",
      "270/270 - 4s - 14ms/step - loss: 0.4396 - val_loss: 0.3672\n",
      "Epoch 40/1000\n",
      "270/270 - 4s - 14ms/step - loss: 0.4319 - val_loss: 0.3573\n",
      "Epoch 41/1000\n",
      "270/270 - 4s - 15ms/step - loss: 0.4222 - val_loss: 0.3485\n",
      "Epoch 42/1000\n",
      "270/270 - 4s - 15ms/step - loss: 0.4154 - val_loss: 0.3419\n",
      "Epoch 43/1000\n",
      "270/270 - 4s - 14ms/step - loss: 0.4074 - val_loss: 0.3361\n",
      "Epoch 44/1000\n",
      "270/270 - 4s - 14ms/step - loss: 0.3996 - val_loss: 0.3279\n",
      "Epoch 45/1000\n",
      "270/270 - 4s - 15ms/step - loss: 0.3888 - val_loss: 0.3237\n",
      "Epoch 46/1000\n",
      "270/270 - 4s - 15ms/step - loss: 0.3897 - val_loss: 0.3176\n",
      "Epoch 47/1000\n",
      "270/270 - 4s - 15ms/step - loss: 0.3781 - val_loss: 0.3132\n",
      "Epoch 48/1000\n",
      "270/270 - 4s - 15ms/step - loss: 0.3776 - val_loss: 0.3084\n",
      "Epoch 49/1000\n",
      "270/270 - 4s - 15ms/step - loss: 0.3739 - val_loss: 0.3049\n",
      "Epoch 50/1000\n",
      "270/270 - 4s - 15ms/step - loss: 0.3632 - val_loss: 0.3002\n",
      "Epoch 51/1000\n",
      "270/270 - 4s - 14ms/step - loss: 0.3638 - val_loss: 0.2999\n",
      "Epoch 52/1000\n",
      "270/270 - 4s - 15ms/step - loss: 0.3616 - val_loss: 0.2960\n",
      "Epoch 53/1000\n",
      "270/270 - 4s - 15ms/step - loss: 0.3592 - val_loss: 0.2913\n",
      "Epoch 54/1000\n",
      "270/270 - 4s - 15ms/step - loss: 0.3503 - val_loss: 0.2875\n",
      "Epoch 55/1000\n",
      "270/270 - 4s - 15ms/step - loss: 0.3509 - val_loss: 0.2846\n",
      "Epoch 56/1000\n",
      "270/270 - 4s - 15ms/step - loss: 0.3469 - val_loss: 0.2824\n",
      "Epoch 57/1000\n",
      "270/270 - 4s - 15ms/step - loss: 0.3456 - val_loss: 0.2796\n",
      "Epoch 58/1000\n",
      "270/270 - 4s - 15ms/step - loss: 0.3361 - val_loss: 0.2766\n",
      "Epoch 59/1000\n",
      "270/270 - 4s - 15ms/step - loss: 0.3401 - val_loss: 0.2755\n",
      "Epoch 60/1000\n",
      "270/270 - 4s - 15ms/step - loss: 0.3303 - val_loss: 0.2729\n",
      "Epoch 61/1000\n",
      "270/270 - 4s - 15ms/step - loss: 0.3274 - val_loss: 0.2693\n",
      "Epoch 62/1000\n",
      "270/270 - 4s - 15ms/step - loss: 0.3257 - val_loss: 0.2680\n",
      "Epoch 63/1000\n",
      "270/270 - 4s - 15ms/step - loss: 0.3224 - val_loss: 0.2654\n",
      "Epoch 64/1000\n",
      "270/270 - 4s - 15ms/step - loss: 0.3225 - val_loss: 0.2652\n",
      "Epoch 65/1000\n",
      "270/270 - 4s - 15ms/step - loss: 0.3157 - val_loss: 0.2608\n",
      "Epoch 66/1000\n",
      "270/270 - 4s - 15ms/step - loss: 0.3151 - val_loss: 0.2591\n",
      "Epoch 67/1000\n",
      "270/270 - 4s - 14ms/step - loss: 0.3129 - val_loss: 0.2571\n",
      "Epoch 68/1000\n",
      "270/270 - 4s - 15ms/step - loss: 0.3108 - val_loss: 0.2570\n",
      "Epoch 69/1000\n",
      "270/270 - 4s - 15ms/step - loss: 0.3089 - val_loss: 0.2539\n",
      "Epoch 70/1000\n",
      "270/270 - 4s - 15ms/step - loss: 0.3059 - val_loss: 0.2522\n",
      "Epoch 71/1000\n",
      "270/270 - 4s - 15ms/step - loss: 0.3036 - val_loss: 0.2500\n",
      "Epoch 72/1000\n",
      "270/270 - 4s - 14ms/step - loss: 0.3062 - val_loss: 0.2483\n",
      "Epoch 73/1000\n",
      "270/270 - 4s - 15ms/step - loss: 0.2963 - val_loss: 0.2473\n",
      "Epoch 74/1000\n",
      "270/270 - 4s - 15ms/step - loss: 0.2940 - val_loss: 0.2474\n",
      "Epoch 75/1000\n",
      "270/270 - 4s - 15ms/step - loss: 0.2904 - val_loss: 0.2449\n",
      "Epoch 76/1000\n",
      "270/270 - 4s - 15ms/step - loss: 0.2904 - val_loss: 0.2472\n",
      "Epoch 77/1000\n",
      "270/270 - 4s - 15ms/step - loss: 0.2883 - val_loss: 0.2425\n",
      "Epoch 78/1000\n",
      "270/270 - 4s - 15ms/step - loss: 0.2838 - val_loss: 0.2402\n",
      "Epoch 79/1000\n",
      "270/270 - 4s - 15ms/step - loss: 0.2875 - val_loss: 0.2391\n",
      "Epoch 80/1000\n",
      "270/270 - 4s - 15ms/step - loss: 0.2809 - val_loss: 0.2375\n",
      "Epoch 81/1000\n",
      "270/270 - 4s - 15ms/step - loss: 0.2844 - val_loss: 0.2365\n",
      "Epoch 82/1000\n",
      "270/270 - 4s - 14ms/step - loss: 0.2782 - val_loss: 0.2359\n",
      "Epoch 83/1000\n",
      "270/270 - 4s - 14ms/step - loss: 0.2834 - val_loss: 0.2374\n",
      "Epoch 84/1000\n",
      "270/270 - 4s - 15ms/step - loss: 0.2773 - val_loss: 0.2331\n",
      "Epoch 85/1000\n",
      "270/270 - 4s - 15ms/step - loss: 0.2770 - val_loss: 0.2327\n",
      "Epoch 86/1000\n",
      "270/270 - 4s - 15ms/step - loss: 0.2748 - val_loss: 0.2311\n",
      "Epoch 87/1000\n",
      "270/270 - 4s - 14ms/step - loss: 0.2742 - val_loss: 0.2304\n",
      "Epoch 88/1000\n",
      "270/270 - 4s - 15ms/step - loss: 0.2698 - val_loss: 0.2292\n",
      "Epoch 89/1000\n",
      "270/270 - 4s - 14ms/step - loss: 0.2683 - val_loss: 0.2281\n",
      "Epoch 90/1000\n",
      "270/270 - 4s - 15ms/step - loss: 0.2647 - val_loss: 0.2276\n",
      "Epoch 91/1000\n",
      "270/270 - 4s - 14ms/step - loss: 0.2652 - val_loss: 0.2265\n",
      "Epoch 92/1000\n",
      "270/270 - 4s - 14ms/step - loss: 0.2643 - val_loss: 0.2263\n",
      "Epoch 93/1000\n",
      "270/270 - 4s - 14ms/step - loss: 0.2641 - val_loss: 0.2256\n",
      "Epoch 94/1000\n",
      "270/270 - 4s - 15ms/step - loss: 0.2648 - val_loss: 0.2245\n",
      "Epoch 95/1000\n",
      "270/270 - 4s - 14ms/step - loss: 0.2589 - val_loss: 0.2243\n",
      "Epoch 96/1000\n",
      "270/270 - 4s - 15ms/step - loss: 0.2610 - val_loss: 0.2233\n",
      "Epoch 97/1000\n",
      "270/270 - 4s - 15ms/step - loss: 0.2589 - val_loss: 0.2225\n",
      "Epoch 98/1000\n",
      "270/270 - 5s - 19ms/step - loss: 0.2549 - val_loss: 0.2218\n",
      "Epoch 99/1000\n",
      "270/270 - 6s - 21ms/step - loss: 0.2523 - val_loss: 0.2209\n",
      "Epoch 100/1000\n",
      "270/270 - 5s - 18ms/step - loss: 0.2546 - val_loss: 0.2203\n",
      "Epoch 101/1000\n",
      "270/270 - 5s - 18ms/step - loss: 0.2514 - val_loss: 0.2200\n",
      "Epoch 102/1000\n",
      "270/270 - 5s - 18ms/step - loss: 0.2548 - val_loss: 0.2195\n",
      "Epoch 103/1000\n",
      "270/270 - 4s - 16ms/step - loss: 0.2510 - val_loss: 0.2188\n",
      "Epoch 104/1000\n",
      "270/270 - 4s - 15ms/step - loss: 0.2490 - val_loss: 0.2203\n",
      "Epoch 105/1000\n",
      "270/270 - 4s - 15ms/step - loss: 0.2475 - val_loss: 0.2181\n",
      "Epoch 106/1000\n",
      "270/270 - 4s - 15ms/step - loss: 0.2454 - val_loss: 0.2168\n",
      "Epoch 107/1000\n",
      "270/270 - 4s - 15ms/step - loss: 0.2444 - val_loss: 0.2169\n",
      "Epoch 108/1000\n",
      "270/270 - 4s - 15ms/step - loss: 0.2455 - val_loss: 0.2166\n",
      "Epoch 109/1000\n",
      "270/270 - 4s - 15ms/step - loss: 0.2441 - val_loss: 0.2155\n",
      "Epoch 110/1000\n",
      "270/270 - 4s - 15ms/step - loss: 0.2392 - val_loss: 0.2190\n",
      "Epoch 111/1000\n",
      "270/270 - 4s - 15ms/step - loss: 0.2416 - val_loss: 0.2142\n",
      "Epoch 112/1000\n",
      "270/270 - 4s - 15ms/step - loss: 0.2409 - val_loss: 0.2141\n",
      "Epoch 113/1000\n",
      "270/270 - 4s - 15ms/step - loss: 0.2411 - val_loss: 0.2134\n",
      "Epoch 114/1000\n",
      "270/270 - 4s - 15ms/step - loss: 0.2355 - val_loss: 0.2128\n",
      "Epoch 115/1000\n",
      "270/270 - 4s - 15ms/step - loss: 0.2412 - val_loss: 0.2125\n",
      "Epoch 116/1000\n",
      "270/270 - 4s - 15ms/step - loss: 0.2355 - val_loss: 0.2125\n",
      "Epoch 117/1000\n",
      "270/270 - 4s - 15ms/step - loss: 0.2345 - val_loss: 0.2119\n",
      "Epoch 118/1000\n",
      "270/270 - 4s - 15ms/step - loss: 0.2357 - val_loss: 0.2131\n",
      "Epoch 119/1000\n",
      "270/270 - 4s - 15ms/step - loss: 0.2350 - val_loss: 0.2114\n",
      "Epoch 120/1000\n",
      "270/270 - 4s - 15ms/step - loss: 0.2315 - val_loss: 0.2105\n",
      "Epoch 121/1000\n",
      "270/270 - 4s - 15ms/step - loss: 0.2301 - val_loss: 0.2113\n",
      "Epoch 122/1000\n",
      "270/270 - 4s - 15ms/step - loss: 0.2307 - val_loss: 0.2100\n",
      "Epoch 123/1000\n",
      "270/270 - 4s - 15ms/step - loss: 0.2290 - val_loss: 0.2109\n",
      "Epoch 124/1000\n",
      "270/270 - 4s - 15ms/step - loss: 0.2273 - val_loss: 0.2108\n",
      "Epoch 125/1000\n",
      "270/270 - 4s - 15ms/step - loss: 0.2274 - val_loss: 0.2109\n",
      "Epoch 126/1000\n",
      "270/270 - 4s - 15ms/step - loss: 0.2232 - val_loss: 0.2087\n",
      "Epoch 127/1000\n",
      "270/270 - 4s - 15ms/step - loss: 0.2246 - val_loss: 0.2117\n",
      "Epoch 128/1000\n",
      "270/270 - 4s - 15ms/step - loss: 0.2262 - val_loss: 0.2080\n",
      "Epoch 129/1000\n",
      "270/270 - 4s - 15ms/step - loss: 0.2263 - val_loss: 0.2083\n",
      "Epoch 130/1000\n",
      "270/270 - 4s - 15ms/step - loss: 0.2231 - val_loss: 0.2089\n",
      "Epoch 131/1000\n",
      "270/270 - 4s - 15ms/step - loss: 0.2236 - val_loss: 0.2080\n",
      "Epoch 132/1000\n",
      "270/270 - 4s - 15ms/step - loss: 0.2219 - val_loss: 0.2070\n",
      "Epoch 133/1000\n",
      "270/270 - 4s - 15ms/step - loss: 0.2192 - val_loss: 0.2086\n",
      "Epoch 134/1000\n",
      "270/270 - 4s - 15ms/step - loss: 0.2207 - val_loss: 0.2066\n",
      "Epoch 135/1000\n",
      "270/270 - 4s - 15ms/step - loss: 0.2177 - val_loss: 0.2064\n",
      "Epoch 136/1000\n",
      "270/270 - 4s - 15ms/step - loss: 0.2180 - val_loss: 0.2070\n",
      "Epoch 137/1000\n",
      "270/270 - 4s - 15ms/step - loss: 0.2140 - val_loss: 0.2062\n",
      "Epoch 138/1000\n",
      "270/270 - 4s - 15ms/step - loss: 0.2205 - val_loss: 0.2054\n",
      "Epoch 139/1000\n",
      "270/270 - 4s - 15ms/step - loss: 0.2155 - val_loss: 0.2051\n",
      "Epoch 140/1000\n",
      "270/270 - 4s - 15ms/step - loss: 0.2152 - val_loss: 0.2055\n",
      "Epoch 141/1000\n",
      "270/270 - 4s - 15ms/step - loss: 0.2131 - val_loss: 0.2049\n",
      "Epoch 142/1000\n",
      "270/270 - 4s - 15ms/step - loss: 0.2086 - val_loss: 0.2045\n",
      "Epoch 143/1000\n",
      "270/270 - 4s - 15ms/step - loss: 0.2109 - val_loss: 0.2044\n",
      "Epoch 144/1000\n",
      "270/270 - 4s - 15ms/step - loss: 0.2109 - val_loss: 0.2051\n",
      "Epoch 145/1000\n",
      "270/270 - 4s - 15ms/step - loss: 0.2119 - val_loss: 0.2038\n",
      "Epoch 146/1000\n",
      "270/270 - 4s - 15ms/step - loss: 0.2125 - val_loss: 0.2038\n",
      "Epoch 147/1000\n",
      "270/270 - 4s - 15ms/step - loss: 0.2101 - val_loss: 0.2040\n",
      "Epoch 148/1000\n",
      "270/270 - 4s - 15ms/step - loss: 0.2083 - val_loss: 0.2032\n",
      "Epoch 149/1000\n",
      "270/270 - 4s - 15ms/step - loss: 0.2090 - val_loss: 0.2037\n",
      "Epoch 150/1000\n",
      "270/270 - 4s - 15ms/step - loss: 0.2084 - val_loss: 0.2029\n",
      "Epoch 151/1000\n",
      "270/270 - 4s - 15ms/step - loss: 0.2045 - val_loss: 0.2028\n",
      "Epoch 152/1000\n",
      "270/270 - 4s - 15ms/step - loss: 0.2059 - val_loss: 0.2027\n",
      "Epoch 153/1000\n",
      "270/270 - 4s - 15ms/step - loss: 0.2017 - val_loss: 0.2034\n",
      "Epoch 154/1000\n",
      "270/270 - 4s - 15ms/step - loss: 0.2055 - val_loss: 0.2025\n",
      "Epoch 155/1000\n",
      "270/270 - 4s - 15ms/step - loss: 0.2040 - val_loss: 0.2023\n",
      "Epoch 156/1000\n",
      "270/270 - 4s - 15ms/step - loss: 0.2061 - val_loss: 0.2022\n",
      "Epoch 157/1000\n",
      "270/270 - 4s - 15ms/step - loss: 0.2017 - val_loss: 0.2017\n",
      "Epoch 158/1000\n",
      "270/270 - 4s - 15ms/step - loss: 0.2025 - val_loss: 0.2018\n",
      "Epoch 159/1000\n",
      "270/270 - 4s - 15ms/step - loss: 0.2010 - val_loss: 0.2015\n",
      "Epoch 160/1000\n",
      "270/270 - 4s - 15ms/step - loss: 0.2019 - val_loss: 0.2019\n",
      "Epoch 161/1000\n",
      "270/270 - 4s - 15ms/step - loss: 0.1964 - val_loss: 0.2011\n",
      "Epoch 162/1000\n",
      "270/270 - 4s - 15ms/step - loss: 0.2004 - val_loss: 0.2023\n",
      "Epoch 163/1000\n",
      "270/270 - 4s - 15ms/step - loss: 0.2025 - val_loss: 0.2010\n",
      "Epoch 164/1000\n",
      "270/270 - 4s - 15ms/step - loss: 0.2015 - val_loss: 0.2012\n",
      "Epoch 165/1000\n",
      "270/270 - 4s - 15ms/step - loss: 0.1963 - val_loss: 0.2012\n",
      "Epoch 166/1000\n",
      "270/270 - 4s - 15ms/step - loss: 0.1919 - val_loss: 0.2021\n",
      "Epoch 167/1000\n",
      "270/270 - 4s - 15ms/step - loss: 0.1944 - val_loss: 0.2003\n",
      "Epoch 168/1000\n",
      "270/270 - 4s - 15ms/step - loss: 0.1989 - val_loss: 0.2008\n",
      "Epoch 169/1000\n",
      "270/270 - 4s - 15ms/step - loss: 0.1915 - val_loss: 0.2004\n",
      "Epoch 170/1000\n",
      "270/270 - 4s - 15ms/step - loss: 0.1940 - val_loss: 0.1998\n",
      "Epoch 171/1000\n",
      "270/270 - 4s - 15ms/step - loss: 0.1923 - val_loss: 0.2007\n",
      "Epoch 172/1000\n",
      "270/270 - 4s - 15ms/step - loss: 0.1920 - val_loss: 0.2011\n",
      "Epoch 173/1000\n",
      "270/270 - 4s - 15ms/step - loss: 0.1938 - val_loss: 0.2005\n",
      "Epoch 174/1000\n",
      "270/270 - 4s - 15ms/step - loss: 0.1934 - val_loss: 0.1994\n",
      "Epoch 175/1000\n",
      "270/270 - 4s - 15ms/step - loss: 0.1966 - val_loss: 0.1999\n",
      "Epoch 176/1000\n",
      "270/270 - 4s - 15ms/step - loss: 0.1902 - val_loss: 0.1994\n",
      "Epoch 177/1000\n",
      "270/270 - 4s - 15ms/step - loss: 0.1893 - val_loss: 0.2002\n",
      "Epoch 178/1000\n",
      "270/270 - 4s - 15ms/step - loss: 0.1922 - val_loss: 0.1992\n",
      "Epoch 179/1000\n",
      "270/270 - 4s - 15ms/step - loss: 0.1885 - val_loss: 0.2002\n",
      "Epoch 180/1000\n",
      "270/270 - 4s - 15ms/step - loss: 0.1864 - val_loss: 0.2003\n",
      "Epoch 181/1000\n",
      "270/270 - 4s - 15ms/step - loss: 0.1875 - val_loss: 0.1989\n",
      "Epoch 182/1000\n",
      "270/270 - 4s - 15ms/step - loss: 0.1872 - val_loss: 0.1990\n",
      "Epoch 183/1000\n",
      "270/270 - 4s - 15ms/step - loss: 0.1893 - val_loss: 0.1984\n",
      "Epoch 184/1000\n",
      "270/270 - 4s - 15ms/step - loss: 0.1815 - val_loss: 0.1986\n",
      "Epoch 185/1000\n",
      "270/270 - 4s - 15ms/step - loss: 0.1849 - val_loss: 0.1983\n",
      "Epoch 186/1000\n",
      "270/270 - 4s - 15ms/step - loss: 0.1836 - val_loss: 0.1986\n",
      "Epoch 187/1000\n",
      "270/270 - 4s - 15ms/step - loss: 0.1832 - val_loss: 0.1984\n",
      "Epoch 188/1000\n",
      "270/270 - 4s - 15ms/step - loss: 0.1809 - val_loss: 0.1979\n",
      "Epoch 189/1000\n",
      "270/270 - 4s - 15ms/step - loss: 0.1821 - val_loss: 0.1978\n",
      "Epoch 190/1000\n",
      "270/270 - 4s - 15ms/step - loss: 0.1804 - val_loss: 0.1985\n",
      "Epoch 191/1000\n",
      "270/270 - 4s - 15ms/step - loss: 0.1762 - val_loss: 0.1976\n",
      "Epoch 192/1000\n",
      "270/270 - 4s - 15ms/step - loss: 0.1806 - val_loss: 0.1981\n",
      "Epoch 193/1000\n",
      "270/270 - 4s - 15ms/step - loss: 0.1799 - val_loss: 0.1978\n",
      "Epoch 194/1000\n",
      "270/270 - 4s - 15ms/step - loss: 0.1778 - val_loss: 0.1974\n",
      "Epoch 195/1000\n",
      "270/270 - 4s - 15ms/step - loss: 0.1801 - val_loss: 0.1977\n",
      "Epoch 196/1000\n",
      "270/270 - 4s - 15ms/step - loss: 0.1778 - val_loss: 0.2003\n",
      "Epoch 197/1000\n",
      "270/270 - 4s - 15ms/step - loss: 0.1786 - val_loss: 0.1974\n",
      "Epoch 198/1000\n",
      "270/270 - 4s - 15ms/step - loss: 0.1761 - val_loss: 0.1978\n",
      "Epoch 199/1000\n",
      "270/270 - 4s - 15ms/step - loss: 0.1762 - val_loss: 0.1981\n",
      "Epoch 200/1000\n",
      "270/270 - 4s - 15ms/step - loss: 0.1755 - val_loss: 0.1971\n",
      "Epoch 201/1000\n",
      "270/270 - 4s - 15ms/step - loss: 0.1758 - val_loss: 0.1972\n",
      "Epoch 202/1000\n",
      "270/270 - 4s - 15ms/step - loss: 0.1736 - val_loss: 0.1970\n",
      "Epoch 203/1000\n",
      "270/270 - 4s - 15ms/step - loss: 0.1738 - val_loss: 0.1968\n",
      "Epoch 204/1000\n",
      "270/270 - 4s - 15ms/step - loss: 0.1729 - val_loss: 0.2003\n",
      "Epoch 205/1000\n",
      "270/270 - 4s - 15ms/step - loss: 0.1761 - val_loss: 0.1966\n",
      "Epoch 206/1000\n",
      "270/270 - 4s - 15ms/step - loss: 0.1724 - val_loss: 0.1995\n",
      "Epoch 207/1000\n",
      "270/270 - 4s - 15ms/step - loss: 0.1708 - val_loss: 0.2000\n",
      "Epoch 208/1000\n",
      "270/270 - 4s - 15ms/step - loss: 0.1732 - val_loss: 0.1980\n",
      "Epoch 209/1000\n",
      "270/270 - 4s - 15ms/step - loss: 0.1713 - val_loss: 0.1967\n",
      "Epoch 210/1000\n",
      "270/270 - 4s - 15ms/step - loss: 0.1684 - val_loss: 0.1966\n",
      "Epoch 211/1000\n",
      "270/270 - 4s - 15ms/step - loss: 0.1708 - val_loss: 0.1967\n",
      "Epoch 212/1000\n",
      "270/270 - 4s - 15ms/step - loss: 0.1721 - val_loss: 0.1971\n",
      "Epoch 213/1000\n",
      "270/270 - 4s - 15ms/step - loss: 0.1709 - val_loss: 0.1971\n",
      "Epoch 214/1000\n",
      "270/270 - 4s - 15ms/step - loss: 0.1706 - val_loss: 0.1968\n",
      "Epoch 215/1000\n",
      "270/270 - 4s - 15ms/step - loss: 0.1648 - val_loss: 0.1964\n",
      "Epoch 216/1000\n",
      "270/270 - 4s - 15ms/step - loss: 0.1704 - val_loss: 0.1964\n",
      "Epoch 217/1000\n",
      "270/270 - 4s - 15ms/step - loss: 0.1643 - val_loss: 0.1963\n",
      "Epoch 218/1000\n",
      "270/270 - 4s - 15ms/step - loss: 0.1704 - val_loss: 0.1972\n",
      "Epoch 219/1000\n",
      "270/270 - 4s - 15ms/step - loss: 0.1680 - val_loss: 0.1960\n",
      "Epoch 220/1000\n",
      "270/270 - 4s - 15ms/step - loss: 0.1667 - val_loss: 0.1967\n",
      "Epoch 221/1000\n",
      "270/270 - 4s - 15ms/step - loss: 0.1668 - val_loss: 0.1962\n",
      "Epoch 222/1000\n",
      "270/270 - 4s - 15ms/step - loss: 0.1615 - val_loss: 0.1962\n",
      "Epoch 223/1000\n",
      "270/270 - 4s - 15ms/step - loss: 0.1637 - val_loss: 0.1962\n",
      "Epoch 224/1000\n",
      "270/270 - 4s - 15ms/step - loss: 0.1647 - val_loss: 0.1959\n",
      "Epoch 225/1000\n",
      "270/270 - 4s - 15ms/step - loss: 0.1624 - val_loss: 0.1959\n",
      "Epoch 226/1000\n",
      "270/270 - 4s - 15ms/step - loss: 0.1625 - val_loss: 0.1959\n",
      "Epoch 227/1000\n",
      "270/270 - 5s - 18ms/step - loss: 0.1615 - val_loss: 0.1961\n",
      "Epoch 228/1000\n",
      "270/270 - 4s - 16ms/step - loss: 0.1618 - val_loss: 0.1961\n",
      "Epoch 229/1000\n",
      "270/270 - 4s - 15ms/step - loss: 0.1630 - val_loss: 0.1960\n",
      "Epoch 230/1000\n",
      "270/270 - 4s - 15ms/step - loss: 0.1635 - val_loss: 0.1982\n",
      "Epoch 230: early stopping\n",
      "\u001b[1m68/68\u001b[0m \u001b[32m━━━━━━━━━━━━━━━━━━━━\u001b[0m\u001b[37m\u001b[0m \u001b[1m1s\u001b[0m 7ms/step\n",
      "RMSE Score: 0.4451723171523866\n"
     ]
    }
   ],
   "source": [
    "model = Sequential()\n",
    "\n",
    "model.add(Dense(500, input_dim=x.shape[1], activation='relu'))\n",
    "model.add(Dropout(0.5))\n",
    "model.add(Dense(125, activation='relu'))\n",
    "model.add(Dropout(0.3))\n",
    "model.add(Dense(1))\n",
    "\n",
    "sgd_modified = optimizers.SGD(learning_rate=0.001)\n",
    "\n",
    "model.compile(loss='mean_squared_error', optimizer=sgd_modified)\n",
    "\n",
    "# Early exit\n",
    "monitor = EarlyStopping(monitor='val_loss', min_delta=0, patience=5, verbose=1, mode='auto')\n",
    "model.fit(x_train, y_train, validation_data=(x_test,y_test), callbacks=[monitor], verbose=2, epochs=1000)\n",
    "\n",
    "print_rsme(model, x_test, y_test)"
   ]
  },
  {
   "cell_type": "code",
   "execution_count": 23,
   "id": "50edf5ea",
   "metadata": {},
   "outputs": [],
   "source": [
    "model.save('model_sgd_dropout_044.keras')"
   ]
  },
  {
   "cell_type": "markdown",
   "id": "6010aac5",
   "metadata": {},
   "source": [
    "## Evaluation"
   ]
  },
  {
   "cell_type": "code",
   "execution_count": 24,
   "id": "fa3f1696",
   "metadata": {},
   "outputs": [
    {
     "data": {
      "image/png": "[encoded data removed]",
      "text/plain": [
       "<Figure size 640x480 with 1 Axes>"
      ]
     },
     "metadata": {},
     "output_type": "display_data"
    }
   ],
   "source": [
    "chart_regression(None, y_test, sort=True)"
   ]
  },
  {
   "cell_type": "code",
   "execution_count": 25,
   "id": "2cb10cfb",
   "metadata": {},
   "outputs": [
    {
     "name": "stdout",
     "output_type": "stream",
     "text": [
      "\u001b[1m270/270\u001b[0m \u001b[32m━━━━━━━━━━━━━━━━━━━━\u001b[0m\u001b[37m\u001b[0m \u001b[1m2s\u001b[0m 6ms/step\n"
     ]
    },
    {
     "data": {
      "image/png": "[encoded data removed]",
      "text/plain": [
       "<Figure size 640x480 with 1 Axes>"
      ]
     },
     "metadata": {},
     "output_type": "display_data"
    }
   ],
   "source": [
    "train_pred = model.predict(x_train)\n",
    "chart_regression(train_pred.flatten(), y_train, sort=True)"
   ]
  },
  {
   "cell_type": "code",
   "execution_count": 26,
   "id": "7bce31e0",
   "metadata": {},
   "outputs": [
    {
     "name": "stdout",
     "output_type": "stream",
     "text": [
      "\u001b[1m68/68\u001b[0m \u001b[32m━━━━━━━━━━━━━━━━━━━━\u001b[0m\u001b[37m\u001b[0m \u001b[1m0s\u001b[0m 6ms/step\n"
     ]
    },
    {
     "data": {
      "image/png": "[encoded data removed]",
      "text/plain": [
       "<Figure size 640x480 with 1 Axes>"
      ]
     },
     "metadata": {},
     "output_type": "display_data"
    }
   ],
   "source": [
    "pred = model.predict(x_test)\n",
    "chart_regression(pred.flatten(), y_test, sort=True)"
   ]
  },
  {
   "cell_type": "markdown",
   "id": "146c9f4d",
   "metadata": {},
   "source": [
    "## Predictions of 5 Businesses\n",
    "Try the best (TFIDF only) model on 5 businesses"
   ]
  },
  {
   "cell_type": "code",
   "execution_count": 27,
   "id": "807c9f8c",
   "metadata": {},
   "outputs": [
    {
     "name": "stdout",
     "output_type": "stream",
     "text": [
      "(5, 4)\n"
     ]
    },
    {
     "data": {
      "text/html": [
       "<div>\n",
       "<style scoped>\n",
       "    .dataframe tbody tr th:only-of-type {\n",
       "        vertical-align: middle;\n",
       "    }\n",
       "\n",
       "    .dataframe tbody tr th {\n",
       "        vertical-align: top;\n",
       "    }\n",
       "\n",
       "    .dataframe thead th {\n",
       "        text-align: right;\n",
       "    }\n",
       "</style>\n",
       "<table border=\"1\" class=\"dataframe\">\n",
       "  <thead>\n",
       "    <tr style=\"text-align: right;\">\n",
       "      <th></th>\n",
       "      <th>business_id</th>\n",
       "      <th>all_reviews</th>\n",
       "      <th>stars</th>\n",
       "      <th>name</th>\n",
       "    </tr>\n",
       "  </thead>\n",
       "  <tbody>\n",
       "    <tr>\n",
       "      <th>0</th>\n",
       "      <td>--ZVrH2X2QXBFdCilbirsw</td>\n",
       "      <td>This place is sadly perm closed. I was hoping ...</td>\n",
       "      <td>1.055696</td>\n",
       "      <td>Chris's Sandwich Shop</td>\n",
       "    </tr>\n",
       "    <tr>\n",
       "      <th>1</th>\n",
       "      <td>-02xFuruu85XmDn2xiynJw</td>\n",
       "      <td>Dr. Curtis Dechant has an excellent chair-side...</td>\n",
       "      <td>1.055696</td>\n",
       "      <td>Family Vision Center</td>\n",
       "    </tr>\n",
       "    <tr>\n",
       "      <th>2</th>\n",
       "      <td>-06OYKiIzxsdymBMDAKZug</td>\n",
       "      <td>Had catalytic converters replaced on our Subur...</td>\n",
       "      <td>1.055696</td>\n",
       "      <td>Washoe Metal Fabricating</td>\n",
       "    </tr>\n",
       "    <tr>\n",
       "      <th>3</th>\n",
       "      <td>-06ngMH_Ejkm_6HQBYxB7g</td>\n",
       "      <td>I have an old main line that really should be ...</td>\n",
       "      <td>0.442790</td>\n",
       "      <td>Stewart's De Rooting &amp; Plumbing</td>\n",
       "    </tr>\n",
       "    <tr>\n",
       "      <th>4</th>\n",
       "      <td>-0E7laYjwZxEAQPhFJXxow</td>\n",
       "      <td>I recently visited this dealership because the...</td>\n",
       "      <td>-0.170116</td>\n",
       "      <td>AutoNation Cadillac Port Richey</td>\n",
       "    </tr>\n",
       "  </tbody>\n",
       "</table>\n",
       "</div>"
      ],
      "text/plain": [
       "              business_id                                        all_reviews  \\\n",
       "0  --ZVrH2X2QXBFdCilbirsw  This place is sadly perm closed. I was hoping ...   \n",
       "1  -02xFuruu85XmDn2xiynJw  Dr. Curtis Dechant has an excellent chair-side...   \n",
       "2  -06OYKiIzxsdymBMDAKZug  Had catalytic converters replaced on our Subur...   \n",
       "3  -06ngMH_Ejkm_6HQBYxB7g  I have an old main line that really should be ...   \n",
       "4  -0E7laYjwZxEAQPhFJXxow  I recently visited this dealership because the...   \n",
       "\n",
       "      stars                             name  \n",
       "0  1.055696            Chris's Sandwich Shop  \n",
       "1  1.055696             Family Vision Center  \n",
       "2  1.055696         Washoe Metal Fabricating  \n",
       "3  0.442790  Stewart's De Rooting & Plumbing  \n",
       "4 -0.170116  AutoNation Cadillac Port Richey  "
      ]
     },
     "execution_count": 27,
     "metadata": {},
     "output_type": "execute_result"
    }
   ],
   "source": [
    "df_5 = df_grouped.merge(business_filtered[['name', 'business_id']], on='business_id', how='inner')\n",
    "df_5['stars'] = zscore(df_grouped['stars'])\n",
    "\n",
    "df_5 = df_5[:5]\n",
    "\n",
    "print(df_5.shape)\n",
    "df_5"
   ]
  },
  {
   "cell_type": "code",
   "execution_count": 28,
   "id": "f9a790e1",
   "metadata": {},
   "outputs": [
    {
     "data": {
      "text/plain": [
       "<Compressed Sparse Row sparse matrix of dtype 'float64'\n",
       "\twith 2688 stored elements and shape (5, 10000)>"
      ]
     },
     "execution_count": 28,
     "metadata": {},
     "output_type": "execute_result"
    }
   ],
   "source": [
    "# NOT FIT TRANSFROM, just transform, we fitted already during prev. TFIDF\n",
    "\n",
    "x_5 = vectorizer.transform(df_5['all_reviews'])\n",
    "y_5 = df_5[['stars']].to_numpy()\n",
    "\n",
    "x_5"
   ]
  },
  {
   "cell_type": "code",
   "execution_count": 29,
   "id": "3d23343a",
   "metadata": {},
   "outputs": [
    {
     "name": "stdout",
     "output_type": "stream",
     "text": [
      "(5, 10000)\n",
      "(2154, 10000)\n",
      "\u001b[1m1/1\u001b[0m \u001b[32m━━━━━━━━━━━━━━━━━━━━\u001b[0m\u001b[37m\u001b[0m \u001b[1m0s\u001b[0m 96ms/step\n"
     ]
    },
    {
     "data": {
      "text/plain": [
       "array([[ 1.0229434 ],\n",
       "       [ 1.125744  ],\n",
       "       [ 0.9006074 ],\n",
       "       [ 0.07913205],\n",
       "       [-0.5493689 ]], dtype=float32)"
      ]
     },
     "execution_count": 29,
     "metadata": {},
     "output_type": "execute_result"
    }
   ],
   "source": [
    "print(x_5.shape)\n",
    "print(x_test.shape)\n",
    "\n",
    "pred = model.predict(x_5)\n",
    "pred"
   ]
  },
  {
   "cell_type": "code",
   "execution_count": 30,
   "id": "4f0b1ba1",
   "metadata": {},
   "outputs": [
    {
     "name": "stdout",
     "output_type": "stream",
     "text": [
      "0    1.055696\n",
      "1    1.055696\n",
      "2    1.055696\n",
      "3    0.442790\n",
      "4   -0.170116\n",
      "Name: stars, dtype: float64\n",
      "[[ 1.0229434 ]\n",
      " [ 1.125744  ]\n",
      " [ 0.9006074 ]\n",
      " [ 0.07913205]\n",
      " [-0.5493689 ]]\n"
     ]
    }
   ],
   "source": [
    "print(df_5['stars'])\n",
    "print(pred)"
   ]
  },
  {
   "cell_type": "markdown",
   "id": "c589ae4f",
   "metadata": {},
   "source": [
    "## Extra Feature - is_open\n",
    "Can the business being open or not help with our score prediction?"
   ]
  },
  {
   "cell_type": "code",
   "execution_count": 39,
   "id": "1ef6a108",
   "metadata": {},
   "outputs": [
    {
     "name": "stdout",
     "output_type": "stream",
     "text": [
      "(10769, 4)\n"
     ]
    },
    {
     "data": {
      "text/html": [
       "<div>\n",
       "<style scoped>\n",
       "    .dataframe tbody tr th:only-of-type {\n",
       "        vertical-align: middle;\n",
       "    }\n",
       "\n",
       "    .dataframe tbody tr th {\n",
       "        vertical-align: top;\n",
       "    }\n",
       "\n",
       "    .dataframe thead th {\n",
       "        text-align: right;\n",
       "    }\n",
       "</style>\n",
       "<table border=\"1\" class=\"dataframe\">\n",
       "  <thead>\n",
       "    <tr style=\"text-align: right;\">\n",
       "      <th></th>\n",
       "      <th>business_id</th>\n",
       "      <th>all_reviews</th>\n",
       "      <th>stars</th>\n",
       "      <th>is_open</th>\n",
       "    </tr>\n",
       "  </thead>\n",
       "  <tbody>\n",
       "    <tr>\n",
       "      <th>0</th>\n",
       "      <td>--ZVrH2X2QXBFdCilbirsw</td>\n",
       "      <td>This place is sadly perm closed. I was hoping ...</td>\n",
       "      <td>1.055696</td>\n",
       "      <td>0</td>\n",
       "    </tr>\n",
       "    <tr>\n",
       "      <th>1</th>\n",
       "      <td>-02xFuruu85XmDn2xiynJw</td>\n",
       "      <td>Dr. Curtis Dechant has an excellent chair-side...</td>\n",
       "      <td>1.055696</td>\n",
       "      <td>1</td>\n",
       "    </tr>\n",
       "    <tr>\n",
       "      <th>2</th>\n",
       "      <td>-06OYKiIzxsdymBMDAKZug</td>\n",
       "      <td>Had catalytic converters replaced on our Subur...</td>\n",
       "      <td>1.055696</td>\n",
       "      <td>1</td>\n",
       "    </tr>\n",
       "    <tr>\n",
       "      <th>3</th>\n",
       "      <td>-06ngMH_Ejkm_6HQBYxB7g</td>\n",
       "      <td>I have an old main line that really should be ...</td>\n",
       "      <td>0.442790</td>\n",
       "      <td>1</td>\n",
       "    </tr>\n",
       "    <tr>\n",
       "      <th>4</th>\n",
       "      <td>-0E7laYjwZxEAQPhFJXxow</td>\n",
       "      <td>I recently visited this dealership because the...</td>\n",
       "      <td>-0.170116</td>\n",
       "      <td>1</td>\n",
       "    </tr>\n",
       "  </tbody>\n",
       "</table>\n",
       "</div>"
      ],
      "text/plain": [
       "              business_id                                        all_reviews  \\\n",
       "0  --ZVrH2X2QXBFdCilbirsw  This place is sadly perm closed. I was hoping ...   \n",
       "1  -02xFuruu85XmDn2xiynJw  Dr. Curtis Dechant has an excellent chair-side...   \n",
       "2  -06OYKiIzxsdymBMDAKZug  Had catalytic converters replaced on our Subur...   \n",
       "3  -06ngMH_Ejkm_6HQBYxB7g  I have an old main line that really should be ...   \n",
       "4  -0E7laYjwZxEAQPhFJXxow  I recently visited this dealership because the...   \n",
       "\n",
       "      stars  is_open  \n",
       "0  1.055696        0  \n",
       "1  1.055696        1  \n",
       "2  1.055696        1  \n",
       "3  0.442790        1  \n",
       "4 -0.170116        1  "
      ]
     },
     "execution_count": 39,
     "metadata": {},
     "output_type": "execute_result"
    }
   ],
   "source": [
    "df_extra = df_grouped.merge(business_filtered[['business_id', 'is_open']], on='business_id', how='inner')\n",
    "df_extra['stars'] = zscore(df_grouped['stars'])\n",
    "\n",
    "print(df_extra.shape)\n",
    "df_extra.head()"
   ]
  },
  {
   "cell_type": "code",
   "execution_count": 40,
   "id": "4cdb85a5",
   "metadata": {},
   "outputs": [
    {
     "name": "stdout",
     "output_type": "stream",
     "text": [
      "(10769, 2000)\n"
     ]
    }
   ],
   "source": [
    "vectorizer = sk_text.TfidfVectorizer(stop_words='english', max_features=2000, min_df=1)\n",
    "\n",
    "x = vectorizer.fit_transform(df_extra['all_reviews'])\n",
    "print(x.shape)"
   ]
  },
  {
   "cell_type": "code",
   "execution_count": 41,
   "id": "db69cd47",
   "metadata": {},
   "outputs": [
    {
     "name": "stdout",
     "output_type": "stream",
     "text": [
      "(10769, 1)\n",
      "(10769, 2001)\n"
     ]
    }
   ],
   "source": [
    "x_is_open = df_extra[['is_open']].to_numpy()\n",
    "x = x.toarray()\n",
    "print(x_is_open.shape)\n",
    "\n",
    "x = np.hstack([x, x_is_open])\n",
    "\n",
    "print(x.shape)  \n",
    "\n",
    "y = df_grouped[['stars']].to_numpy()"
   ]
  },
  {
   "cell_type": "code",
   "execution_count": 42,
   "id": "15cea7c5",
   "metadata": {},
   "outputs": [],
   "source": [
    "x_train, x_test, y_train, y_test = train_test_split(x, y, test_size=0.2, random_state=42)"
   ]
  },
  {
   "cell_type": "code",
   "execution_count": 43,
   "id": "92f0cf68",
   "metadata": {},
   "outputs": [
    {
     "name": "stdout",
     "output_type": "stream",
     "text": [
      "Epoch 1/1000\n"
     ]
    },
    {
     "name": "stderr",
     "output_type": "stream",
     "text": [
      "c:\\Users\\rahgu\\anaconda3\\Lib\\site-packages\\keras\\src\\layers\\core\\dense.py:92: UserWarning: Do not pass an `input_shape`/`input_dim` argument to a layer. When using Sequential models, prefer using an `Input(shape)` object as the first layer in the model instead.\n",
      "  super().__init__(activity_regularizer=activity_regularizer, **kwargs)\n"
     ]
    },
    {
     "name": "stdout",
     "output_type": "stream",
     "text": [
      "270/270 - 4s - 14ms/step - loss: 0.3707 - val_loss: 0.2083\n",
      "Epoch 2/1000\n",
      "270/270 - 3s - 9ms/step - loss: 0.2266 - val_loss: 0.2096\n",
      "Epoch 3/1000\n",
      "270/270 - 3s - 9ms/step - loss: 0.1825 - val_loss: 0.2087\n",
      "Epoch 4/1000\n",
      "270/270 - 3s - 9ms/step - loss: 0.1534 - val_loss: 0.2080\n",
      "Epoch 5/1000\n",
      "270/270 - 3s - 9ms/step - loss: 0.1288 - val_loss: 0.2149\n",
      "Epoch 6/1000\n",
      "270/270 - 3s - 9ms/step - loss: 0.1103 - val_loss: 0.2174\n",
      "Epoch 7/1000\n",
      "270/270 - 3s - 9ms/step - loss: 0.1017 - val_loss: 0.2141\n",
      "Epoch 8/1000\n",
      "270/270 - 3s - 9ms/step - loss: 0.0901 - val_loss: 0.2184\n",
      "Epoch 9/1000\n",
      "270/270 - 2s - 9ms/step - loss: 0.0821 - val_loss: 0.2128\n",
      "Epoch 9: early stopping\n",
      "\u001b[1m68/68\u001b[0m \u001b[32m━━━━━━━━━━━━━━━━━━━━\u001b[0m\u001b[37m\u001b[0m \u001b[1m0s\u001b[0m 4ms/step\n",
      "RMSE Score: 0.4612722171846503\n"
     ]
    }
   ],
   "source": [
    "model = Sequential()\n",
    "\n",
    "model.add(Dense(500, input_dim=x.shape[1], activation='relu'))\n",
    "model.add(Dropout(0.5))\n",
    "model.add(Dense(125, activation='relu'))\n",
    "model.add(Dropout(0.3))\n",
    "model.add(Dense(1))\n",
    "\n",
    "model.compile(loss='mean_squared_error', optimizer='adam')\n",
    "\n",
    "# Early exit\n",
    "monitor = EarlyStopping(monitor='val_loss', min_delta=0, patience=5, verbose=1, mode='auto')\n",
    "model.fit(x_train, y_train, validation_data=(x_test,y_test), callbacks=[monitor], verbose=2, epochs=1000)\n",
    "\n",
    "print_rsme(model, x_test, y_test)"
   ]
  },
  {
   "cell_type": "code",
   "execution_count": null,
   "id": "f464dedd",
   "metadata": {},
   "outputs": [],
   "source": []
  }
 ],
 "metadata": {
  "kernelspec": {
   "display_name": "base",
   "language": "python",
   "name": "python3"
  },
  "language_info": {
   "codemirror_mode": {
    "name": "ipython",
    "version": 3
   },
   "file_extension": ".py",
   "mimetype": "text/x-python",
   "name": "python",
   "nbconvert_exporter": "python",
   "pygments_lexer": "ipython3",
   "version": "3.13.5"
  }
 },
 "nbformat": 4,
 "nbformat_minor": 5
}
