{
 "cells": [
  {
   "cell_type": "markdown",
   "id": "1948d138",
   "metadata": {},
   "source": [
    "## Yelp Rating Prediction FCNN\n",
    "\n",
    "Author: Rahul Gupta\n",
    "\n",
    "Goal of the project is to develop an FCNN (Fully Connected Neural Network) to predict Yelp rating scores based on the text data from user-written reviews."
   ]
  },
  {
   "cell_type": "markdown",
   "id": "7c6ac496",
   "metadata": {},
   "source": [
    "### Data Loading\n",
    "Need to first load, understand, and preprocess data for the neural network."
   ]
  },
  {
   "cell_type": "code",
   "execution_count": 31,
   "id": "96d89bb3",
   "metadata": {},
   "outputs": [],
   "source": [
    "import numpy as np\n",
    "import pandas as pd\n",
    "\n",
    "# Starter code\n",
    "review = pd.read_json('./data/yelp_academic_dataset_review.json', lines=True, nrows= 1000000)\n",
    "business = pd.read_json('./data/yelp_academic_dataset_business.json', lines=True, nrows= 1000000)"
   ]
  },
  {
   "cell_type": "code",
   "execution_count": 33,
   "id": "c6aa5775",
   "metadata": {},
   "outputs": [
    {
     "name": "stdout",
     "output_type": "stream",
     "text": [
      "(1000000, 9)\n"
     ]
    }
   ],
   "source": [
    "review.dropna(inplace=True)\n",
    "review.head()\n",
    "print(review.shape)"
   ]
  },
  {
   "cell_type": "code",
   "execution_count": 34,
   "id": "2c31b205",
   "metadata": {},
   "outputs": [
    {
     "name": "stdout",
     "output_type": "stream",
     "text": [
      "(117618, 14)\n"
     ]
    }
   ],
   "source": [
    "business.dropna(inplace=True)\n",
    "business.head()\n",
    "print(business.shape)"
   ]
  },
  {
   "cell_type": "code",
   "execution_count": 35,
   "id": "659f0420",
   "metadata": {},
   "outputs": [],
   "source": [
    "# Drop businesses with less than 20 reviews\n",
    "business_to_drop = business[business['review_count'] < 20]\n",
    "business_to_drop.head()\n",
    "\n",
    "# Remove reviews for businesses that are being dropped\n",
    "review_filtered = review[review['business_id'].isin(business_to_drop['business_id']) == False]"
   ]
  },
  {
   "cell_type": "markdown",
   "id": "d7f8f95a",
   "metadata": {},
   "source": [
    "### First Approach - Group all reviews\n",
    "Join the tables together such that we have a business and all the reviews for each business in one row.\n",
    "\n",
    "We'll use TFIDF on all the reviews for a business to predict the business's rating."
   ]
  },
  {
   "cell_type": "code",
   "execution_count": 36,
   "id": "3b490be8",
   "metadata": {},
   "outputs": [],
   "source": [
    "df_review_agg = review_filtered.groupby('business_id')['text'].sum()\n",
    "df_ready_for_sklearn = pd.DataFrame({\n",
    "    'business_id': df_review_agg.index, \n",
    "    'all_reviews': df_review_agg.values\n",
    "    })"
   ]
  },
  {
   "cell_type": "code",
   "execution_count": 37,
   "id": "d8d5eda7",
   "metadata": {},
   "outputs": [
    {
     "name": "stdout",
     "output_type": "stream",
     "text": [
      "(16475, 2)\n"
     ]
    },
    {
     "data": {
      "text/html": [
       "<div>\n",
       "<style scoped>\n",
       "    .dataframe tbody tr th:only-of-type {\n",
       "        vertical-align: middle;\n",
       "    }\n",
       "\n",
       "    .dataframe tbody tr th {\n",
       "        vertical-align: top;\n",
       "    }\n",
       "\n",
       "    .dataframe thead th {\n",
       "        text-align: right;\n",
       "    }\n",
       "</style>\n",
       "<table border=\"1\" class=\"dataframe\">\n",
       "  <thead>\n",
       "    <tr style=\"text-align: right;\">\n",
       "      <th></th>\n",
       "      <th>business_id</th>\n",
       "      <th>all_reviews</th>\n",
       "    </tr>\n",
       "  </thead>\n",
       "  <tbody>\n",
       "    <tr>\n",
       "      <th>0</th>\n",
       "      <td>--ZVrH2X2QXBFdCilbirsw</td>\n",
       "      <td>This place is sadly perm closed. I was hoping ...</td>\n",
       "    </tr>\n",
       "    <tr>\n",
       "      <th>1</th>\n",
       "      <td>--_9CAxgfXZmoFdNIRrhHA</td>\n",
       "      <td>It's a huge place. There's P.O. boxes big enou...</td>\n",
       "    </tr>\n",
       "    <tr>\n",
       "      <th>2</th>\n",
       "      <td>--sXnWH9Xm6_NvIjyuA99w</td>\n",
       "      <td>Ich war das erste mal in Philadelphia und ich ...</td>\n",
       "    </tr>\n",
       "    <tr>\n",
       "      <th>3</th>\n",
       "      <td>-02xFuruu85XmDn2xiynJw</td>\n",
       "      <td>Dr. Curtis Dechant has an excellent chair-side...</td>\n",
       "    </tr>\n",
       "    <tr>\n",
       "      <th>4</th>\n",
       "      <td>-06OYKiIzxsdymBMDAKZug</td>\n",
       "      <td>Had catalytic converters replaced on our Subur...</td>\n",
       "    </tr>\n",
       "  </tbody>\n",
       "</table>\n",
       "</div>"
      ],
      "text/plain": [
       "              business_id                                        all_reviews\n",
       "0  --ZVrH2X2QXBFdCilbirsw  This place is sadly perm closed. I was hoping ...\n",
       "1  --_9CAxgfXZmoFdNIRrhHA  It's a huge place. There's P.O. boxes big enou...\n",
       "2  --sXnWH9Xm6_NvIjyuA99w  Ich war das erste mal in Philadelphia und ich ...\n",
       "3  -02xFuruu85XmDn2xiynJw  Dr. Curtis Dechant has an excellent chair-side...\n",
       "4  -06OYKiIzxsdymBMDAKZug  Had catalytic converters replaced on our Subur..."
      ]
     },
     "execution_count": 37,
     "metadata": {},
     "output_type": "execute_result"
    }
   ],
   "source": [
    "print(df_ready_for_sklearn.shape)\n",
    "df_ready_for_sklearn.head()"
   ]
  },
  {
   "cell_type": "code",
   "execution_count": null,
   "id": "f2011685",
   "metadata": {},
   "outputs": [],
   "source": [
    "import sklearn.feature_extraction.text as sk_text\n",
    "\n"
   ]
  }
 ],
 "metadata": {
  "kernelspec": {
   "display_name": "base",
   "language": "python",
   "name": "python3"
  },
  "language_info": {
   "codemirror_mode": {
    "name": "ipython",
    "version": 3
   },
   "file_extension": ".py",
   "mimetype": "text/x-python",
   "name": "python",
   "nbconvert_exporter": "python",
   "pygments_lexer": "ipython3",
   "version": "3.13.5"
  }
 },
 "nbformat": 4,
 "nbformat_minor": 5
}
